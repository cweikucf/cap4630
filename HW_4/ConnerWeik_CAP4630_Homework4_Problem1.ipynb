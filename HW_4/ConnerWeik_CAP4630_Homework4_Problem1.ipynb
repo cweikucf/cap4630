{
  "nbformat": 4,
  "nbformat_minor": 0,
  "metadata": {
    "colab": {
      "name": "ConnerWeik_CAP4630_Homework4_Problem1.ipynb",
      "provenance": [],
      "collapsed_sections": [],
      "authorship_tag": "ABX9TyNZhFloTZxfgB00YlGIaG+3",
      "include_colab_link": true
    },
    "kernelspec": {
      "name": "python3",
      "display_name": "Python 3"
    }
  },
  "cells": [
    {
      "cell_type": "markdown",
      "metadata": {
        "id": "view-in-github",
        "colab_type": "text"
      },
      "source": [
        "<a href=\"https://colab.research.google.com/github/cweikucf/cap4630/blob/master/HW_4/ConnerWeik_CAP4630_Homework4_Problem1.ipynb\" target=\"_parent\"><img src=\"https://colab.research.google.com/assets/colab-badge.svg\" alt=\"Open In Colab\"/></a>"
      ]
    },
    {
      "cell_type": "markdown",
      "metadata": {
        "id": "ieBdKJi_c8fN",
        "colab_type": "text"
      },
      "source": [
        "# Conner Weik\n",
        "# CAP 4630, Spring 2020\n",
        "# Homework 4\n",
        "# Problem 1\n",
        "If something doesn't work, please try doing run all or let me know. Thanks!"
      ]
    },
    {
      "cell_type": "markdown",
      "metadata": {
        "id": "t14sle7nvCBP",
        "colab_type": "text"
      },
      "source": [
        "# Imports and stuff"
      ]
    },
    {
      "cell_type": "code",
      "metadata": {
        "id": "gZunoM2Q2h72",
        "colab_type": "code",
        "colab": {}
      },
      "source": [
        "import numpy as np"
      ],
      "execution_count": 0,
      "outputs": []
    },
    {
      "cell_type": "markdown",
      "metadata": {
        "id": "Q2TpsZGo75u9",
        "colab_type": "text"
      },
      "source": [
        "Custom error classes"
      ]
    },
    {
      "cell_type": "code",
      "metadata": {
        "id": "XKG5JhjKuVEz",
        "colab_type": "code",
        "colab": {}
      },
      "source": [
        "class NonSquareMatrixError(Exception):\n",
        "  pass\n",
        "class TooBigKernelError(Exception):\n",
        "  pass\n",
        "class EmptyMatrixError(Exception):\n",
        "  pass"
      ],
      "execution_count": 0,
      "outputs": []
    },
    {
      "cell_type": "markdown",
      "metadata": {
        "id": "GKsqbefB7zxR",
        "colab_type": "text"
      },
      "source": [
        "# The conv2d function"
      ]
    },
    {
      "cell_type": "code",
      "metadata": {
        "id": "eQRW5tYZAJ5C",
        "colab_type": "code",
        "colab": {}
      },
      "source": [
        "def conv2d(input_mat, kernel_mat):\n",
        "  input_rows = input_mat.shape[0]\n",
        "  input_cols = input_mat.shape[1]\n",
        "  kernel_rows = kernel_mat.shape[0]\n",
        "  kernel_cols = kernel_mat.shape[1]\n",
        "  \n",
        "  # Errors: Any of the following should raise an error.\n",
        "  # - one or both of the matrices is non-square\n",
        "  # - one or both of the matrices is empty\n",
        "  # - the kernel is larger than the input matrix.\n",
        "  if input_rows != input_cols and kernel_rows != kernel_cols:\n",
        "    raise NonSquareMatrixError('Both matrices are non square. The input matrix is {} by {} and the kernel matrix is {} by {}'.format(input_rows, input_cols, kernel_rows, kernel_cols))\n",
        "  elif input_rows != input_cols:\n",
        "    raise NonSquareMatrixError('The input matrix is non square. It has shape ({}, {})'.format(input_rows, input_cols))\n",
        "  elif kernel_rows != kernel_cols:\n",
        "    raise NonSquareMatrixError('The kernel matrix is non square. It has shape ({}, {})'.format(kernel_rows, kernel_cols))\n",
        "  elif input_rows == 0 and kernel_rows == 0:\n",
        "    raise EmptyMatrixError('Both matrices are empty.')\n",
        "  elif input_rows == 0:\n",
        "    raise EmtpyMatrixError('The input matrix is empty.')\n",
        "  elif kernel_rows == 0:\n",
        "    raise EmptyMatrixError('The kernel matrix is empty.')\n",
        "  elif kernel_rows > input_rows:\n",
        "    raise TooBigKernelError('The kernel matrix is larger than the input matrix. The input matrix is {} by {} and the kernel matrix is {} by {}'.format(input_rows, input_cols, kernel_rows, kernel_cols))\n",
        "\n",
        "  # Flip the kernel.\n",
        "  flipped_kernel = np.zeros((kernel_rows, kernel_rows))\n",
        "  for i in range(kernel_rows):\n",
        "    for j in range(kernel_rows):\n",
        "      flipped_kernel[i][j] = kernel_mat[kernel_rows-1-i][kernel_rows-1-j]\n",
        "  \n",
        "  # Create the output matrix.\n",
        "  output_mat = np.zeros((input_rows - kernel_rows + 1, input_cols - kernel_cols + 1))\n",
        "\n",
        "  # Fill the output matrix with the convolution.\n",
        "  for i in range(input_rows - kernel_rows + 1):\n",
        "    for j in range(input_rows - kernel_rows + 1):\n",
        "      output_mat[i][j] = np.sum(np.multiply(input_mat[i: i+kernel_rows, j:j+kernel_rows], flipped_kernel))\n",
        "  return output_mat"
      ],
      "execution_count": 0,
      "outputs": []
    },
    {
      "cell_type": "markdown",
      "metadata": {
        "id": "LYgcVJmbucX4",
        "colab_type": "text"
      },
      "source": [
        "# Sources / Links across all 3 problems"
      ]
    },
    {
      "cell_type": "markdown",
      "metadata": {
        "id": "GNOevchsufOA",
        "colab_type": "text"
      },
      "source": [
        "https://www.programiz.com/python-programming/user-defined-exception\n",
        "\n",
        "https://towardsdatascience.com/intuitively-understanding-convolutions-for-deep-learning-1f6f42faee1\n",
        "\n",
        "https://stackoverflow.com/questions/50670920/how-to-insert-an-inline-image-in-google-colaboratory-from-google-drive\n",
        "\n"
      ]
    }
  ]
}