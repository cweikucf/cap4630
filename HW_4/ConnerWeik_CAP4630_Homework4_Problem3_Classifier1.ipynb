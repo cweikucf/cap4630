{
  "nbformat": 4,
  "nbformat_minor": 0,
  "metadata": {
    "colab": {
      "name": "ConnerWeik_CAP4630_Homework4_Problem3_Classifier1.ipynb",
      "provenance": [],
      "collapsed_sections": [],
      "include_colab_link": true
    },
    "kernelspec": {
      "name": "python3",
      "display_name": "Python 3"
    },
    "accelerator": "GPU"
  },
  "cells": [
    {
      "cell_type": "markdown",
      "metadata": {
        "id": "view-in-github",
        "colab_type": "text"
      },
      "source": [
        "<a href=\"https://colab.research.google.com/github/cweikucf/cap4630/blob/master/HW_4/ConnerWeik_CAP4630_Homework4_Problem3_Classifier1.ipynb\" target=\"_parent\"><img src=\"https://colab.research.google.com/assets/colab-badge.svg\" alt=\"Open In Colab\"/></a>"
      ]
    },
    {
      "cell_type": "markdown",
      "metadata": {
        "id": "F5GClgRtnfBD",
        "colab_type": "text"
      },
      "source": [
        "# Conner Weik\n",
        "# CAP 4630, Spring 2020\n",
        "# Homework 4, Problem 3\n",
        "# Classifier 1\n",
        "If something doesn't work, please try doing run all or let me know. Thanks!"
      ]
    },
    {
      "cell_type": "markdown",
      "metadata": {
        "id": "NwO_hpqewcnb",
        "colab_type": "text"
      },
      "source": [
        "For both classifiers, I will be using InceptionV3 as the conv base, and I will be unfreezing the top 30 layers of the conv base, that is, the layer named batch_normalization_90 and all layers above it.\n",
        "\n",
        "For this classifier, I will use the following layers, added in the following order:\n",
        "\n",
        "Flatten()\n",
        "\n",
        "Dense(256, activation='relu')\n",
        "\n",
        "Dense(4, activation='relu')\n",
        "\n",
        "Dense(1, activation='sigmoid')\n",
        "\n",
        "\n",
        "For both classifiers, I will be using 20 epochs for the pre-fine-tuning training and 20 epochs for the fine-tuning."
      ]
    },
    {
      "cell_type": "markdown",
      "metadata": {
        "id": "Q8UsoS30xg_G",
        "colab_type": "text"
      },
      "source": [
        "# Imports and stuff"
      ]
    },
    {
      "cell_type": "code",
      "metadata": {
        "id": "x5vpHO4axnDZ",
        "colab_type": "code",
        "colab": {}
      },
      "source": [
        "import os\n",
        "import zipfile\n",
        "from keras.applications import InceptionV3\n",
        "from keras import layers\n",
        "from keras import models\n",
        "from keras import optimizers\n"
      ],
      "execution_count": 0,
      "outputs": []
    },
    {
      "cell_type": "markdown",
      "metadata": {
        "id": "nsBq__dVo2pj",
        "colab_type": "text"
      },
      "source": [
        "## Feature extraction"
      ]
    },
    {
      "cell_type": "markdown",
      "metadata": {
        "id": "0g6ETAM9o54M",
        "colab_type": "text"
      },
      "source": [
        "Feature extraction consists of using the representations learned by a previous network to extract interesting features from new samples. These features are then run through a new classifier, which is trained from scratch.\n",
        "\n",
        "We will use here the convolutional base of the VGG16 model to extract the features. We will feed these features to a densely connected classifier with dropout. We will fine-tune some layers."
      ]
    },
    {
      "cell_type": "markdown",
      "metadata": {
        "id": "BqIG8QHMLNOn",
        "colab_type": "text"
      },
      "source": [
        "## Download the data"
      ]
    },
    {
      "cell_type": "markdown",
      "metadata": {
        "id": "t3I1jd7cKV6_",
        "colab_type": "text"
      },
      "source": [
        "Download the example data as in the original notebook.\n",
        "\n"
      ]
    },
    {
      "cell_type": "code",
      "metadata": {
        "id": "JWjprHEXJ5Qi",
        "colab_type": "code",
        "outputId": "ad18a4eb-2476-4f83-84ec-7ba3bac3f817",
        "colab": {
          "base_uri": "https://localhost:8080/",
          "height": 204
        }
      },
      "source": [
        "!wget --no-check-certificate \\\n",
        "    https://storage.googleapis.com/mledu-datasets/cats_and_dogs_filtered.zip \\\n",
        "    -O /tmp/cats_and_dogs_filtered.zip"
      ],
      "execution_count": 0,
      "outputs": [
        {
          "output_type": "stream",
          "text": [
            "--2020-04-22 01:50:36--  https://storage.googleapis.com/mledu-datasets/cats_and_dogs_filtered.zip\n",
            "Resolving storage.googleapis.com (storage.googleapis.com)... 172.217.11.176, 2607:f8b0:4007:802::2010\n",
            "Connecting to storage.googleapis.com (storage.googleapis.com)|172.217.11.176|:443... connected.\n",
            "HTTP request sent, awaiting response... 200 OK\n",
            "Length: 68606236 (65M) [application/zip]\n",
            "Saving to: ‘/tmp/cats_and_dogs_filtered.zip’\n",
            "\n",
            "/tmp/cats_and_dogs_ 100%[===================>]  65.43M   132MB/s    in 0.5s    \n",
            "\n",
            "2020-04-22 01:50:37 (132 MB/s) - ‘/tmp/cats_and_dogs_filtered.zip’ saved [68606236/68606236]\n",
            "\n"
          ],
          "name": "stdout"
        }
      ]
    },
    {
      "cell_type": "code",
      "metadata": {
        "id": "WvoHtdA-K6Rw",
        "colab_type": "code",
        "colab": {}
      },
      "source": [
        "local_zip = '/tmp/cats_and_dogs_filtered.zip'\n",
        "zip_ref = zipfile.ZipFile(local_zip, 'r')\n",
        "zip_ref.extractall('/tmp')\n",
        "zip_ref.close()"
      ],
      "execution_count": 0,
      "outputs": []
    },
    {
      "cell_type": "code",
      "metadata": {
        "id": "dL8ikM89LlsH",
        "colab_type": "code",
        "colab": {}
      },
      "source": [
        "base_dir = '/tmp/cats_and_dogs_filtered'\n",
        "train_dir = os.path.join(base_dir, 'train')\n",
        "validation_dir = os.path.join(base_dir, 'validation')\n",
        "\n",
        "# Directory with our training cat pictures\n",
        "train_cats_dir = os.path.join(train_dir, 'cats')\n",
        "\n",
        "# Directory with our training dog pictures\n",
        "train_dogs_dir = os.path.join(train_dir, 'dogs')\n",
        "\n",
        "# Directory with our validation cat pictures\n",
        "validation_cats_dir = os.path.join(validation_dir, 'cats')\n",
        "\n",
        "# Directory with our validation dog pictures\n",
        "validation_dogs_dir = os.path.join(validation_dir, 'dogs')"
      ],
      "execution_count": 0,
      "outputs": []
    },
    {
      "cell_type": "markdown",
      "metadata": {
        "id": "inyP8bcdXnn-",
        "colab_type": "text"
      },
      "source": [
        "## Build network with InceptionV3 convolution base and custom densely connected layers"
      ]
    },
    {
      "cell_type": "markdown",
      "metadata": {
        "id": "kQ48W5T9rHWu",
        "colab_type": "text"
      },
      "source": [
        "### Load the convolutional base"
      ]
    },
    {
      "cell_type": "code",
      "metadata": {
        "id": "Y0FgtANCXm_H",
        "colab_type": "code",
        "colab": {}
      },
      "source": [
        "from keras.applications import InceptionV3\n",
        "\n",
        "conv_base = InceptionV3(\n",
        "    weights='imagenet', \n",
        "    include_top=False, \n",
        "    input_shape=(150, 150, 3))"
      ],
      "execution_count": 0,
      "outputs": []
    },
    {
      "cell_type": "markdown",
      "metadata": {
        "id": "D6OBHOO9q1ou",
        "colab_type": "text"
      },
      "source": [
        "### Freeze the convolutional base"
      ]
    },
    {
      "cell_type": "code",
      "metadata": {
        "id": "UleRo4Dpq6Ld",
        "colab_type": "code",
        "colab": {}
      },
      "source": [
        "conv_base.trainable = False"
      ],
      "execution_count": 0,
      "outputs": []
    },
    {
      "cell_type": "markdown",
      "metadata": {
        "id": "Qfx6PqhPrb7Q",
        "colab_type": "text"
      },
      "source": [
        "### Concatenate the convolutional base and densely connected layers"
      ]
    },
    {
      "cell_type": "code",
      "metadata": {
        "id": "qUpmocDAO3xm",
        "colab_type": "code",
        "colab": {}
      },
      "source": [
        "from keras import layers\n",
        "from keras import models\n",
        "from keras import optimizers\n",
        "\n",
        "model = models.Sequential()\n",
        "model.add(conv_base)\n",
        "model.add(layers.Flatten())\n",
        "model.add(layers.Dense(256, activation='relu'))\n",
        "model.add(layers.Dense(4, activation='relu'))\n",
        "model.add(layers.Dense(1, activation='sigmoid'))"
      ],
      "execution_count": 0,
      "outputs": []
    },
    {
      "cell_type": "code",
      "metadata": {
        "id": "Fh6gZSeAjF7c",
        "colab_type": "code",
        "outputId": "5f3cc42f-aa1a-46b0-ca15-255fc895476e",
        "colab": {
          "base_uri": "https://localhost:8080/",
          "height": 323
        }
      },
      "source": [
        "model.summary()"
      ],
      "execution_count": 0,
      "outputs": [
        {
          "output_type": "stream",
          "text": [
            "Model: \"sequential_2\"\n",
            "_________________________________________________________________\n",
            "Layer (type)                 Output Shape              Param #   \n",
            "=================================================================\n",
            "inception_v3 (Model)         (None, 3, 3, 2048)        21802784  \n",
            "_________________________________________________________________\n",
            "flatten_2 (Flatten)          (None, 18432)             0         \n",
            "_________________________________________________________________\n",
            "dense_4 (Dense)              (None, 256)               4718848   \n",
            "_________________________________________________________________\n",
            "dense_5 (Dense)              (None, 4)                 1028      \n",
            "_________________________________________________________________\n",
            "dense_6 (Dense)              (None, 1)                 5         \n",
            "=================================================================\n",
            "Total params: 26,522,665\n",
            "Trainable params: 4,719,881\n",
            "Non-trainable params: 21,802,784\n",
            "_________________________________________________________________\n"
          ],
          "name": "stdout"
        }
      ]
    },
    {
      "cell_type": "markdown",
      "metadata": {
        "id": "eZjBiddhi5Qj",
        "colab_type": "text"
      },
      "source": [
        "## Train the model end to end with frozen convolutional base"
      ]
    },
    {
      "cell_type": "code",
      "metadata": {
        "id": "tfAQlC2Oi41L",
        "colab_type": "code",
        "outputId": "4e3c48a4-6eb5-4c38-b053-28d7e98b0bd2",
        "colab": {
          "base_uri": "https://localhost:8080/",
          "height": 731
        }
      },
      "source": [
        "from keras.preprocessing.image import ImageDataGenerator\n",
        "from keras import optimizers\n",
        "\n",
        "# data augmentation\n",
        "\n",
        "train_datagen = ImageDataGenerator(\n",
        "    rescale=1./255, \n",
        "    rotation_range=40,\n",
        "    width_shift_range=0.2,\n",
        "    height_shift_range=0.2,\n",
        "    shear_range=0.2,\n",
        "    zoom_range=0.2,\n",
        "    horizontal_flip=True,\n",
        "    fill_mode='nearest'\n",
        ")\n",
        "\n",
        "train_generator = train_datagen.flow_from_directory(\n",
        "    train_dir,\n",
        "    target_size=(150, 150),\n",
        "    batch_size=20,\n",
        "    class_mode='binary')\n",
        "\n",
        "validation_datagen = ImageDataGenerator(rescale=1./255)\n",
        "\n",
        "validation_generator = validation_datagen.flow_from_directory(\n",
        "    validation_dir,\n",
        "    target_size=(150, 150),\n",
        "    batch_size=20,\n",
        "    class_mode='binary')\n",
        "\n",
        "# compile model\n",
        "\n",
        "model.compile(\n",
        "    loss='binary_crossentropy', \n",
        "    optimizer=optimizers.RMSprop(lr=2e-5), \n",
        "    metrics=['acc'])\n",
        "\n",
        "# train\n",
        "\n",
        "history = model.fit_generator(\n",
        "    train_generator,\n",
        "    steps_per_epoch=100,\n",
        "    epochs=20,\n",
        "    validation_data=validation_generator,\n",
        "    validation_steps=50\n",
        ")"
      ],
      "execution_count": 0,
      "outputs": [
        {
          "output_type": "stream",
          "text": [
            "Found 2000 images belonging to 2 classes.\n",
            "Found 1000 images belonging to 2 classes.\n",
            "Epoch 1/20\n",
            "100/100 [==============================] - 23s 227ms/step - loss: 0.5889 - acc: 0.6735 - val_loss: 0.1408 - val_acc: 0.9200\n",
            "Epoch 2/20\n",
            "100/100 [==============================] - 18s 177ms/step - loss: 0.5049 - acc: 0.7515 - val_loss: 0.2094 - val_acc: 0.8900\n",
            "Epoch 3/20\n",
            "100/100 [==============================] - 18s 178ms/step - loss: 0.4668 - acc: 0.7675 - val_loss: 0.1173 - val_acc: 0.9380\n",
            "Epoch 4/20\n",
            "100/100 [==============================] - 18s 176ms/step - loss: 0.4438 - acc: 0.7880 - val_loss: 0.3683 - val_acc: 0.9380\n",
            "Epoch 5/20\n",
            "100/100 [==============================] - 18s 178ms/step - loss: 0.4272 - acc: 0.7935 - val_loss: 1.4210 - val_acc: 0.8710\n",
            "Epoch 6/20\n",
            "100/100 [==============================] - 18s 179ms/step - loss: 0.4238 - acc: 0.8030 - val_loss: 0.0386 - val_acc: 0.9400\n",
            "Epoch 7/20\n",
            "100/100 [==============================] - 18s 178ms/step - loss: 0.4131 - acc: 0.8060 - val_loss: 0.5099 - val_acc: 0.9450\n",
            "Epoch 8/20\n",
            "100/100 [==============================] - 18s 177ms/step - loss: 0.3894 - acc: 0.8115 - val_loss: 1.0514 - val_acc: 0.9370\n",
            "Epoch 9/20\n",
            "100/100 [==============================] - 18s 177ms/step - loss: 0.4037 - acc: 0.8115 - val_loss: 0.5283 - val_acc: 0.9420\n",
            "Epoch 10/20\n",
            "100/100 [==============================] - 18s 179ms/step - loss: 0.4042 - acc: 0.8180 - val_loss: 1.2735 - val_acc: 0.9400\n",
            "Epoch 11/20\n",
            "100/100 [==============================] - 18s 177ms/step - loss: 0.4125 - acc: 0.8155 - val_loss: 0.1569 - val_acc: 0.9400\n",
            "Epoch 12/20\n",
            "100/100 [==============================] - 18s 178ms/step - loss: 0.3910 - acc: 0.8175 - val_loss: 0.0324 - val_acc: 0.9440\n",
            "Epoch 13/20\n",
            "100/100 [==============================] - 18s 177ms/step - loss: 0.3874 - acc: 0.8200 - val_loss: 0.4400 - val_acc: 0.9380\n",
            "Epoch 14/20\n",
            "100/100 [==============================] - 18s 179ms/step - loss: 0.3743 - acc: 0.8285 - val_loss: 0.1355 - val_acc: 0.9420\n",
            "Epoch 15/20\n",
            "100/100 [==============================] - 18s 178ms/step - loss: 0.3991 - acc: 0.8090 - val_loss: 0.4565 - val_acc: 0.9070\n",
            "Epoch 16/20\n",
            "100/100 [==============================] - 18s 177ms/step - loss: 0.3837 - acc: 0.8305 - val_loss: 0.0119 - val_acc: 0.9500\n",
            "Epoch 17/20\n",
            "100/100 [==============================] - 18s 178ms/step - loss: 0.3730 - acc: 0.8275 - val_loss: 0.1640 - val_acc: 0.9320\n",
            "Epoch 18/20\n",
            "100/100 [==============================] - 18s 178ms/step - loss: 0.3757 - acc: 0.8195 - val_loss: 0.0303 - val_acc: 0.9470\n",
            "Epoch 19/20\n",
            "100/100 [==============================] - 18s 179ms/step - loss: 0.3716 - acc: 0.8290 - val_loss: 0.0222 - val_acc: 0.9440\n",
            "Epoch 20/20\n",
            "100/100 [==============================] - 18s 178ms/step - loss: 0.3678 - acc: 0.8310 - val_loss: 0.0442 - val_acc: 0.9310\n"
          ],
          "name": "stdout"
        }
      ]
    },
    {
      "cell_type": "markdown",
      "metadata": {
        "id": "xqRc_vHKc92U",
        "colab_type": "text"
      },
      "source": [
        "## Display curves of loss and accuracy during training"
      ]
    },
    {
      "cell_type": "code",
      "metadata": {
        "id": "ybWwdzz9bwuQ",
        "colab_type": "code",
        "outputId": "4a5b462a-391d-4825-ca0c-cb8b8111e8b4",
        "colab": {
          "base_uri": "https://localhost:8080/",
          "height": 545
        }
      },
      "source": [
        "%matplotlib inline\n",
        "\n",
        "import matplotlib.pyplot as plt\n",
        "\n",
        "acc = history.history['acc']\n",
        "val_acc = history.history['val_acc']\n",
        "\n",
        "loss = history.history['loss']\n",
        "val_loss = history.history['val_loss']\n",
        "\n",
        "epochs = range(1, len(acc) + 1)\n",
        "\n",
        "# training and validation accuracy\n",
        "\n",
        "plt.plot(epochs, acc, 'bo', label='training acc')\n",
        "plt.plot(epochs, val_acc, 'b', label='validation acc')\n",
        "plt.title('training and validation accuracy')\n",
        "plt.legend()\n",
        "\n",
        "plt.figure()\n",
        "\n",
        "# training and validation loss\n",
        "\n",
        "plt.plot(epochs, loss, 'bo', label='training loss')\n",
        "plt.plot(epochs, val_loss, 'b', label='validation loss')\n",
        "plt.title('training and validation loss')\n",
        "plt.legend()\n",
        "\n",
        "plt.show()"
      ],
      "execution_count": 0,
      "outputs": [
        {
          "output_type": "display_data",
          "data": {
            "image/png": "[encoded data removed]",
            "text/plain": [
              "<Figure size 432x288 with 1 Axes>"
            ]
          },
          "metadata": {
            "tags": [],
            "needs_background": "light"
          }
        },
        {
          "output_type": "display_data",
          "data": {
            "image/png": "[encoded data removed]",
            "text/plain": [
              "<Figure size 432x288 with 1 Axes>"
            ]
          },
          "metadata": {
            "tags": [],
            "needs_background": "light"
          }
        }
      ]
    },
    {
      "cell_type": "markdown",
      "metadata": {
        "id": "lOWsxpey8lN0",
        "colab_type": "text"
      },
      "source": [
        "## Fine-tuning"
      ]
    },
    {
      "cell_type": "markdown",
      "metadata": {
        "id": "g6SwiwtP7wpT",
        "colab_type": "text"
      },
      "source": [
        "## Show the layers of the network"
      ]
    },
    {
      "cell_type": "code",
      "metadata": {
        "id": "-Jno_n0z7zN4",
        "colab_type": "code",
        "outputId": "4e50025e-bee8-44cf-f10e-c3824977cb26",
        "colab": {
          "base_uri": "https://localhost:8080/",
          "height": 1000
        }
      },
      "source": [
        "for layer in conv_base.layers:\n",
        "  print(layer.name)"
      ],
      "execution_count": 0,
      "outputs": [
        {
          "output_type": "stream",
          "text": [
            "input_2\n",
            "conv2d_95\n",
            "batch_normalization_95\n",
            "activation_95\n",
            "conv2d_96\n",
            "batch_normalization_96\n",
            "activation_96\n",
            "conv2d_97\n",
            "batch_normalization_97\n",
            "activation_97\n",
            "max_pooling2d_5\n",
            "conv2d_98\n",
            "batch_normalization_98\n",
            "activation_98\n",
            "conv2d_99\n",
            "batch_normalization_99\n",
            "activation_99\n",
            "max_pooling2d_6\n",
            "conv2d_103\n",
            "batch_normalization_103\n",
            "activation_103\n",
            "conv2d_101\n",
            "conv2d_104\n",
            "batch_normalization_101\n",
            "batch_normalization_104\n",
            "activation_101\n",
            "activation_104\n",
            "average_pooling2d_10\n",
            "conv2d_100\n",
            "conv2d_102\n",
            "conv2d_105\n",
            "conv2d_106\n",
            "batch_normalization_100\n",
            "batch_normalization_102\n",
            "batch_normalization_105\n",
            "batch_normalization_106\n",
            "activation_100\n",
            "activation_102\n",
            "activation_105\n",
            "activation_106\n",
            "mixed0\n",
            "conv2d_110\n",
            "batch_normalization_110\n",
            "activation_110\n",
            "conv2d_108\n",
            "conv2d_111\n",
            "batch_normalization_108\n",
            "batch_normalization_111\n",
            "activation_108\n",
            "activation_111\n",
            "average_pooling2d_11\n",
            "conv2d_107\n",
            "conv2d_109\n",
            "conv2d_112\n",
            "conv2d_113\n",
            "batch_normalization_107\n",
            "batch_normalization_109\n",
            "batch_normalization_112\n",
            "batch_normalization_113\n",
            "activation_107\n",
            "activation_109\n",
            "activation_112\n",
            "activation_113\n",
            "mixed1\n",
            "conv2d_117\n",
            "batch_normalization_117\n",
            "activation_117\n",
            "conv2d_115\n",
            "conv2d_118\n",
            "batch_normalization_115\n",
            "batch_normalization_118\n",
            "activation_115\n",
            "activation_118\n",
            "average_pooling2d_12\n",
            "conv2d_114\n",
            "conv2d_116\n",
            "conv2d_119\n",
            "conv2d_120\n",
            "batch_normalization_114\n",
            "batch_normalization_116\n",
            "batch_normalization_119\n",
            "batch_normalization_120\n",
            "activation_114\n",
            "activation_116\n",
            "activation_119\n",
            "activation_120\n",
            "mixed2\n",
            "conv2d_122\n",
            "batch_normalization_122\n",
            "activation_122\n",
            "conv2d_123\n",
            "batch_normalization_123\n",
            "activation_123\n",
            "conv2d_121\n",
            "conv2d_124\n",
            "batch_normalization_121\n",
            "batch_normalization_124\n",
            "activation_121\n",
            "activation_124\n",
            "max_pooling2d_7\n",
            "mixed3\n",
            "conv2d_129\n",
            "batch_normalization_129\n",
            "activation_129\n",
            "conv2d_130\n",
            "batch_normalization_130\n",
            "activation_130\n",
            "conv2d_126\n",
            "conv2d_131\n",
            "batch_normalization_126\n",
            "batch_normalization_131\n",
            "activation_126\n",
            "activation_131\n",
            "conv2d_127\n",
            "conv2d_132\n",
            "batch_normalization_127\n",
            "batch_normalization_132\n",
            "activation_127\n",
            "activation_132\n",
            "average_pooling2d_13\n",
            "conv2d_125\n",
            "conv2d_128\n",
            "conv2d_133\n",
            "conv2d_134\n",
            "batch_normalization_125\n",
            "batch_normalization_128\n",
            "batch_normalization_133\n",
            "batch_normalization_134\n",
            "activation_125\n",
            "activation_128\n",
            "activation_133\n",
            "activation_134\n",
            "mixed4\n",
            "conv2d_139\n",
            "batch_normalization_139\n",
            "activation_139\n",
            "conv2d_140\n",
            "batch_normalization_140\n",
            "activation_140\n",
            "conv2d_136\n",
            "conv2d_141\n",
            "batch_normalization_136\n",
            "batch_normalization_141\n",
            "activation_136\n",
            "activation_141\n",
            "conv2d_137\n",
            "conv2d_142\n",
            "batch_normalization_137\n",
            "batch_normalization_142\n",
            "activation_137\n",
            "activation_142\n",
            "average_pooling2d_14\n",
            "conv2d_135\n",
            "conv2d_138\n",
            "conv2d_143\n",
            "conv2d_144\n",
            "batch_normalization_135\n",
            "batch_normalization_138\n",
            "batch_normalization_143\n",
            "batch_normalization_144\n",
            "activation_135\n",
            "activation_138\n",
            "activation_143\n",
            "activation_144\n",
            "mixed5\n",
            "conv2d_149\n",
            "batch_normalization_149\n",
            "activation_149\n",
            "conv2d_150\n",
            "batch_normalization_150\n",
            "activation_150\n",
            "conv2d_146\n",
            "conv2d_151\n",
            "batch_normalization_146\n",
            "batch_normalization_151\n",
            "activation_146\n",
            "activation_151\n",
            "conv2d_147\n",
            "conv2d_152\n",
            "batch_normalization_147\n",
            "batch_normalization_152\n",
            "activation_147\n",
            "activation_152\n",
            "average_pooling2d_15\n",
            "conv2d_145\n",
            "conv2d_148\n",
            "conv2d_153\n",
            "conv2d_154\n",
            "batch_normalization_145\n",
            "batch_normalization_148\n",
            "batch_normalization_153\n",
            "batch_normalization_154\n",
            "activation_145\n",
            "activation_148\n",
            "activation_153\n",
            "activation_154\n",
            "mixed6\n",
            "conv2d_159\n",
            "batch_normalization_159\n",
            "activation_159\n",
            "conv2d_160\n",
            "batch_normalization_160\n",
            "activation_160\n",
            "conv2d_156\n",
            "conv2d_161\n",
            "batch_normalization_156\n",
            "batch_normalization_161\n",
            "activation_156\n",
            "activation_161\n",
            "conv2d_157\n",
            "conv2d_162\n",
            "batch_normalization_157\n",
            "batch_normalization_162\n",
            "activation_157\n",
            "activation_162\n",
            "average_pooling2d_16\n",
            "conv2d_155\n",
            "conv2d_158\n",
            "conv2d_163\n",
            "conv2d_164\n",
            "batch_normalization_155\n",
            "batch_normalization_158\n",
            "batch_normalization_163\n",
            "batch_normalization_164\n",
            "activation_155\n",
            "activation_158\n",
            "activation_163\n",
            "activation_164\n",
            "mixed7\n",
            "conv2d_167\n",
            "batch_normalization_167\n",
            "activation_167\n",
            "conv2d_168\n",
            "batch_normalization_168\n",
            "activation_168\n",
            "conv2d_165\n",
            "conv2d_169\n",
            "batch_normalization_165\n",
            "batch_normalization_169\n",
            "activation_165\n",
            "activation_169\n",
            "conv2d_166\n",
            "conv2d_170\n",
            "batch_normalization_166\n",
            "batch_normalization_170\n",
            "activation_166\n",
            "activation_170\n",
            "max_pooling2d_8\n",
            "mixed8\n",
            "conv2d_175\n",
            "batch_normalization_175\n",
            "activation_175\n",
            "conv2d_172\n",
            "conv2d_176\n",
            "batch_normalization_172\n",
            "batch_normalization_176\n",
            "activation_172\n",
            "activation_176\n",
            "conv2d_173\n",
            "conv2d_174\n",
            "conv2d_177\n",
            "conv2d_178\n",
            "average_pooling2d_17\n",
            "conv2d_171\n",
            "batch_normalization_173\n",
            "batch_normalization_174\n",
            "batch_normalization_177\n",
            "batch_normalization_178\n",
            "conv2d_179\n",
            "batch_normalization_171\n",
            "activation_173\n",
            "activation_174\n",
            "activation_177\n",
            "activation_178\n",
            "batch_normalization_179\n",
            "activation_171\n",
            "mixed9_0\n",
            "concatenate_3\n",
            "activation_179\n",
            "mixed9\n",
            "conv2d_184\n",
            "batch_normalization_184\n",
            "activation_184\n",
            "conv2d_181\n",
            "conv2d_185\n",
            "batch_normalization_181\n",
            "batch_normalization_185\n",
            "activation_181\n",
            "activation_185\n",
            "conv2d_182\n",
            "conv2d_183\n",
            "conv2d_186\n",
            "conv2d_187\n",
            "average_pooling2d_18\n",
            "conv2d_180\n",
            "batch_normalization_182\n",
            "batch_normalization_183\n",
            "batch_normalization_186\n",
            "batch_normalization_187\n",
            "conv2d_188\n",
            "batch_normalization_180\n",
            "activation_182\n",
            "activation_183\n",
            "activation_186\n",
            "activation_187\n",
            "batch_normalization_188\n",
            "activation_180\n",
            "mixed9_1\n",
            "concatenate_4\n",
            "activation_188\n",
            "mixed10\n"
          ],
          "name": "stdout"
        }
      ]
    },
    {
      "cell_type": "markdown",
      "metadata": {
        "id": "fo62Z6H_2aJm",
        "colab_type": "text"
      },
      "source": [
        "I will be unfreezing the top 30 layers of the conv base, that is, the layer named batch_normalization_90 and all layers above it."
      ]
    },
    {
      "cell_type": "code",
      "metadata": {
        "id": "PwkVMx8N8qMw",
        "colab_type": "code",
        "colab": {}
      },
      "source": [
        "conv_base.trainable = True\n",
        "\n",
        "set_trainable = False\n",
        "for layer in conv_base.layers:\n",
        "  if layer.name == 'batch_normalization_90':\n",
        "    set_trainable = True\n",
        "  if set_trainable:\n",
        "    layer.trainable = True\n",
        "  else:\n",
        "    layer.trainable = False"
      ],
      "execution_count": 0,
      "outputs": []
    },
    {
      "cell_type": "code",
      "metadata": {
        "id": "DyN-J7rs9cvo",
        "colab_type": "code",
        "outputId": "60534506-f04a-4762-f5df-e5d61063bfc9",
        "colab": {
          "base_uri": "https://localhost:8080/",
          "height": 697
        }
      },
      "source": [
        "# compile model\n",
        "\n",
        "model.compile(\n",
        "    loss='binary_crossentropy',\n",
        "    optimizer=optimizers.RMSprop(lr=1e-5), \n",
        "    metrics=['acc'])\n",
        "\n",
        "# train\n",
        "\n",
        "history = model.fit_generator(\n",
        "    train_generator,\n",
        "    steps_per_epoch=100,\n",
        "    epochs=20,\n",
        "    validation_data=validation_generator,\n",
        "    validation_steps=50)"
      ],
      "execution_count": 0,
      "outputs": [
        {
          "output_type": "stream",
          "text": [
            "Epoch 1/20\n",
            "100/100 [==============================] - 24s 240ms/step - loss: 0.3511 - acc: 0.8425 - val_loss: 0.1899 - val_acc: 0.9330\n",
            "Epoch 2/20\n",
            "100/100 [==============================] - 18s 184ms/step - loss: 0.3517 - acc: 0.8405 - val_loss: 0.2305 - val_acc: 0.9150\n",
            "Epoch 3/20\n",
            "100/100 [==============================] - 18s 184ms/step - loss: 0.3534 - acc: 0.8395 - val_loss: 0.1866 - val_acc: 0.8950\n",
            "Epoch 4/20\n",
            "100/100 [==============================] - 18s 181ms/step - loss: 0.3441 - acc: 0.8505 - val_loss: 0.2610 - val_acc: 0.8910\n",
            "Epoch 5/20\n",
            "100/100 [==============================] - 18s 182ms/step - loss: 0.3396 - acc: 0.8405 - val_loss: 0.1098 - val_acc: 0.8820\n",
            "Epoch 6/20\n",
            "100/100 [==============================] - 18s 182ms/step - loss: 0.3306 - acc: 0.8440 - val_loss: 0.2226 - val_acc: 0.8890\n",
            "Epoch 7/20\n",
            "100/100 [==============================] - 18s 184ms/step - loss: 0.3654 - acc: 0.8350 - val_loss: 0.4251 - val_acc: 0.8860\n",
            "Epoch 8/20\n",
            "100/100 [==============================] - 18s 182ms/step - loss: 0.3385 - acc: 0.8530 - val_loss: 0.3381 - val_acc: 0.8690\n",
            "Epoch 9/20\n",
            "100/100 [==============================] - 18s 184ms/step - loss: 0.3394 - acc: 0.8505 - val_loss: 0.4756 - val_acc: 0.8860\n",
            "Epoch 10/20\n",
            "100/100 [==============================] - 18s 184ms/step - loss: 0.3443 - acc: 0.8410 - val_loss: 0.1397 - val_acc: 0.8910\n",
            "Epoch 11/20\n",
            "100/100 [==============================] - 18s 185ms/step - loss: 0.3346 - acc: 0.8475 - val_loss: 0.1912 - val_acc: 0.8840\n",
            "Epoch 12/20\n",
            "100/100 [==============================] - 18s 184ms/step - loss: 0.3441 - acc: 0.8375 - val_loss: 0.1314 - val_acc: 0.8870\n",
            "Epoch 13/20\n",
            "100/100 [==============================] - 18s 181ms/step - loss: 0.3429 - acc: 0.8385 - val_loss: 0.4078 - val_acc: 0.8870\n",
            "Epoch 14/20\n",
            "100/100 [==============================] - 18s 183ms/step - loss: 0.3483 - acc: 0.8450 - val_loss: 0.1543 - val_acc: 0.8890\n",
            "Epoch 15/20\n",
            "100/100 [==============================] - 18s 183ms/step - loss: 0.3351 - acc: 0.8510 - val_loss: 0.0783 - val_acc: 0.8850\n",
            "Epoch 16/20\n",
            "100/100 [==============================] - 18s 183ms/step - loss: 0.3385 - acc: 0.8475 - val_loss: 0.1429 - val_acc: 0.8860\n",
            "Epoch 17/20\n",
            "100/100 [==============================] - 18s 181ms/step - loss: 0.3299 - acc: 0.8485 - val_loss: 0.1899 - val_acc: 0.8870\n",
            "Epoch 18/20\n",
            "100/100 [==============================] - 18s 181ms/step - loss: 0.3252 - acc: 0.8510 - val_loss: 0.1493 - val_acc: 0.8900\n",
            "Epoch 19/20\n",
            "100/100 [==============================] - 18s 183ms/step - loss: 0.3355 - acc: 0.8500 - val_loss: 0.5089 - val_acc: 0.8850\n",
            "Epoch 20/20\n",
            "100/100 [==============================] - 18s 181ms/step - loss: 0.3560 - acc: 0.8350 - val_loss: 0.6206 - val_acc: 0.8700\n"
          ],
          "name": "stdout"
        }
      ]
    },
    {
      "cell_type": "markdown",
      "metadata": {
        "id": "eVBQgh5M-Rtz",
        "colab_type": "text"
      },
      "source": [
        "## Display learning curves during fine-tuning"
      ]
    },
    {
      "cell_type": "code",
      "metadata": {
        "id": "mbkIw7Ie-NP4",
        "colab_type": "code",
        "outputId": "6d7fa8a9-8f96-4ad0-a80f-e90a9d4d0756",
        "colab": {
          "base_uri": "https://localhost:8080/",
          "height": 545
        }
      },
      "source": [
        "%matplotlib inline\n",
        "\n",
        "import matplotlib.pyplot as plt\n",
        "\n",
        "acc = history.history['acc']\n",
        "val_acc = history.history['val_acc']\n",
        "\n",
        "loss = history.history['loss']\n",
        "val_loss = history.history['val_loss']\n",
        "\n",
        "epochs = range(1, len(acc) + 1)\n",
        "\n",
        "# training and validation accuracy\n",
        "\n",
        "plt.plot(epochs, acc, 'bo', label='training acc')\n",
        "plt.plot(epochs, val_acc, 'b', label='validation acc')\n",
        "plt.title('training and validation accuracy')\n",
        "plt.legend()\n",
        "\n",
        "plt.figure()\n",
        "\n",
        "# training and validation loss\n",
        "\n",
        "plt.plot(epochs, loss, 'bo', label='training loss')\n",
        "plt.plot(epochs, val_loss, 'b', label='validation loss')\n",
        "plt.title('training and validation loss')\n",
        "plt.legend()\n",
        "\n",
        "plt.show()"
      ],
      "execution_count": 0,
      "outputs": [
        {
          "output_type": "display_data",
          "data": {
            "image/png": "[encoded data removed]",
            "text/plain": [
              "<Figure size 432x288 with 1 Axes>"
            ]
          },
          "metadata": {
            "tags": [],
            "needs_background": "light"
          }
        },
        {
          "output_type": "display_data",
          "data": {
            "image/png": "[encoded data removed]",
            "text/plain": [
              "<Figure size 432x288 with 1 Axes>"
            ]
          },
          "metadata": {
            "tags": [],
            "needs_background": "light"
          }
        }
      ]
    },
    {
      "cell_type": "markdown",
      "metadata": {
        "id": "he3Nw6TOJwjx",
        "colab_type": "text"
      },
      "source": [
        "## Print out validation loss and accuracy"
      ]
    },
    {
      "cell_type": "code",
      "metadata": {
        "id": "SVQtrk7uJdhl",
        "colab_type": "code",
        "colab": {}
      },
      "source": [
        "val_loss, val_acc = model.evaluate_generator(validation_generator, steps=50)"
      ],
      "execution_count": 0,
      "outputs": []
    },
    {
      "cell_type": "code",
      "metadata": {
        "id": "HpdddLi1SUMe",
        "colab_type": "code",
        "outputId": "7ddfdac4-e676-4108-cb6a-971b0e9ef17b",
        "colab": {
          "base_uri": "https://localhost:8080/",
          "height": 51
        }
      },
      "source": [
        "print(\"Validation loss:\", val_loss)\n",
        "print(\"Validation accuracy:\", val_acc)"
      ],
      "execution_count": 0,
      "outputs": [
        {
          "output_type": "stream",
          "text": [
            "Validation loss: 0.29284992814064026\n",
            "Validation accuracy: 0.8700000047683716\n"
          ],
          "name": "stdout"
        }
      ]
    }
  ]
}