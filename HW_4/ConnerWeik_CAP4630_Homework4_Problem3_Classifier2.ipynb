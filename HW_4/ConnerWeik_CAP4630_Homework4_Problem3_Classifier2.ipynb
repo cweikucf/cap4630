{
  "nbformat": 4,
  "nbformat_minor": 0,
  "metadata": {
    "colab": {
      "name": "ConnerWeik_CAP4630_Homework4_Problem3_Classifier2.ipynb",
      "provenance": [],
      "collapsed_sections": [],
      "include_colab_link": true
    },
    "kernelspec": {
      "name": "python3",
      "display_name": "Python 3"
    },
    "accelerator": "GPU"
  },
  "cells": [
    {
      "cell_type": "markdown",
      "metadata": {
        "id": "view-in-github",
        "colab_type": "text"
      },
      "source": [
        "<a href=\"https://colab.research.google.com/github/cweikucf/cap4630/blob/master/HW_4/ConnerWeik_CAP4630_Homework4_Problem3_Classifier2.ipynb\" target=\"_parent\"><img src=\"https://colab.research.google.com/assets/colab-badge.svg\" alt=\"Open In Colab\"/></a>"
      ]
    },
    {
      "cell_type": "markdown",
      "metadata": {
        "id": "F5GClgRtnfBD",
        "colab_type": "text"
      },
      "source": [
        "# Conner Weik\n",
        "# CAP 4630, Spring 2020\n",
        "# Homework 4, Problem 3\n",
        "# Classifier 2\n",
        "If something doesn't work, please try doing run all or let me know. Thanks!"
      ]
    },
    {
      "cell_type": "markdown",
      "metadata": {
        "id": "NwO_hpqewcnb",
        "colab_type": "text"
      },
      "source": [
        "For both classifiers, I will be using InceptionV3 as the conv base, and I will be unfreezing the top 30 layers of the conv base, that is, the layer named batch_normalization_90 and all layers above it.\n",
        "\n",
        "For this classifier, I will use the following layers, added in the following order:\n",
        "\n",
        "Flatten()\n",
        "\n",
        "Dense(64, activation='relu')\n",
        "\n",
        "Dense(1, activation='sigmoid')\n",
        "\n",
        "\n",
        "For both classifiers, I will be using 20 epochs for the pre-fine-tuning training and 20 epochs for the fine-tuning."
      ]
    },
    {
      "cell_type": "markdown",
      "metadata": {
        "id": "Q8UsoS30xg_G",
        "colab_type": "text"
      },
      "source": [
        "# Imports and stuff"
      ]
    },
    {
      "cell_type": "code",
      "metadata": {
        "id": "x5vpHO4axnDZ",
        "colab_type": "code",
        "colab": {}
      },
      "source": [
        "import os\n",
        "import zipfile\n",
        "from keras.applications import InceptionV3\n",
        "from keras import layers\n",
        "from keras import models\n",
        "from keras import optimizers\n",
        "from google.colab import files\n"
      ],
      "execution_count": 0,
      "outputs": []
    },
    {
      "cell_type": "markdown",
      "metadata": {
        "id": "nsBq__dVo2pj",
        "colab_type": "text"
      },
      "source": [
        "## Feature extraction"
      ]
    },
    {
      "cell_type": "markdown",
      "metadata": {
        "id": "0g6ETAM9o54M",
        "colab_type": "text"
      },
      "source": [
        "Feature extraction consists of using the representations learned by a previous network to extract interesting features from new samples. These features are then run through a new classifier, which is trained from scratch.\n",
        "\n",
        "We will use here the convolutional base of the VGG16 model to extract the features. We will feed these features to a densely connected classifier with dropout. We will fine-tune some layers."
      ]
    },
    {
      "cell_type": "markdown",
      "metadata": {
        "id": "BqIG8QHMLNOn",
        "colab_type": "text"
      },
      "source": [
        "## Download the data"
      ]
    },
    {
      "cell_type": "markdown",
      "metadata": {
        "id": "t3I1jd7cKV6_",
        "colab_type": "text"
      },
      "source": [
        "Download the example data as in the original notebook.\n",
        "\n"
      ]
    },
    {
      "cell_type": "code",
      "metadata": {
        "id": "JWjprHEXJ5Qi",
        "colab_type": "code",
        "outputId": "43e67e46-38d0-4f5a-956d-c8602ed24323",
        "colab": {
          "base_uri": "https://localhost:8080/",
          "height": 204
        }
      },
      "source": [
        "!wget --no-check-certificate \\\n",
        "    https://storage.googleapis.com/mledu-datasets/cats_and_dogs_filtered.zip \\\n",
        "    -O /tmp/cats_and_dogs_filtered.zip"
      ],
      "execution_count": 0,
      "outputs": [
        {
          "output_type": "stream",
          "text": [
            "--2020-04-22 03:44:00--  https://storage.googleapis.com/mledu-datasets/cats_and_dogs_filtered.zip\n",
            "Resolving storage.googleapis.com (storage.googleapis.com)... 64.233.189.128, 2404:6800:4008:c04::80\n",
            "Connecting to storage.googleapis.com (storage.googleapis.com)|64.233.189.128|:443... connected.\n",
            "HTTP request sent, awaiting response... 200 OK\n",
            "Length: 68606236 (65M) [application/zip]\n",
            "Saving to: ‘/tmp/cats_and_dogs_filtered.zip’\n",
            "\n",
            "/tmp/cats_and_dogs_ 100%[===================>]  65.43M   101MB/s    in 0.6s    \n",
            "\n",
            "2020-04-22 03:44:01 (101 MB/s) - ‘/tmp/cats_and_dogs_filtered.zip’ saved [68606236/68606236]\n",
            "\n"
          ],
          "name": "stdout"
        }
      ]
    },
    {
      "cell_type": "code",
      "metadata": {
        "id": "WvoHtdA-K6Rw",
        "colab_type": "code",
        "colab": {}
      },
      "source": [
        "local_zip = '/tmp/cats_and_dogs_filtered.zip'\n",
        "zip_ref = zipfile.ZipFile(local_zip, 'r')\n",
        "zip_ref.extractall('/tmp')\n",
        "zip_ref.close()"
      ],
      "execution_count": 0,
      "outputs": []
    },
    {
      "cell_type": "code",
      "metadata": {
        "id": "dL8ikM89LlsH",
        "colab_type": "code",
        "colab": {}
      },
      "source": [
        "base_dir = '/tmp/cats_and_dogs_filtered'\n",
        "train_dir = os.path.join(base_dir, 'train')\n",
        "validation_dir = os.path.join(base_dir, 'validation')\n",
        "\n",
        "# Directory with our training cat pictures\n",
        "train_cats_dir = os.path.join(train_dir, 'cats')\n",
        "\n",
        "# Directory with our training dog pictures\n",
        "train_dogs_dir = os.path.join(train_dir, 'dogs')\n",
        "\n",
        "# Directory with our validation cat pictures\n",
        "validation_cats_dir = os.path.join(validation_dir, 'cats')\n",
        "\n",
        "# Directory with our validation dog pictures\n",
        "validation_dogs_dir = os.path.join(validation_dir, 'dogs')"
      ],
      "execution_count": 0,
      "outputs": []
    },
    {
      "cell_type": "markdown",
      "metadata": {
        "id": "inyP8bcdXnn-",
        "colab_type": "text"
      },
      "source": [
        "## Build network with InceptionV3 convolution base and custom densely connected layers"
      ]
    },
    {
      "cell_type": "markdown",
      "metadata": {
        "id": "kQ48W5T9rHWu",
        "colab_type": "text"
      },
      "source": [
        "### Load the convolutional base"
      ]
    },
    {
      "cell_type": "code",
      "metadata": {
        "id": "Y0FgtANCXm_H",
        "colab_type": "code",
        "colab": {}
      },
      "source": [
        "from keras.applications import InceptionV3\n",
        "\n",
        "conv_base = InceptionV3(\n",
        "    weights='imagenet', \n",
        "    include_top=False, \n",
        "    input_shape=(150, 150, 3))"
      ],
      "execution_count": 0,
      "outputs": []
    },
    {
      "cell_type": "markdown",
      "metadata": {
        "id": "D6OBHOO9q1ou",
        "colab_type": "text"
      },
      "source": [
        "### Freeze the convolutional base"
      ]
    },
    {
      "cell_type": "code",
      "metadata": {
        "id": "UleRo4Dpq6Ld",
        "colab_type": "code",
        "colab": {}
      },
      "source": [
        "conv_base.trainable = False"
      ],
      "execution_count": 0,
      "outputs": []
    },
    {
      "cell_type": "markdown",
      "metadata": {
        "id": "Qfx6PqhPrb7Q",
        "colab_type": "text"
      },
      "source": [
        "### Concatenate the convolutional base and densely connected layers"
      ]
    },
    {
      "cell_type": "code",
      "metadata": {
        "id": "qUpmocDAO3xm",
        "colab_type": "code",
        "colab": {}
      },
      "source": [
        "from keras import layers\n",
        "from keras import models\n",
        "from keras import optimizers\n",
        "\n",
        "model = models.Sequential()\n",
        "model.add(conv_base)\n",
        "model.add(layers.Flatten())\n",
        "model.add(layers.Dense(64, activation='relu'))\n",
        "model.add(layers.Dense(1, activation='sigmoid'))"
      ],
      "execution_count": 0,
      "outputs": []
    },
    {
      "cell_type": "code",
      "metadata": {
        "id": "Fh6gZSeAjF7c",
        "colab_type": "code",
        "outputId": "5bc1ae65-3c22-464c-ac57-a33fa0d83bb4",
        "colab": {
          "base_uri": "https://localhost:8080/",
          "height": 289
        }
      },
      "source": [
        "model.summary()"
      ],
      "execution_count": 0,
      "outputs": [
        {
          "output_type": "stream",
          "text": [
            "Model: \"sequential_6\"\n",
            "_________________________________________________________________\n",
            "Layer (type)                 Output Shape              Param #   \n",
            "=================================================================\n",
            "inception_v3 (Model)         (None, 3, 3, 2048)        21802784  \n",
            "_________________________________________________________________\n",
            "flatten_6 (Flatten)          (None, 18432)             0         \n",
            "_________________________________________________________________\n",
            "dense_12 (Dense)             (None, 64)                1179712   \n",
            "_________________________________________________________________\n",
            "dense_13 (Dense)             (None, 1)                 65        \n",
            "=================================================================\n",
            "Total params: 22,982,561\n",
            "Trainable params: 1,179,777\n",
            "Non-trainable params: 21,802,784\n",
            "_________________________________________________________________\n"
          ],
          "name": "stdout"
        }
      ]
    },
    {
      "cell_type": "markdown",
      "metadata": {
        "id": "eZjBiddhi5Qj",
        "colab_type": "text"
      },
      "source": [
        "## Train the model end to end with frozen convolutional base"
      ]
    },
    {
      "cell_type": "code",
      "metadata": {
        "id": "tfAQlC2Oi41L",
        "colab_type": "code",
        "outputId": "5bed54bf-daa5-4c7e-c4ed-547ccfedddaf",
        "colab": {
          "base_uri": "https://localhost:8080/",
          "height": 731
        }
      },
      "source": [
        "from keras.preprocessing.image import ImageDataGenerator\n",
        "from keras import optimizers\n",
        "\n",
        "# data augmentation\n",
        "\n",
        "train_datagen = ImageDataGenerator(\n",
        "    rescale=1./255, \n",
        "    rotation_range=40,\n",
        "    width_shift_range=0.2,\n",
        "    height_shift_range=0.2,\n",
        "    shear_range=0.2,\n",
        "    zoom_range=0.2,\n",
        "    horizontal_flip=True,\n",
        "    fill_mode='nearest'\n",
        ")\n",
        "\n",
        "train_generator = train_datagen.flow_from_directory(\n",
        "    train_dir,\n",
        "    target_size=(150, 150),\n",
        "    batch_size=20,\n",
        "    class_mode='binary')\n",
        "\n",
        "validation_datagen = ImageDataGenerator(rescale=1./255)\n",
        "\n",
        "validation_generator = validation_datagen.flow_from_directory(\n",
        "    validation_dir,\n",
        "    target_size=(150, 150),\n",
        "    batch_size=20,\n",
        "    class_mode='binary')\n",
        "\n",
        "# compile model\n",
        "\n",
        "model.compile(\n",
        "    loss='binary_crossentropy', \n",
        "    optimizer=optimizers.RMSprop(lr=2e-5), \n",
        "    metrics=['acc'])\n",
        "\n",
        "# train\n",
        "\n",
        "history = model.fit_generator(\n",
        "    train_generator,\n",
        "    steps_per_epoch=100,\n",
        "    epochs=20,\n",
        "    validation_data=validation_generator,\n",
        "    validation_steps=50\n",
        ")"
      ],
      "execution_count": 80,
      "outputs": [
        {
          "output_type": "stream",
          "text": [
            "Found 2000 images belonging to 2 classes.\n",
            "Found 1000 images belonging to 2 classes.\n",
            "Epoch 1/20\n",
            "100/100 [==============================] - 25s 253ms/step - loss: 0.6094 - acc: 0.6555 - val_loss: 0.4785 - val_acc: 0.8860\n",
            "Epoch 2/20\n",
            "100/100 [==============================] - 20s 196ms/step - loss: 0.5208 - acc: 0.7355 - val_loss: 0.1002 - val_acc: 0.9230\n",
            "Epoch 3/20\n",
            "100/100 [==============================] - 20s 197ms/step - loss: 0.4877 - acc: 0.7510 - val_loss: 0.1829 - val_acc: 0.9260\n",
            "Epoch 4/20\n",
            "100/100 [==============================] - 20s 197ms/step - loss: 0.4587 - acc: 0.7775 - val_loss: 0.3802 - val_acc: 0.9250\n",
            "Epoch 5/20\n",
            "100/100 [==============================] - 20s 198ms/step - loss: 0.4237 - acc: 0.8030 - val_loss: 0.0573 - val_acc: 0.9340\n",
            "Epoch 6/20\n",
            "100/100 [==============================] - 20s 197ms/step - loss: 0.4525 - acc: 0.7865 - val_loss: 0.1310 - val_acc: 0.9270\n",
            "Epoch 7/20\n",
            "100/100 [==============================] - 20s 198ms/step - loss: 0.4158 - acc: 0.8015 - val_loss: 0.2672 - val_acc: 0.9370\n",
            "Epoch 8/20\n",
            "100/100 [==============================] - 20s 199ms/step - loss: 0.4262 - acc: 0.7945 - val_loss: 0.1630 - val_acc: 0.9380\n",
            "Epoch 9/20\n",
            "100/100 [==============================] - 20s 196ms/step - loss: 0.3902 - acc: 0.8225 - val_loss: 0.7029 - val_acc: 0.9300\n",
            "Epoch 10/20\n",
            "100/100 [==============================] - 20s 197ms/step - loss: 0.4083 - acc: 0.8045 - val_loss: 0.0079 - val_acc: 0.9390\n",
            "Epoch 11/20\n",
            "100/100 [==============================] - 20s 198ms/step - loss: 0.4057 - acc: 0.8120 - val_loss: 0.0019 - val_acc: 0.9360\n",
            "Epoch 12/20\n",
            "100/100 [==============================] - 20s 196ms/step - loss: 0.3970 - acc: 0.8175 - val_loss: 0.9825 - val_acc: 0.9350\n",
            "Epoch 13/20\n",
            "100/100 [==============================] - 20s 195ms/step - loss: 0.4025 - acc: 0.8085 - val_loss: 0.0672 - val_acc: 0.9440\n",
            "Epoch 14/20\n",
            "100/100 [==============================] - 19s 195ms/step - loss: 0.3899 - acc: 0.8285 - val_loss: 0.1744 - val_acc: 0.9470\n",
            "Epoch 15/20\n",
            "100/100 [==============================] - 19s 194ms/step - loss: 0.3734 - acc: 0.8195 - val_loss: 0.9615 - val_acc: 0.9440\n",
            "Epoch 16/20\n",
            "100/100 [==============================] - 19s 195ms/step - loss: 0.3958 - acc: 0.8185 - val_loss: 0.2091 - val_acc: 0.9380\n",
            "Epoch 17/20\n",
            "100/100 [==============================] - 20s 195ms/step - loss: 0.3969 - acc: 0.8205 - val_loss: 0.0859 - val_acc: 0.9380\n",
            "Epoch 18/20\n",
            "100/100 [==============================] - 20s 196ms/step - loss: 0.3917 - acc: 0.8165 - val_loss: 0.1101 - val_acc: 0.9440\n",
            "Epoch 19/20\n",
            "100/100 [==============================] - 19s 195ms/step - loss: 0.3845 - acc: 0.8205 - val_loss: 0.3011 - val_acc: 0.9350\n",
            "Epoch 20/20\n",
            "100/100 [==============================] - 19s 194ms/step - loss: 0.3716 - acc: 0.8235 - val_loss: 2.4516e-06 - val_acc: 0.9440\n"
          ],
          "name": "stdout"
        }
      ]
    },
    {
      "cell_type": "markdown",
      "metadata": {
        "id": "xqRc_vHKc92U",
        "colab_type": "text"
      },
      "source": [
        "## Display curves of loss and accuracy during training"
      ]
    },
    {
      "cell_type": "code",
      "metadata": {
        "id": "ybWwdzz9bwuQ",
        "colab_type": "code",
        "outputId": "61b08fc6-e4cf-47cf-e8f5-6cf1a6f0e3b7",
        "colab": {
          "base_uri": "https://localhost:8080/",
          "height": 545
        }
      },
      "source": [
        "%matplotlib inline\n",
        "\n",
        "import matplotlib.pyplot as plt\n",
        "\n",
        "acc = history.history['acc']\n",
        "val_acc = history.history['val_acc']\n",
        "\n",
        "loss = history.history['loss']\n",
        "val_loss = history.history['val_loss']\n",
        "\n",
        "epochs = range(1, len(acc) + 1)\n",
        "\n",
        "# training and validation accuracy\n",
        "\n",
        "plt.plot(epochs, acc, 'bo', label='training acc')\n",
        "plt.plot(epochs, val_acc, 'b', label='validation acc')\n",
        "plt.title('training and validation accuracy')\n",
        "plt.legend()\n",
        "\n",
        "plt.figure()\n",
        "\n",
        "# training and validation loss\n",
        "\n",
        "plt.plot(epochs, loss, 'bo', label='training loss')\n",
        "plt.plot(epochs, val_loss, 'b', label='validation loss')\n",
        "plt.title('training and validation loss')\n",
        "plt.legend()\n",
        "\n",
        "plt.show()"
      ],
      "execution_count": 81,
      "outputs": [
        {
          "output_type": "display_data",
          "data": {
            "image/png": "[encoded data removed]",
            "text/plain": [
              "<Figure size 432x288 with 1 Axes>"
            ]
          },
          "metadata": {
            "tags": [],
            "needs_background": "light"
          }
        },
        {
          "output_type": "display_data",
          "data": {
            "image/png": "[encoded data removed]",
            "text/plain": [
              "<Figure size 432x288 with 1 Axes>"
            ]
          },
          "metadata": {
            "tags": [],
            "needs_background": "light"
          }
        }
      ]
    },
    {
      "cell_type": "markdown",
      "metadata": {
        "id": "lOWsxpey8lN0",
        "colab_type": "text"
      },
      "source": [
        "## Fine-tuning"
      ]
    },
    {
      "cell_type": "markdown",
      "metadata": {
        "id": "g6SwiwtP7wpT",
        "colab_type": "text"
      },
      "source": [
        "## Show the layers of the network"
      ]
    },
    {
      "cell_type": "code",
      "metadata": {
        "id": "-Jno_n0z7zN4",
        "colab_type": "code",
        "outputId": "347150d0-ff18-4ff3-af3b-ee334c8cec21",
        "colab": {
          "base_uri": "https://localhost:8080/",
          "height": 1000
        }
      },
      "source": [
        "for layer in conv_base.layers:\n",
        "  print(layer.name)"
      ],
      "execution_count": 82,
      "outputs": [
        {
          "output_type": "stream",
          "text": [
            "input_6\n",
            "conv2d_471\n",
            "batch_normalization_471\n",
            "activation_471\n",
            "conv2d_472\n",
            "batch_normalization_472\n",
            "activation_472\n",
            "conv2d_473\n",
            "batch_normalization_473\n",
            "activation_473\n",
            "max_pooling2d_21\n",
            "conv2d_474\n",
            "batch_normalization_474\n",
            "activation_474\n",
            "conv2d_475\n",
            "batch_normalization_475\n",
            "activation_475\n",
            "max_pooling2d_22\n",
            "conv2d_479\n",
            "batch_normalization_479\n",
            "activation_479\n",
            "conv2d_477\n",
            "conv2d_480\n",
            "batch_normalization_477\n",
            "batch_normalization_480\n",
            "activation_477\n",
            "activation_480\n",
            "average_pooling2d_46\n",
            "conv2d_476\n",
            "conv2d_478\n",
            "conv2d_481\n",
            "conv2d_482\n",
            "batch_normalization_476\n",
            "batch_normalization_478\n",
            "batch_normalization_481\n",
            "batch_normalization_482\n",
            "activation_476\n",
            "activation_478\n",
            "activation_481\n",
            "activation_482\n",
            "mixed0\n",
            "conv2d_486\n",
            "batch_normalization_486\n",
            "activation_486\n",
            "conv2d_484\n",
            "conv2d_487\n",
            "batch_normalization_484\n",
            "batch_normalization_487\n",
            "activation_484\n",
            "activation_487\n",
            "average_pooling2d_47\n",
            "conv2d_483\n",
            "conv2d_485\n",
            "conv2d_488\n",
            "conv2d_489\n",
            "batch_normalization_483\n",
            "batch_normalization_485\n",
            "batch_normalization_488\n",
            "batch_normalization_489\n",
            "activation_483\n",
            "activation_485\n",
            "activation_488\n",
            "activation_489\n",
            "mixed1\n",
            "conv2d_493\n",
            "batch_normalization_493\n",
            "activation_493\n",
            "conv2d_491\n",
            "conv2d_494\n",
            "batch_normalization_491\n",
            "batch_normalization_494\n",
            "activation_491\n",
            "activation_494\n",
            "average_pooling2d_48\n",
            "conv2d_490\n",
            "conv2d_492\n",
            "conv2d_495\n",
            "conv2d_496\n",
            "batch_normalization_490\n",
            "batch_normalization_492\n",
            "batch_normalization_495\n",
            "batch_normalization_496\n",
            "activation_490\n",
            "activation_492\n",
            "activation_495\n",
            "activation_496\n",
            "mixed2\n",
            "conv2d_498\n",
            "batch_normalization_498\n",
            "activation_498\n",
            "conv2d_499\n",
            "batch_normalization_499\n",
            "activation_499\n",
            "conv2d_497\n",
            "conv2d_500\n",
            "batch_normalization_497\n",
            "batch_normalization_500\n",
            "activation_497\n",
            "activation_500\n",
            "max_pooling2d_23\n",
            "mixed3\n",
            "conv2d_505\n",
            "batch_normalization_505\n",
            "activation_505\n",
            "conv2d_506\n",
            "batch_normalization_506\n",
            "activation_506\n",
            "conv2d_502\n",
            "conv2d_507\n",
            "batch_normalization_502\n",
            "batch_normalization_507\n",
            "activation_502\n",
            "activation_507\n",
            "conv2d_503\n",
            "conv2d_508\n",
            "batch_normalization_503\n",
            "batch_normalization_508\n",
            "activation_503\n",
            "activation_508\n",
            "average_pooling2d_49\n",
            "conv2d_501\n",
            "conv2d_504\n",
            "conv2d_509\n",
            "conv2d_510\n",
            "batch_normalization_501\n",
            "batch_normalization_504\n",
            "batch_normalization_509\n",
            "batch_normalization_510\n",
            "activation_501\n",
            "activation_504\n",
            "activation_509\n",
            "activation_510\n",
            "mixed4\n",
            "conv2d_515\n",
            "batch_normalization_515\n",
            "activation_515\n",
            "conv2d_516\n",
            "batch_normalization_516\n",
            "activation_516\n",
            "conv2d_512\n",
            "conv2d_517\n",
            "batch_normalization_512\n",
            "batch_normalization_517\n",
            "activation_512\n",
            "activation_517\n",
            "conv2d_513\n",
            "conv2d_518\n",
            "batch_normalization_513\n",
            "batch_normalization_518\n",
            "activation_513\n",
            "activation_518\n",
            "average_pooling2d_50\n",
            "conv2d_511\n",
            "conv2d_514\n",
            "conv2d_519\n",
            "conv2d_520\n",
            "batch_normalization_511\n",
            "batch_normalization_514\n",
            "batch_normalization_519\n",
            "batch_normalization_520\n",
            "activation_511\n",
            "activation_514\n",
            "activation_519\n",
            "activation_520\n",
            "mixed5\n",
            "conv2d_525\n",
            "batch_normalization_525\n",
            "activation_525\n",
            "conv2d_526\n",
            "batch_normalization_526\n",
            "activation_526\n",
            "conv2d_522\n",
            "conv2d_527\n",
            "batch_normalization_522\n",
            "batch_normalization_527\n",
            "activation_522\n",
            "activation_527\n",
            "conv2d_523\n",
            "conv2d_528\n",
            "batch_normalization_523\n",
            "batch_normalization_528\n",
            "activation_523\n",
            "activation_528\n",
            "average_pooling2d_51\n",
            "conv2d_521\n",
            "conv2d_524\n",
            "conv2d_529\n",
            "conv2d_530\n",
            "batch_normalization_521\n",
            "batch_normalization_524\n",
            "batch_normalization_529\n",
            "batch_normalization_530\n",
            "activation_521\n",
            "activation_524\n",
            "activation_529\n",
            "activation_530\n",
            "mixed6\n",
            "conv2d_535\n",
            "batch_normalization_535\n",
            "activation_535\n",
            "conv2d_536\n",
            "batch_normalization_536\n",
            "activation_536\n",
            "conv2d_532\n",
            "conv2d_537\n",
            "batch_normalization_532\n",
            "batch_normalization_537\n",
            "activation_532\n",
            "activation_537\n",
            "conv2d_533\n",
            "conv2d_538\n",
            "batch_normalization_533\n",
            "batch_normalization_538\n",
            "activation_533\n",
            "activation_538\n",
            "average_pooling2d_52\n",
            "conv2d_531\n",
            "conv2d_534\n",
            "conv2d_539\n",
            "conv2d_540\n",
            "batch_normalization_531\n",
            "batch_normalization_534\n",
            "batch_normalization_539\n",
            "batch_normalization_540\n",
            "activation_531\n",
            "activation_534\n",
            "activation_539\n",
            "activation_540\n",
            "mixed7\n",
            "conv2d_543\n",
            "batch_normalization_543\n",
            "activation_543\n",
            "conv2d_544\n",
            "batch_normalization_544\n",
            "activation_544\n",
            "conv2d_541\n",
            "conv2d_545\n",
            "batch_normalization_541\n",
            "batch_normalization_545\n",
            "activation_541\n",
            "activation_545\n",
            "conv2d_542\n",
            "conv2d_546\n",
            "batch_normalization_542\n",
            "batch_normalization_546\n",
            "activation_542\n",
            "activation_546\n",
            "max_pooling2d_24\n",
            "mixed8\n",
            "conv2d_551\n",
            "batch_normalization_551\n",
            "activation_551\n",
            "conv2d_548\n",
            "conv2d_552\n",
            "batch_normalization_548\n",
            "batch_normalization_552\n",
            "activation_548\n",
            "activation_552\n",
            "conv2d_549\n",
            "conv2d_550\n",
            "conv2d_553\n",
            "conv2d_554\n",
            "average_pooling2d_53\n",
            "conv2d_547\n",
            "batch_normalization_549\n",
            "batch_normalization_550\n",
            "batch_normalization_553\n",
            "batch_normalization_554\n",
            "conv2d_555\n",
            "batch_normalization_547\n",
            "activation_549\n",
            "activation_550\n",
            "activation_553\n",
            "activation_554\n",
            "batch_normalization_555\n",
            "activation_547\n",
            "mixed9_0\n",
            "concatenate_11\n",
            "activation_555\n",
            "mixed9\n",
            "conv2d_560\n",
            "batch_normalization_560\n",
            "activation_560\n",
            "conv2d_557\n",
            "conv2d_561\n",
            "batch_normalization_557\n",
            "batch_normalization_561\n",
            "activation_557\n",
            "activation_561\n",
            "conv2d_558\n",
            "conv2d_559\n",
            "conv2d_562\n",
            "conv2d_563\n",
            "average_pooling2d_54\n",
            "conv2d_556\n",
            "batch_normalization_558\n",
            "batch_normalization_559\n",
            "batch_normalization_562\n",
            "batch_normalization_563\n",
            "conv2d_564\n",
            "batch_normalization_556\n",
            "activation_558\n",
            "activation_559\n",
            "activation_562\n",
            "activation_563\n",
            "batch_normalization_564\n",
            "activation_556\n",
            "mixed9_1\n",
            "concatenate_12\n",
            "activation_564\n",
            "mixed10\n"
          ],
          "name": "stdout"
        }
      ]
    },
    {
      "cell_type": "markdown",
      "metadata": {
        "id": "fo62Z6H_2aJm",
        "colab_type": "text"
      },
      "source": [
        "I will be unfreezing the top 30 layers of the conv base, that is, the layer named batch_normalization_90 and all layers above it."
      ]
    },
    {
      "cell_type": "code",
      "metadata": {
        "id": "PwkVMx8N8qMw",
        "colab_type": "code",
        "colab": {}
      },
      "source": [
        "conv_base.trainable = True\n",
        "\n",
        "set_trainable = False\n",
        "for layer in conv_base.layers:\n",
        "  if layer.name == 'batch_normalization_90':\n",
        "    set_trainable = True\n",
        "  if set_trainable:\n",
        "    layer.trainable = True\n",
        "  else:\n",
        "    layer.trainable = False"
      ],
      "execution_count": 0,
      "outputs": []
    },
    {
      "cell_type": "code",
      "metadata": {
        "id": "DyN-J7rs9cvo",
        "colab_type": "code",
        "outputId": "e231a9a8-d400-45d2-c664-4d0066edc964",
        "colab": {
          "base_uri": "https://localhost:8080/",
          "height": 255
        }
      },
      "source": [
        "# compile model\n",
        "\n",
        "model.compile(\n",
        "    loss='binary_crossentropy',\n",
        "    optimizer=optimizers.RMSprop(lr=1e-5), \n",
        "    metrics=['acc'])\n",
        "\n",
        "# train\n",
        "\n",
        "history = model.fit_generator(\n",
        "    train_generator,\n",
        "    steps_per_epoch=100,\n",
        "    epochs=20,\n",
        "    validation_data=validation_generator,\n",
        "    validation_steps=50)"
      ],
      "execution_count": 0,
      "outputs": [
        {
          "output_type": "stream",
          "text": [
            "Epoch 1/20\n",
            "100/100 [==============================] - 28s 282ms/step - loss: 0.3778 - acc: 0.8310 - val_loss: 0.0029 - val_acc: 0.9100\n",
            "Epoch 2/20\n",
            "100/100 [==============================] - 21s 213ms/step - loss: 0.3429 - acc: 0.8405 - val_loss: 0.2064 - val_acc: 0.8900\n",
            "Epoch 3/20\n",
            "100/100 [==============================] - 21s 214ms/step - loss: 0.3630 - acc: 0.8345 - val_loss: 0.5141 - val_acc: 0.8840\n",
            "Epoch 4/20\n",
            "100/100 [==============================] - 22s 221ms/step - loss: 0.3781 - acc: 0.8255 - val_loss: 0.0882 - val_acc: 0.8760\n",
            "Epoch 5/20\n",
            "100/100 [==============================] - 22s 221ms/step - loss: 0.3747 - acc: 0.8240 - val_loss: 0.1343 - val_acc: 0.8700\n",
            "Epoch 6/20\n",
            "100/100 [==============================] - 22s 217ms/step - loss: 0.3650 - acc: 0.8350 - val_loss: 0.3187 - val_acc: 0.8710\n",
            "Epoch 7/20\n",
            " 67/100 [===================>..........] - ETA: 5s - loss: 0.3616 - acc: 0.8366"
          ],
          "name": "stdout"
        }
      ]
    },
    {
      "cell_type": "markdown",
      "metadata": {
        "id": "eVBQgh5M-Rtz",
        "colab_type": "text"
      },
      "source": [
        "## Display learning curves during fine-tuning"
      ]
    },
    {
      "cell_type": "code",
      "metadata": {
        "id": "mbkIw7Ie-NP4",
        "colab_type": "code",
        "colab": {}
      },
      "source": [
        "%matplotlib inline\n",
        "\n",
        "import matplotlib.pyplot as plt\n",
        "\n",
        "acc = history.history['acc']\n",
        "val_acc = history.history['val_acc']\n",
        "\n",
        "loss = history.history['loss']\n",
        "val_loss = history.history['val_loss']\n",
        "\n",
        "epochs = range(1, len(acc) + 1)\n",
        "\n",
        "# training and validation accuracy\n",
        "\n",
        "plt.plot(epochs, acc, 'bo', label='training acc')\n",
        "plt.plot(epochs, val_acc, 'b', label='validation acc')\n",
        "plt.title('training and validation accuracy')\n",
        "plt.legend()\n",
        "\n",
        "plt.figure()\n",
        "\n",
        "# training and validation loss\n",
        "\n",
        "plt.plot(epochs, loss, 'bo', label='training loss')\n",
        "plt.plot(epochs, val_loss, 'b', label='validation loss')\n",
        "plt.title('training and validation loss')\n",
        "plt.legend()\n",
        "\n",
        "plt.show()"
      ],
      "execution_count": 0,
      "outputs": []
    },
    {
      "cell_type": "markdown",
      "metadata": {
        "id": "he3Nw6TOJwjx",
        "colab_type": "text"
      },
      "source": [
        "## Print out validation loss and accuracy"
      ]
    },
    {
      "cell_type": "code",
      "metadata": {
        "id": "SVQtrk7uJdhl",
        "colab_type": "code",
        "colab": {}
      },
      "source": [
        "val_loss, val_acc = model.evaluate_generator(validation_generator, steps=50)"
      ],
      "execution_count": 0,
      "outputs": []
    },
    {
      "cell_type": "code",
      "metadata": {
        "id": "HpdddLi1SUMe",
        "colab_type": "code",
        "colab": {}
      },
      "source": [
        "print(\"Validation loss:\", val_loss)\n",
        "print(\"Validation accuracy:\", val_acc)"
      ],
      "execution_count": 0,
      "outputs": []
    },
    {
      "cell_type": "markdown",
      "metadata": {
        "id": "VWHR7bvWYXfN",
        "colab_type": "text"
      },
      "source": [
        "# Results and deciding on the classifier"
      ]
    },
    {
      "cell_type": "markdown",
      "metadata": {
        "id": "8ff5i1BKldrE",
        "colab_type": "text"
      },
      "source": [
        "(1) My classifier 1 has the following layers, added in the following order:\n",
        "\n",
        "Flatten()\n",
        "\n",
        "Dense(256, activation='relu')\n",
        "\n",
        "Dense(4, activation='relu')\n",
        "\n",
        "Dense(1, activation='sigmoid')\n",
        "\n",
        "Classifier 1 results:\n",
        "\n",
        "Validation loss: 0.29284992814064026\n",
        "\n",
        "Validation accuracy: 0.8700000047683716\n",
        "\n",
        "![](https://drive.google.com/uc?id=1HUevm4GCy2bEtecaBl4mOEraO2kyMpwn)\n",
        "\n",
        "(2) One version of classifier 2 had the following layers, added in the following order:\n",
        "\n",
        "Flatten()\n",
        "\n",
        "Dense(2048, activation='relu')\n",
        "\n",
        "Dense(1, activation='sigmoid')\n",
        "\n",
        "And the results\n",
        "\n",
        "Validation loss: 0.8551866412162781\n",
        "\n",
        "Validation accuracy: 0.8960000276565552\n",
        "\n",
        "![](https://drive.google.com/uc?id=19UhgI8L66Em4uDRx_qWG0p9T2Z6zWTBj)\n",
        "\n",
        "This had really high validation loss! The validation accuracy was also higher than (1).\n",
        "\n",
        "(3)\n",
        "\n",
        "Another version of classifier 2. This had the following layers added in the following order:\n",
        "\n",
        "Flatten()\n",
        "\n",
        "Dense(256, activation='relu')\n",
        "\n",
        "Dense(64, activation='relu')\n",
        "\n",
        "Dense(16, activation='relu')\n",
        "\n",
        "Dense(4, activation='relu')\n",
        "\n",
        "Dense(1, activation='sigmoid')\n",
        "\n",
        "And the results\n",
        "\n",
        "Validation loss: 0.2575221359729767\n",
        "Validation accuracy: 0.8840000033378601\n",
        "\n",
        "![](https://drive.google.com/uc?id=1EwsuVAoGfo8JuNYsFMzjEhaPg1yANNtS)\n",
        "\n",
        "(4)\n",
        "\n",
        "The current model. It has the following layers added in the following order:\n",
        "\n",
        "Flatten()\n",
        "\n",
        "Dense(64, activation='relu')\n",
        "\n",
        "Dense(1, activation='sigmoid')\n",
        "\n",
        "And the following results:\n",
        "\n",
        "Validation loss: 0.34529033303260803\n",
        "\n",
        "Validation accuracy: 0.8980000019073486\n",
        "\n",
        "![](https://drive.google.com/uc?id=1F8BHxCbJssL63cHhR8K8D8-OflnJiuXx)\n",
        "\n",
        "This has the highest accuracy so far! While its loss isn't the lowest, it's not bad compared to the others.\n",
        "For the given dataset, maybe 64 parameters is good for a dense layer, and it would be good not to have too many layers or too many parameters.\n",
        "\n",
        "The graphs for this one make the training and validation accuracy seem way more different than they actually are. The validation accuracy tended to be somewhat higher than the training accuracy to a non-extreme degree."
      ]
    }
  ]
}