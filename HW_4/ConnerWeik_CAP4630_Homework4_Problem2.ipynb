{
  "nbformat": 4,
  "nbformat_minor": 0,
  "metadata": {
    "colab": {
      "name": "ConnerWeik_CAP4630_Homework4_Problem2.ipynb",
      "provenance": [],
      "collapsed_sections": [],
      "authorship_tag": "ABX9TyPXdtRrgX4MUp6CMMw/ah9S",
      "include_colab_link": true
    },
    "kernelspec": {
      "name": "python3",
      "display_name": "Python 3"
    }
  },
  "cells": [
    {
      "cell_type": "markdown",
      "metadata": {
        "id": "view-in-github",
        "colab_type": "text"
      },
      "source": [
        "<a href=\"https://colab.research.google.com/github/cweikucf/cap4630/blob/master/HW_4/ConnerWeik_CAP4630_Homework4_Problem2.ipynb\" target=\"_parent\"><img src=\"https://colab.research.google.com/assets/colab-badge.svg\" alt=\"Open In Colab\"/></a>"
      ]
    },
    {
      "cell_type": "markdown",
      "metadata": {
        "id": "0qmb6vbxHoYA",
        "colab_type": "text"
      },
      "source": [
        "# Conner Weik\n",
        "# CAP 4630, Spring 2020\n",
        "# Homework 4\n",
        "# Problem 2\n",
        "If something doesn't work, please try doing run all or let me know. Thanks!"
      ]
    },
    {
      "cell_type": "markdown",
      "metadata": {
        "id": "gtNaI8f1H1SP",
        "colab_type": "text"
      },
      "source": [
        "# Imports and stuff"
      ]
    },
    {
      "cell_type": "code",
      "metadata": {
        "id": "D4MBuJysH3Mj",
        "colab_type": "code",
        "colab": {}
      },
      "source": [
        "import numpy as np"
      ],
      "execution_count": 0,
      "outputs": []
    },
    {
      "cell_type": "markdown",
      "metadata": {
        "id": "YwDnbAnzH4ma",
        "colab_type": "text"
      },
      "source": [
        "Custom error classes"
      ]
    },
    {
      "cell_type": "code",
      "metadata": {
        "id": "zJpOlxO9H55e",
        "colab_type": "code",
        "colab": {}
      },
      "source": [
        "class ZeroDimensionError(Exception):\n",
        "  pass\n",
        "class NonDivisibleError(Exception):\n",
        "  pass\n",
        "class NonSquareMatrixError(Exception):\n",
        "  pass\n",
        "class EmptyMatrixError(Exception):\n",
        "  pass"
      ],
      "execution_count": 0,
      "outputs": []
    },
    {
      "cell_type": "markdown",
      "metadata": {
        "id": "Ra5OiAKrIHde",
        "colab_type": "text"
      },
      "source": [
        "# The maxpooling2d function"
      ]
    },
    {
      "cell_type": "code",
      "metadata": {
        "id": "PMNLATf6IJ11",
        "colab_type": "code",
        "colab": {}
      },
      "source": [
        "def maxpooling2d(input_mat, s):\n",
        "  input_rows = input_mat.shape[0]\n",
        "  input_cols = input_mat.shape[1]\n",
        "\n",
        "  # Errors.\n",
        "  if input_rows != input_cols:\n",
        "    raise NonSquareMatrixError('The input matrix is non square. It has shape ({}, {})'.format(input_rows, input_cols))\n",
        "  elif s == 0:\n",
        "    raise ZeroDimensionError('s is zero, and the window would not have any width or height. The maxpooling2d operation cannot continue.')\n",
        "  elif input_rows == 0:\n",
        "    raise EmtpyMatrixError('The input matrix is empty.')\n",
        "  elif input_rows % s != 0:\n",
        "    raise NonDivisibleError('The input matrix\\'s dimensions are not divisible by s.')\n",
        "  \n",
        "  # Perform the operation.\n",
        "  output_mat = np.zeros((input_rows // s, input_rows // s))\n",
        "  for i in range(input_rows // s):\n",
        "    for j in range(input_rows // s):\n",
        "      output_mat[i][j] = np.max(input_mat[i*s:(i+1)*s, j*s:(j+1)*s])\n",
        "\n",
        "  return output_mat"
      ],
      "execution_count": 0,
      "outputs": []
    }
  ]
}