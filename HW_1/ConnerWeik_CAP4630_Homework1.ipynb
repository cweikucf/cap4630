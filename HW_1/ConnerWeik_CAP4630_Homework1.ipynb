{
  "nbformat": 4,
  "nbformat_minor": 0,
  "metadata": {
    "colab": {
      "name": "ConnerWeik_CAP4630_Homework1.ipynb",
      "provenance": [],
      "collapsed_sections": [],
      "authorship_tag": "ABX9TyOVuo2yGwhnaDQbwDNY38aY",
      "include_colab_link": true
    },
    "kernelspec": {
      "name": "python3",
      "display_name": "Python 3"
    }
  },
  "cells": [
    {
      "cell_type": "markdown",
      "metadata": {
        "id": "view-in-github",
        "colab_type": "text"
      },
      "source": [
        "<a href=\"https://colab.research.google.com/github/cweikucf/cap4630/blob/master/HW_1/ConnerWeik_CAP4630_Homework1.ipynb\" target=\"_parent\"><img src=\"https://colab.research.google.com/assets/colab-badge.svg\" alt=\"Open In Colab\"/></a>"
      ]
    },
    {
      "cell_type": "markdown",
      "metadata": {
        "id": "0hy3RCNiBDTn",
        "colab_type": "text"
      },
      "source": [
        "# **Conner Weik, CAP 4630, Spring 2020**\n",
        "# **Homework 1**\n"
      ]
    },
    {
      "cell_type": "code",
      "metadata": {
        "id": "oYGNOD8mCHI0",
        "colab_type": "code",
        "colab": {}
      },
      "source": [
        ""
      ],
      "execution_count": 0,
      "outputs": []
    },
    {
      "cell_type": "markdown",
      "metadata": {
        "id": "Jpr9eqPLBRDk",
        "colab_type": "text"
      },
      "source": [
        "This code takes a list of numpy arrays and multiplies them sequentially, from first to last. A custom error will be raised if the list is empty or if two matrices are found to be incompatible."
      ]
    },
    {
      "cell_type": "markdown",
      "metadata": {
        "id": "JOhLlZBnBT6-",
        "colab_type": "text"
      },
      "source": [
        "# Definition of compatibility of matrices for matrix multiplication"
      ]
    },
    {
      "cell_type": "markdown",
      "metadata": {
        "id": "k-ITtcbnBV7E",
        "colab_type": "text"
      },
      "source": [
        "Let $A \\in \\Bbb R^{m\\ x\\ n}$ and $B \\in \\Bbb R^{o\\ x\\ p}$ be matrices, $m,\\ n,\\ o,\\ p \\in \\Bbb N^+$.\n",
        "\n",
        "The matrix product $AB$ is defined if and only if the inner dimensions of $A$ and $B$ are the same, that is, if $n = o$."
      ]
    },
    {
      "cell_type": "markdown",
      "metadata": {
        "id": "1EwgZ890BfsU",
        "colab_type": "text"
      },
      "source": [
        "# Function and custom exception class code"
      ]
    },
    {
      "cell_type": "code",
      "metadata": {
        "id": "jSg6CwiuBVFe",
        "colab_type": "code",
        "colab": {}
      },
      "source": [
        "import numpy\n",
        "\n",
        "# Function that takes an array of numpy matrices, list, and performs matrix mulitplication sequentially until it completes or there is an error.\n",
        "def multiplyMatrixList(list):\n",
        "  if len(list) == 0:\n",
        "    raise MatrixMultError(\"Error: The list of matrices is empty.\")\n",
        "  while len(list) > 1:\n",
        "    try:\n",
        "      matrixA = list[0]\n",
        "      matrixB = list[1]\n",
        "      del list[0]\n",
        "      del list[0]\n",
        "      list.insert(0, numpy.matmul(matrixA, matrixB))\n",
        "    except:\n",
        "      raise MatrixMultError(\"Error: Matrix with dimensions \" + str(len(matrixA)) + \"x\" + str(len(matrixA[0])) + \" cannot be multiplied with matrix with dimenions \" + str(len(matrixB)) + \"x\" + str(len(matrixB[0])))\n",
        "  \n",
        "  return list[0]\n",
        "\n",
        "# Custom exception class.\n",
        "class MatrixMultError(Exception):\n",
        "  pass"
      ],
      "execution_count": 0,
      "outputs": []
    },
    {
      "cell_type": "markdown",
      "metadata": {
        "id": "mzSHbtmABiGy",
        "colab_type": "text"
      },
      "source": [
        "# Demonstration"
      ]
    },
    {
      "cell_type": "code",
      "metadata": {
        "id": "n4C9tLTBBj3_",
        "colab_type": "code",
        "colab": {
          "base_uri": "https://localhost:8080/",
          "height": 136
        },
        "outputId": "1df8d9df-dd03-4c8d-c23d-00695a6bc97e"
      },
      "source": [
        "# Demo 1\n",
        "def demo1():\n",
        "  matrix1 = numpy.array([\n",
        "      [1, 2, 3],\n",
        "\n",
        "      [4, 5, 6],\n",
        "      [7, 8, 9]\n",
        "  ])\n",
        "\n",
        "  matrix2 = numpy.array([\n",
        "                         [10],\n",
        "                         [10],\n",
        "                         [10]\n",
        "  ])\n",
        "\n",
        "  matrix3 = numpy.array([\n",
        "                         [2, 3, 4, 5]\n",
        "  ])\n",
        "\n",
        "  matrixList = [matrix1, matrix2, matrix3]\n",
        "  return multiplyMatrixList(matrixList)\n",
        "\n",
        "# Demo 2\n",
        "def demo2():\n",
        "  matrixList = [ numpy.array([\n",
        "                              [2, 2],\n",
        "                              [2, 2]\n",
        "  ]),\n",
        "                 numpy.array([\n",
        "                              [2, 2],\n",
        "                              [2, 2]\n",
        "  ]),\n",
        "                 numpy.array([\n",
        "                              [2, 2],\n",
        "                              [2, 2]\n",
        "  ]),\n",
        "                 numpy.array([\n",
        "                              [2, 2],\n",
        "                              [2, 2]\n",
        "  ])]\n",
        "\n",
        "  return multiplyMatrixList(matrixList)\n",
        "\n",
        "print(\"Demo 1:\")\n",
        "print(demo1())\n",
        "print (\"Demo 2:\")\n",
        "print(demo2())"
      ],
      "execution_count": 5,
      "outputs": [
        {
          "output_type": "stream",
          "text": [
            "Demo 1:\n",
            "[[ 120  180  240  300]\n",
            " [ 300  450  600  750]\n",
            " [ 480  720  960 1200]]\n",
            "Demo 2:\n",
            "[[128 128]\n",
            " [128 128]]\n"
          ],
          "name": "stdout"
        }
      ]
    },
    {
      "cell_type": "markdown",
      "metadata": {
        "id": "PMR5iqlCBk_2",
        "colab_type": "text"
      },
      "source": [
        "# Empty List Demonstration"
      ]
    },
    {
      "cell_type": "code",
      "metadata": {
        "id": "v0mj4--yBoPk",
        "colab_type": "code",
        "colab": {
          "base_uri": "https://localhost:8080/",
          "height": 357
        },
        "outputId": "c998d85a-6e10-49d5-9e96-f1dcd6d68663"
      },
      "source": [
        "def emptyListDemo():\n",
        "  matrixList = []\n",
        "  return multiplyMatrixList(matrixList)\n",
        "\n",
        "print(\"Empty list:\")\n",
        "print(emptyListDemo())"
      ],
      "execution_count": 8,
      "outputs": [
        {
          "output_type": "stream",
          "text": [
            "Empty list:\n"
          ],
          "name": "stdout"
        },
        {
          "output_type": "error",
          "ename": "MatrixMultError",
          "evalue": "ignored",
          "traceback": [
            "\u001b[0;31m---------------------------------------------------------------------------\u001b[0m",
            "\u001b[0;31mMatrixMultError\u001b[0m                           Traceback (most recent call last)",
            "\u001b[0;32m<ipython-input-8-6f0b7e6667be>\u001b[0m in \u001b[0;36m<module>\u001b[0;34m()\u001b[0m\n\u001b[1;32m      4\u001b[0m \u001b[0;34m\u001b[0m\u001b[0m\n\u001b[1;32m      5\u001b[0m \u001b[0mprint\u001b[0m\u001b[0;34m(\u001b[0m\u001b[0;34m\"Empty list:\"\u001b[0m\u001b[0;34m)\u001b[0m\u001b[0;34m\u001b[0m\u001b[0;34m\u001b[0m\u001b[0m\n\u001b[0;32m----> 6\u001b[0;31m \u001b[0mprint\u001b[0m\u001b[0;34m(\u001b[0m\u001b[0memptyListDemo\u001b[0m\u001b[0;34m(\u001b[0m\u001b[0;34m)\u001b[0m\u001b[0;34m)\u001b[0m\u001b[0;34m\u001b[0m\u001b[0;34m\u001b[0m\u001b[0m\n\u001b[0m",
            "\u001b[0;32m<ipython-input-8-6f0b7e6667be>\u001b[0m in \u001b[0;36memptyListDemo\u001b[0;34m()\u001b[0m\n\u001b[1;32m      1\u001b[0m \u001b[0;32mdef\u001b[0m \u001b[0memptyListDemo\u001b[0m\u001b[0;34m(\u001b[0m\u001b[0;34m)\u001b[0m\u001b[0;34m:\u001b[0m\u001b[0;34m\u001b[0m\u001b[0;34m\u001b[0m\u001b[0m\n\u001b[1;32m      2\u001b[0m   \u001b[0mmatrixList\u001b[0m \u001b[0;34m=\u001b[0m \u001b[0;34m[\u001b[0m\u001b[0;34m]\u001b[0m\u001b[0;34m\u001b[0m\u001b[0;34m\u001b[0m\u001b[0m\n\u001b[0;32m----> 3\u001b[0;31m   \u001b[0;32mreturn\u001b[0m \u001b[0mmultiplyMatrixList\u001b[0m\u001b[0;34m(\u001b[0m\u001b[0mmatrixList\u001b[0m\u001b[0;34m)\u001b[0m\u001b[0;34m\u001b[0m\u001b[0;34m\u001b[0m\u001b[0m\n\u001b[0m\u001b[1;32m      4\u001b[0m \u001b[0;34m\u001b[0m\u001b[0m\n\u001b[1;32m      5\u001b[0m \u001b[0mprint\u001b[0m\u001b[0;34m(\u001b[0m\u001b[0;34m\"Empty list:\"\u001b[0m\u001b[0;34m)\u001b[0m\u001b[0;34m\u001b[0m\u001b[0;34m\u001b[0m\u001b[0m\n",
            "\u001b[0;32m<ipython-input-4-1b627d2585a2>\u001b[0m in \u001b[0;36mmultiplyMatrixList\u001b[0;34m(list)\u001b[0m\n\u001b[1;32m      4\u001b[0m \u001b[0;32mdef\u001b[0m \u001b[0mmultiplyMatrixList\u001b[0m\u001b[0;34m(\u001b[0m\u001b[0mlist\u001b[0m\u001b[0;34m)\u001b[0m\u001b[0;34m:\u001b[0m\u001b[0;34m\u001b[0m\u001b[0;34m\u001b[0m\u001b[0m\n\u001b[1;32m      5\u001b[0m   \u001b[0;32mif\u001b[0m \u001b[0mlen\u001b[0m\u001b[0;34m(\u001b[0m\u001b[0mlist\u001b[0m\u001b[0;34m)\u001b[0m \u001b[0;34m==\u001b[0m \u001b[0;36m0\u001b[0m\u001b[0;34m:\u001b[0m\u001b[0;34m\u001b[0m\u001b[0;34m\u001b[0m\u001b[0m\n\u001b[0;32m----> 6\u001b[0;31m     \u001b[0;32mraise\u001b[0m \u001b[0mMatrixMultError\u001b[0m\u001b[0;34m(\u001b[0m\u001b[0;34m\"Error: The list of matrices is empty.\"\u001b[0m\u001b[0;34m)\u001b[0m\u001b[0;34m\u001b[0m\u001b[0;34m\u001b[0m\u001b[0m\n\u001b[0m\u001b[1;32m      7\u001b[0m   \u001b[0;32mwhile\u001b[0m \u001b[0mlen\u001b[0m\u001b[0;34m(\u001b[0m\u001b[0mlist\u001b[0m\u001b[0;34m)\u001b[0m \u001b[0;34m>\u001b[0m \u001b[0;36m1\u001b[0m\u001b[0;34m:\u001b[0m\u001b[0;34m\u001b[0m\u001b[0;34m\u001b[0m\u001b[0m\n\u001b[1;32m      8\u001b[0m     \u001b[0;32mtry\u001b[0m\u001b[0;34m:\u001b[0m\u001b[0;34m\u001b[0m\u001b[0;34m\u001b[0m\u001b[0m\n",
            "\u001b[0;31mMatrixMultError\u001b[0m: Error: The list of matrices is empty."
          ]
        }
      ]
    },
    {
      "cell_type": "markdown",
      "metadata": {
        "id": "kBWiX6rsBp2s",
        "colab_type": "text"
      },
      "source": [
        "# Incompatible Matrices Demonstration"
      ]
    },
    {
      "cell_type": "code",
      "metadata": {
        "id": "hP5VDaqjBr02",
        "colab_type": "code",
        "colab": {
          "base_uri": "https://localhost:8080/",
          "height": 442
        },
        "outputId": "efb69b3a-781d-4b50-eba5-4ac71f488636"
      },
      "source": [
        "def incompatibleMatricesDemo():\n",
        "  matrix1 = numpy.array([\n",
        "                         [1, 2, 3],\n",
        "                         [4, 5, 6]\n",
        "  ])\n",
        "\n",
        "  matrix2 = numpy.array([\n",
        "                         [1, 2, 3, 4],\n",
        "                         [1, 2, 3, 4],\n",
        "                         [5129, 327, 2332, 123]\n",
        "  ])\n",
        "  \n",
        "  matrix3 = numpy.array([\n",
        "                         [1]\n",
        "  ])\n",
        "\n",
        "  matrixList = [matrix1, matrix2, matrix3]\n",
        "  return multiplyMatrixList(matrixList)\n",
        "\n",
        "print(\"Incompatible matrices:\")\n",
        "print(incompatibleMatricesDemo())"
      ],
      "execution_count": 9,
      "outputs": [
        {
          "output_type": "stream",
          "text": [
            "Incompatible matrices:\n"
          ],
          "name": "stdout"
        },
        {
          "output_type": "error",
          "ename": "MatrixMultError",
          "evalue": "ignored",
          "traceback": [
            "\u001b[0;31m---------------------------------------------------------------------------\u001b[0m",
            "\u001b[0;31mValueError\u001b[0m                                Traceback (most recent call last)",
            "\u001b[0;32m<ipython-input-4-1b627d2585a2>\u001b[0m in \u001b[0;36mmultiplyMatrixList\u001b[0;34m(list)\u001b[0m\n\u001b[1;32m     12\u001b[0m       \u001b[0;32mdel\u001b[0m \u001b[0mlist\u001b[0m\u001b[0;34m[\u001b[0m\u001b[0;36m0\u001b[0m\u001b[0;34m]\u001b[0m\u001b[0;34m\u001b[0m\u001b[0;34m\u001b[0m\u001b[0m\n\u001b[0;32m---> 13\u001b[0;31m       \u001b[0mlist\u001b[0m\u001b[0;34m.\u001b[0m\u001b[0minsert\u001b[0m\u001b[0;34m(\u001b[0m\u001b[0;36m0\u001b[0m\u001b[0;34m,\u001b[0m \u001b[0mnumpy\u001b[0m\u001b[0;34m.\u001b[0m\u001b[0mmatmul\u001b[0m\u001b[0;34m(\u001b[0m\u001b[0mmatrixA\u001b[0m\u001b[0;34m,\u001b[0m \u001b[0mmatrixB\u001b[0m\u001b[0;34m)\u001b[0m\u001b[0;34m)\u001b[0m\u001b[0;34m\u001b[0m\u001b[0;34m\u001b[0m\u001b[0m\n\u001b[0m\u001b[1;32m     14\u001b[0m     \u001b[0;32mexcept\u001b[0m\u001b[0;34m:\u001b[0m\u001b[0;34m\u001b[0m\u001b[0;34m\u001b[0m\u001b[0m\n",
            "\u001b[0;31mValueError\u001b[0m: matmul: Input operand 1 has a mismatch in its core dimension 0, with gufunc signature (n?,k),(k,m?)->(n?,m?) (size 1 is different from 4)",
            "\nDuring handling of the above exception, another exception occurred:\n",
            "\u001b[0;31mMatrixMultError\u001b[0m                           Traceback (most recent call last)",
            "\u001b[0;32m<ipython-input-9-19a5c3e554c8>\u001b[0m in \u001b[0;36m<module>\u001b[0;34m()\u001b[0m\n\u001b[1;32m     19\u001b[0m \u001b[0;34m\u001b[0m\u001b[0m\n\u001b[1;32m     20\u001b[0m \u001b[0mprint\u001b[0m\u001b[0;34m(\u001b[0m\u001b[0;34m\"Incompatible matrices:\"\u001b[0m\u001b[0;34m)\u001b[0m\u001b[0;34m\u001b[0m\u001b[0;34m\u001b[0m\u001b[0m\n\u001b[0;32m---> 21\u001b[0;31m \u001b[0mprint\u001b[0m\u001b[0;34m(\u001b[0m\u001b[0mincompatibleMatricesDemo\u001b[0m\u001b[0;34m(\u001b[0m\u001b[0;34m)\u001b[0m\u001b[0;34m)\u001b[0m\u001b[0;34m\u001b[0m\u001b[0;34m\u001b[0m\u001b[0m\n\u001b[0m",
            "\u001b[0;32m<ipython-input-9-19a5c3e554c8>\u001b[0m in \u001b[0;36mincompatibleMatricesDemo\u001b[0;34m()\u001b[0m\n\u001b[1;32m     16\u001b[0m \u001b[0;34m\u001b[0m\u001b[0m\n\u001b[1;32m     17\u001b[0m   \u001b[0mmatrixList\u001b[0m \u001b[0;34m=\u001b[0m \u001b[0;34m[\u001b[0m\u001b[0mmatrix1\u001b[0m\u001b[0;34m,\u001b[0m \u001b[0mmatrix2\u001b[0m\u001b[0;34m,\u001b[0m \u001b[0mmatrix3\u001b[0m\u001b[0;34m]\u001b[0m\u001b[0;34m\u001b[0m\u001b[0;34m\u001b[0m\u001b[0m\n\u001b[0;32m---> 18\u001b[0;31m   \u001b[0;32mreturn\u001b[0m \u001b[0mmultiplyMatrixList\u001b[0m\u001b[0;34m(\u001b[0m\u001b[0mmatrixList\u001b[0m\u001b[0;34m)\u001b[0m\u001b[0;34m\u001b[0m\u001b[0;34m\u001b[0m\u001b[0m\n\u001b[0m\u001b[1;32m     19\u001b[0m \u001b[0;34m\u001b[0m\u001b[0m\n\u001b[1;32m     20\u001b[0m \u001b[0mprint\u001b[0m\u001b[0;34m(\u001b[0m\u001b[0;34m\"Incompatible matrices:\"\u001b[0m\u001b[0;34m)\u001b[0m\u001b[0;34m\u001b[0m\u001b[0;34m\u001b[0m\u001b[0m\n",
            "\u001b[0;32m<ipython-input-4-1b627d2585a2>\u001b[0m in \u001b[0;36mmultiplyMatrixList\u001b[0;34m(list)\u001b[0m\n\u001b[1;32m     13\u001b[0m       \u001b[0mlist\u001b[0m\u001b[0;34m.\u001b[0m\u001b[0minsert\u001b[0m\u001b[0;34m(\u001b[0m\u001b[0;36m0\u001b[0m\u001b[0;34m,\u001b[0m \u001b[0mnumpy\u001b[0m\u001b[0;34m.\u001b[0m\u001b[0mmatmul\u001b[0m\u001b[0;34m(\u001b[0m\u001b[0mmatrixA\u001b[0m\u001b[0;34m,\u001b[0m \u001b[0mmatrixB\u001b[0m\u001b[0;34m)\u001b[0m\u001b[0;34m)\u001b[0m\u001b[0;34m\u001b[0m\u001b[0;34m\u001b[0m\u001b[0m\n\u001b[1;32m     14\u001b[0m     \u001b[0;32mexcept\u001b[0m\u001b[0;34m:\u001b[0m\u001b[0;34m\u001b[0m\u001b[0;34m\u001b[0m\u001b[0m\n\u001b[0;32m---> 15\u001b[0;31m       \u001b[0;32mraise\u001b[0m \u001b[0mMatrixMultError\u001b[0m\u001b[0;34m(\u001b[0m\u001b[0;34m\"Error: Matrix with dimensions \"\u001b[0m \u001b[0;34m+\u001b[0m \u001b[0mstr\u001b[0m\u001b[0;34m(\u001b[0m\u001b[0mlen\u001b[0m\u001b[0;34m(\u001b[0m\u001b[0mmatrixA\u001b[0m\u001b[0;34m)\u001b[0m\u001b[0;34m)\u001b[0m \u001b[0;34m+\u001b[0m \u001b[0;34m\"x\"\u001b[0m \u001b[0;34m+\u001b[0m \u001b[0mstr\u001b[0m\u001b[0;34m(\u001b[0m\u001b[0mlen\u001b[0m\u001b[0;34m(\u001b[0m\u001b[0mmatrixA\u001b[0m\u001b[0;34m[\u001b[0m\u001b[0;36m0\u001b[0m\u001b[0;34m]\u001b[0m\u001b[0;34m)\u001b[0m\u001b[0;34m)\u001b[0m \u001b[0;34m+\u001b[0m \u001b[0;34m\" cannot be multiplied with matrix with dimenions \"\u001b[0m \u001b[0;34m+\u001b[0m \u001b[0mstr\u001b[0m\u001b[0;34m(\u001b[0m\u001b[0mlen\u001b[0m\u001b[0;34m(\u001b[0m\u001b[0mmatrixB\u001b[0m\u001b[0;34m)\u001b[0m\u001b[0;34m)\u001b[0m \u001b[0;34m+\u001b[0m \u001b[0;34m\"x\"\u001b[0m \u001b[0;34m+\u001b[0m \u001b[0mstr\u001b[0m\u001b[0;34m(\u001b[0m\u001b[0mlen\u001b[0m\u001b[0;34m(\u001b[0m\u001b[0mmatrixB\u001b[0m\u001b[0;34m[\u001b[0m\u001b[0;36m0\u001b[0m\u001b[0;34m]\u001b[0m\u001b[0;34m)\u001b[0m\u001b[0;34m)\u001b[0m\u001b[0;34m)\u001b[0m\u001b[0;34m\u001b[0m\u001b[0;34m\u001b[0m\u001b[0m\n\u001b[0m\u001b[1;32m     16\u001b[0m \u001b[0;34m\u001b[0m\u001b[0m\n\u001b[1;32m     17\u001b[0m   \u001b[0;32mreturn\u001b[0m \u001b[0mlist\u001b[0m\u001b[0;34m[\u001b[0m\u001b[0;36m0\u001b[0m\u001b[0;34m]\u001b[0m\u001b[0;34m\u001b[0m\u001b[0;34m\u001b[0m\u001b[0m\n",
            "\u001b[0;31mMatrixMultError\u001b[0m: Error: Matrix with dimensions 2x4 cannot be multiplied with matrix with dimenions 1x1"
          ]
        }
      ]
    }
  ]
}