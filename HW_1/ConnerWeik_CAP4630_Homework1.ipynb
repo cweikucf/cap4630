{
  "nbformat": 4,
  "nbformat_minor": 0,
  "metadata": {
    "colab": {
      "name": "ConnerWeik_CAP4630_Homework1.ipynb",
      "provenance": [],
      "collapsed_sections": []
    },
    "kernelspec": {
      "name": "python3",
      "display_name": "Python 3"
    }
  },
  "cells": [
    {
      "cell_type": "code",
      "metadata": {
        "id": "EmN3rRyBBBv0",
        "colab_type": "code",
        "colab": {}
      },
      "source": [
        ""
      ],
      "execution_count": 0,
      "outputs": []
    },
    {
      "cell_type": "markdown",
      "metadata": {
        "id": "0hy3RCNiBDTn",
        "colab_type": "text"
      },
      "source": [
        "# **Conner Weik, CAP 4630, Spring 2020**\n",
        "# **Homework 1**\n"
      ]
    },
    {
      "cell_type": "code",
      "metadata": {
        "id": "oYGNOD8mCHI0",
        "colab_type": "code",
        "colab": {}
      },
      "source": [
        ""
      ],
      "execution_count": 0,
      "outputs": []
    },
    {
      "cell_type": "markdown",
      "metadata": {
        "id": "Jpr9eqPLBRDk",
        "colab_type": "text"
      },
      "source": [
        "This code takes a list of numpy arrays and multiplies them sequentially, from first to last. A custom error will be raised if the list is empty or if two matrices are found to be incompatible."
      ]
    },
    {
      "cell_type": "markdown",
      "metadata": {
        "id": "JOhLlZBnBT6-",
        "colab_type": "text"
      },
      "source": [
        "# Definition of compatibility of matrices for matrix multiplication"
      ]
    },
    {
      "cell_type": "markdown",
      "metadata": {
        "id": "k-ITtcbnBV7E",
        "colab_type": "text"
      },
      "source": [
        "Let $A \\in \\Bbb R^{m\\ x\\ n}$ and $B \\in \\Bbb R^{o\\ x\\ p}$ be matrices, $m,\\ n,\\ o,\\ p \\in \\Bbb N^+$.\n",
        "\n",
        "The matrix product $AB$ is defined if and only if the inner dimensions of $A$ and $B$ are the same, that is, if $n = o$."
      ]
    },
    {
      "cell_type": "markdown",
      "metadata": {
        "id": "1EwgZ890BfsU",
        "colab_type": "text"
      },
      "source": [
        "# Function and custom exception class code"
      ]
    },
    {
      "cell_type": "code",
      "metadata": {
        "id": "jSg6CwiuBVFe",
        "colab_type": "code",
        "colab": {}
      },
      "source": [
        "# Function that takes an array of numpy matrices, list, and performs matrix mulitplication sequentially until it completes or there is an error.\n",
        "def multiplyMatrixList(list):\n",
        "  if len(list) == 0:\n",
        "    raise MatrixMultError(\"Error: The list of matrices is empty.\")\n",
        "  while len(list) > 1:\n",
        "    try:\n",
        "      matrixA = list[0]\n",
        "      matrixB = list[1]\n",
        "      del list[0]\n",
        "      del list[0]\n",
        "      list.insert(0, numpy.matmul(matrixA, matrixB))\n",
        "    except:\n",
        "      raise MatrixMultError(\"Error: Matrix with dimensions \" + str(len(matrixA)) + \"x\" + str(len(matrixA[0])) + \" cannot be multiplied with matrix with dimenions \" + str(len(matrixB)) + \"x\" + str(len(matrixB[0])))\n",
        "  \n",
        "  return list[0]\n",
        "\n",
        "# Custom exception class.\n",
        "class MatrixMultError(Exception):\n",
        "  pass"
      ],
      "execution_count": 0,
      "outputs": []
    },
    {
      "cell_type": "markdown",
      "metadata": {
        "id": "mzSHbtmABiGy",
        "colab_type": "text"
      },
      "source": [
        "# Demonstration"
      ]
    },
    {
      "cell_type": "code",
      "metadata": {
        "id": "n4C9tLTBBj3_",
        "colab_type": "code",
        "colab": {}
      },
      "source": [
        "# Demo 1\n",
        "def demo1():\n",
        "  matrix1 = numpy.array([\n",
        "      [1, 2, 3],\n",
        "\n",
        "      [4, 5, 6],\n",
        "      [7, 8, 9]\n",
        "  ])\n",
        "\n",
        "  matrix2 = numpy.array([\n",
        "                         [10],\n",
        "                         [10],\n",
        "                         [10]\n",
        "  ])\n",
        "\n",
        "  matrix3 = numpy.array([\n",
        "                         [2, 3, 4, 5]\n",
        "  ])\n",
        "\n",
        "  matrixList = [matrix1, matrix2, matrix3]\n",
        "  return multiplyMatrixList(matrixList)\n",
        "\n",
        "# Demo 2\n",
        "def demo2():\n",
        "  matrixList = [ numpy.array([\n",
        "                              [2, 2],\n",
        "                              [2, 2]\n",
        "  ]),\n",
        "                 numpy.array([\n",
        "                              [2, 2],\n",
        "                              [2, 2]\n",
        "  ]),\n",
        "                 numpy.array([\n",
        "                              [2, 2],\n",
        "                              [2, 2]\n",
        "  ]),\n",
        "                 numpy.array([\n",
        "                              [2, 2],\n",
        "                              [2, 2]\n",
        "  ])]\n",
        "\n",
        "  return multiplyMatrixList(matrixList)\n",
        "\n",
        "print(\"Demo 1:\")\n",
        "print(demo1())\n",
        "print (\"Demo 2:\")\n",
        "print(demo2())"
      ],
      "execution_count": 0,
      "outputs": []
    },
    {
      "cell_type": "markdown",
      "metadata": {
        "id": "PMR5iqlCBk_2",
        "colab_type": "text"
      },
      "source": [
        "# Empty List Demonstration"
      ]
    },
    {
      "cell_type": "code",
      "metadata": {
        "id": "v0mj4--yBoPk",
        "colab_type": "code",
        "colab": {}
      },
      "source": [
        "def empyListDemo():\n",
        "  matrixList = []\n",
        "  return multiplyMatrixList(MatrixList)\n",
        "\n",
        "print(\"Empty list:\")\n",
        "print(emptyListDemo())"
      ],
      "execution_count": 0,
      "outputs": []
    },
    {
      "cell_type": "markdown",
      "metadata": {
        "id": "kBWiX6rsBp2s",
        "colab_type": "text"
      },
      "source": [
        "# Incompatible Matrices Demonstration"
      ]
    },
    {
      "cell_type": "code",
      "metadata": {
        "id": "hP5VDaqjBr02",
        "colab_type": "code",
        "colab": {}
      },
      "source": [
        "def incompatibleMatricesDemo():\n",
        "  matrix1 = numpy.array([\n",
        "                         [1, 2, 3],\n",
        "                         [4, 5, 6]\n",
        "  ])\n",
        "\n",
        "  matrix2 = numpy.array([\n",
        "                         [1, 2, 3, 4],\n",
        "                         [1, 2, 3, 4],\n",
        "                         [5129, 327, 2332, 123]\n",
        "  ])\n",
        "  \n",
        "  matrix3 = numpy.array([\n",
        "                         [1]\n",
        "  ])\n",
        "\n",
        "  matrixList = [matrix1, matrix2, matrix3]\n",
        "  return multiplyMatrixList(matrixList)\n",
        "\n",
        "print(\"Incompatible matrices:\")\n",
        "print(incompatibleMatricesDemo())"
      ],
      "execution_count": 0,
      "outputs": []
    }
  ]
}