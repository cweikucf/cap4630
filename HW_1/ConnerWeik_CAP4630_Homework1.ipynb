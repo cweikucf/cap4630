{
  "nbformat": 4,
  "nbformat_minor": 0,
  "metadata": {
    "colab": {
      "name": "ConnerWeik_CAP4630_Homework1.ipynb",
      "provenance": [],
      "collapsed_sections": [],
      "authorship_tag": "ABX9TyNZGzYtJMML0i4Eg61j2WZC",
      "include_colab_link": true
    },
    "kernelspec": {
      "name": "python3",
      "display_name": "Python 3"
    }
  },
  "cells": [
    {
      "cell_type": "markdown",
      "metadata": {
        "id": "view-in-github",
        "colab_type": "text"
      },
      "source": [
        "<a href=\"https://colab.research.google.com/github/cweikucf/cap4630/blob/master/HW_1/ConnerWeik_CAP4630_Homework1.ipynb\" target=\"_parent\"><img src=\"https://colab.research.google.com/assets/colab-badge.svg\" alt=\"Open In Colab\"/></a>"
      ]
    },
    {
      "cell_type": "markdown",
      "metadata": {
        "id": "pAwZF902b2BZ",
        "colab_type": "text"
      },
      "source": [
        "# **Conner Weik, CAP 4630, Spring 2020**\n",
        "# **Homework 1**\n"
      ]
    },
    {
      "cell_type": "markdown",
      "metadata": {
        "id": "o4EexTdlx-AL",
        "colab_type": "text"
      },
      "source": [
        "This code takes a list of numpy arrays and multiplies them sequentially, from first to last. A custom error will be raised if the list is empty or if two matrices are found to be incompatible."
      ]
    },
    {
      "cell_type": "markdown",
      "metadata": {
        "id": "6cSWNczJzBv4",
        "colab_type": "text"
      },
      "source": [
        "# Definition of compatibility of matrices for matrix multiplication"
      ]
    },
    {
      "cell_type": "markdown",
      "metadata": {
        "id": "rLoFavsswyG7",
        "colab_type": "text"
      },
      "source": [
        "Let $A \\in \\Bbb R^{m\\ x\\ n}$ and $B \\in \\Bbb R^{o\\ x\\ p}$ be matrices, $m,\\ n,\\ o,\\ p \\in \\Bbb N^+$.\n",
        "\n",
        "The matrix product $AB$ is defined if and only if the inner dimensions of $A$ and $B$ are the same, that is, if $n = o$."
      ]
    },
    {
      "cell_type": "markdown",
      "metadata": {
        "id": "kSuh3w4ewUx0",
        "colab_type": "text"
      },
      "source": [
        "# Function and custom exception class code"
      ]
    },
    {
      "cell_type": "code",
      "metadata": {
        "id": "zrQ9wrrpykAm",
        "colab_type": "code",
        "colab": {}
      },
      "source": [
        "# Function that takes an array of numpy matrices, list, and performs matrix mulitplication sequentially until it completes or there is an error.\n",
        "def multiplyMatrixList(list):\n",
        "  if len(list) == 0:\n",
        "    raise MatrixMultError(\"Error: The list of matrices is empty.\")\n",
        "  while len(list) > 1:\n",
        "    try:\n",
        "      matrixA = list[0]\n",
        "      matrixB = list[1]\n",
        "      del list[0]\n",
        "      del list[0]\n",
        "      list.insert(0, numpy.matmul(matrixA, matrixB))\n",
        "    except:\n",
        "      raise MatrixMultError(\"Error: Matrix with dimensions \" + str(len(matrixA)) + \"x\" + str(len(matrixA[0])) + \" cannot be multiplied with matrix with dimenions \" + str(len(matrixB)) + \"x\" + str(len(matrixB[0])))\n",
        "  \n",
        "  return list[0]\n",
        "\n",
        "# Custom exception class.\n",
        "class MatrixMultError(Exception):\n",
        "  def print_tb():\n",
        "    super().print_tb()"
      ],
      "execution_count": 0,
      "outputs": []
    },
    {
      "cell_type": "markdown",
      "metadata": {
        "id": "HarIg1f00m1D",
        "colab_type": "text"
      },
      "source": [
        "# Demonstration"
      ]
    },
    {
      "cell_type": "code",
      "metadata": {
        "id": "GJehWR_51P14",
        "colab_type": "code",
        "outputId": "1d6b0d83-6021-49ef-ff44-d3f18bff8679",
        "colab": {
          "base_uri": "https://localhost:8080/",
          "height": 136
        }
      },
      "source": [
        "# Demo 1\n",
        "def demo1():\n",
        "  matrix1 = numpy.array([\n",
        "      [1, 2, 3],\n",
        "\n",
        "      [4, 5, 6],\n",
        "      [7, 8, 9]\n",
        "  ])\n",
        "\n",
        "  matrix2 = numpy.array([\n",
        "                         [10],\n",
        "                         [10],\n",
        "                         [10]\n",
        "  ])\n",
        "\n",
        "  matrix3 = numpy.array([\n",
        "                         [2, 3, 4, 5]\n",
        "  ])\n",
        "\n",
        "  matrixList = [matrix1, matrix2, matrix3]\n",
        "  return multiplyMatrixList(matrixList)\n",
        "\n",
        "# Demo 2\n",
        "def demo2():\n",
        "  matrixList = [ numpy.array([\n",
        "                              [2, 2],\n",
        "                              [2, 2]\n",
        "  ]),\n",
        "                 numpy.array([\n",
        "                              [2, 2],\n",
        "                              [2, 2]\n",
        "  ]),\n",
        "                 numpy.array([\n",
        "                              [2, 2],\n",
        "                              [2, 2]\n",
        "  ]),\n",
        "                 numpy.array([\n",
        "                              [2, 2],\n",
        "                              [2, 2]\n",
        "  ])]\n",
        "\n",
        "  return multiplyMatrixList(matrixList)\n",
        "\n",
        "# Empty List Demo\n",
        "\n",
        "def emptyListDemo():\n",
        "  matrixList = []\n",
        "  return multiplyMatrixList(matrixList)\n",
        "\n",
        "\n",
        "  \n",
        "\n",
        "print(\"Demo 1:\")\n",
        "print(demo1())\n",
        "print (\"Demo 2:\")\n",
        "print(demo2())"
      ],
      "execution_count": 0,
      "outputs": [
        {
          "output_type": "stream",
          "text": [
            "Demo 1:\n",
            "[[ 120  180  240  300]\n",
            " [ 300  450  600  750]\n",
            " [ 480  720  960 1200]]\n",
            "Demo 2:\n",
            "[[128 128]\n",
            " [128 128]]\n"
          ],
          "name": "stdout"
        }
      ]
    },
    {
      "cell_type": "markdown",
      "metadata": {
        "id": "Ur4u6-Kc7RyS",
        "colab_type": "text"
      },
      "source": [
        "# Empty List Demonstration"
      ]
    },
    {
      "cell_type": "code",
      "metadata": {
        "id": "PUoEH4b57U4U",
        "colab_type": "code",
        "outputId": "6333646e-d6b0-41d9-feed-49cde1b2e490",
        "colab": {
          "base_uri": "https://localhost:8080/",
          "height": 357
        }
      },
      "source": [
        "def empyListDemo():\n",
        "  matrixList = []\n",
        "  return multiplyMatrixList(MatrixList)\n",
        "\n",
        "print(\"Empty list:\")\n",
        "print(emptyListDemo())"
      ],
      "execution_count": 0,
      "outputs": [
        {
          "output_type": "stream",
          "text": [
            "Empty List:\n"
          ],
          "name": "stdout"
        },
        {
          "output_type": "error",
          "ename": "MatrixMultError",
          "evalue": "ignored",
          "traceback": [
            "\u001b[0;31m---------------------------------------------------------------------------\u001b[0m",
            "\u001b[0;31mMatrixMultError\u001b[0m                           Traceback (most recent call last)",
            "\u001b[0;32m<ipython-input-46-945a1a7b1f15>\u001b[0m in \u001b[0;36m<module>\u001b[0;34m()\u001b[0m\n\u001b[1;32m      4\u001b[0m \u001b[0;34m\u001b[0m\u001b[0m\n\u001b[1;32m      5\u001b[0m \u001b[0mprint\u001b[0m\u001b[0;34m(\u001b[0m\u001b[0;34m\"Empty List:\"\u001b[0m\u001b[0;34m)\u001b[0m\u001b[0;34m\u001b[0m\u001b[0;34m\u001b[0m\u001b[0m\n\u001b[0;32m----> 6\u001b[0;31m \u001b[0mprint\u001b[0m\u001b[0;34m(\u001b[0m\u001b[0memptyListDemo\u001b[0m\u001b[0;34m(\u001b[0m\u001b[0;34m)\u001b[0m\u001b[0;34m)\u001b[0m\u001b[0;34m\u001b[0m\u001b[0;34m\u001b[0m\u001b[0m\n\u001b[0m",
            "\u001b[0;32m<ipython-input-44-5dc3d2566b86>\u001b[0m in \u001b[0;36memptyListDemo\u001b[0;34m()\u001b[0m\n\u001b[1;32m     45\u001b[0m \u001b[0;32mdef\u001b[0m \u001b[0memptyListDemo\u001b[0m\u001b[0;34m(\u001b[0m\u001b[0;34m)\u001b[0m\u001b[0;34m:\u001b[0m\u001b[0;34m\u001b[0m\u001b[0;34m\u001b[0m\u001b[0m\n\u001b[1;32m     46\u001b[0m   \u001b[0mmatrixList\u001b[0m \u001b[0;34m=\u001b[0m \u001b[0;34m[\u001b[0m\u001b[0;34m]\u001b[0m\u001b[0;34m\u001b[0m\u001b[0;34m\u001b[0m\u001b[0m\n\u001b[0;32m---> 47\u001b[0;31m   \u001b[0;32mreturn\u001b[0m \u001b[0mmultiplyMatrixList\u001b[0m\u001b[0;34m(\u001b[0m\u001b[0mmatrixList\u001b[0m\u001b[0;34m)\u001b[0m\u001b[0;34m\u001b[0m\u001b[0;34m\u001b[0m\u001b[0m\n\u001b[0m\u001b[1;32m     48\u001b[0m \u001b[0;34m\u001b[0m\u001b[0m\n\u001b[1;32m     49\u001b[0m \u001b[0;34m\u001b[0m\u001b[0m\n",
            "\u001b[0;32m<ipython-input-42-86f4f0035872>\u001b[0m in \u001b[0;36mmultiplyMatrixList\u001b[0;34m(list)\u001b[0m\n\u001b[1;32m      1\u001b[0m \u001b[0;32mdef\u001b[0m \u001b[0mmultiplyMatrixList\u001b[0m\u001b[0;34m(\u001b[0m\u001b[0mlist\u001b[0m\u001b[0;34m)\u001b[0m\u001b[0;34m:\u001b[0m\u001b[0;34m\u001b[0m\u001b[0;34m\u001b[0m\u001b[0m\n\u001b[1;32m      2\u001b[0m   \u001b[0;32mif\u001b[0m \u001b[0mlen\u001b[0m\u001b[0;34m(\u001b[0m\u001b[0mlist\u001b[0m\u001b[0;34m)\u001b[0m \u001b[0;34m==\u001b[0m \u001b[0;36m0\u001b[0m\u001b[0;34m:\u001b[0m\u001b[0;34m\u001b[0m\u001b[0;34m\u001b[0m\u001b[0m\n\u001b[0;32m----> 3\u001b[0;31m     \u001b[0;32mraise\u001b[0m \u001b[0mMatrixMultError\u001b[0m\u001b[0;34m(\u001b[0m\u001b[0;34m\"Error: The list of matrices is empty.\"\u001b[0m\u001b[0;34m)\u001b[0m\u001b[0;34m\u001b[0m\u001b[0;34m\u001b[0m\u001b[0m\n\u001b[0m\u001b[1;32m      4\u001b[0m   \u001b[0;32mwhile\u001b[0m \u001b[0mlen\u001b[0m\u001b[0;34m(\u001b[0m\u001b[0mlist\u001b[0m\u001b[0;34m)\u001b[0m \u001b[0;34m>\u001b[0m \u001b[0;36m1\u001b[0m\u001b[0;34m:\u001b[0m\u001b[0;34m\u001b[0m\u001b[0;34m\u001b[0m\u001b[0m\n\u001b[1;32m      5\u001b[0m     \u001b[0;32mtry\u001b[0m\u001b[0;34m:\u001b[0m\u001b[0;34m\u001b[0m\u001b[0;34m\u001b[0m\u001b[0m\n",
            "\u001b[0;31mMatrixMultError\u001b[0m: Error: The list of matrices is empty."
          ]
        }
      ]
    },
    {
      "cell_type": "markdown",
      "metadata": {
        "id": "T4ajyKcU7gp_",
        "colab_type": "text"
      },
      "source": [
        "# Incompatible Matrices Demonstration"
      ]
    },
    {
      "cell_type": "code",
      "metadata": {
        "id": "3-gl-VK87nyB",
        "colab_type": "code",
        "outputId": "fd4be283-43e9-4324-fa2e-a8bac7dd7b30",
        "colab": {
          "base_uri": "https://localhost:8080/",
          "height": 442
        }
      },
      "source": [
        "def incompatibleMatricesDemo():\n",
        "  matrix1 = numpy.array([\n",
        "                         [1, 2, 3],\n",
        "                         [4, 5, 6]\n",
        "  ])\n",
        "\n",
        "  matrix2 = numpy.array([\n",
        "                         [1, 2, 3, 4],\n",
        "                         [1, 2, 3, 4],\n",
        "                         [5129, 327, 2332, 123]\n",
        "  ])\n",
        "  \n",
        "  matrix3 = numpy.array([\n",
        "                         [1]\n",
        "  ])\n",
        "\n",
        "  matrixList = [matrix1, matrix2, matrix3]\n",
        "  return multiplyMatrixList(matrixList)\n",
        "\n",
        "print(\"Incompatible matrices:\")\n",
        "print(incompatibleMatricesDemo())"
      ],
      "execution_count": 0,
      "outputs": [
        {
          "output_type": "stream",
          "text": [
            "Incompatible matrices:\n"
          ],
          "name": "stdout"
        },
        {
          "output_type": "error",
          "ename": "MatrixMultError",
          "evalue": "ignored",
          "traceback": [
            "\u001b[0;31m---------------------------------------------------------------------------\u001b[0m",
            "\u001b[0;31mValueError\u001b[0m                                Traceback (most recent call last)",
            "\u001b[0;32m<ipython-input-42-86f4f0035872>\u001b[0m in \u001b[0;36mmultiplyMatrixList\u001b[0;34m(list)\u001b[0m\n\u001b[1;32m      9\u001b[0m       \u001b[0;32mdel\u001b[0m \u001b[0mlist\u001b[0m\u001b[0;34m[\u001b[0m\u001b[0;36m0\u001b[0m\u001b[0;34m]\u001b[0m\u001b[0;34m\u001b[0m\u001b[0;34m\u001b[0m\u001b[0m\n\u001b[0;32m---> 10\u001b[0;31m       \u001b[0mlist\u001b[0m\u001b[0;34m.\u001b[0m\u001b[0minsert\u001b[0m\u001b[0;34m(\u001b[0m\u001b[0;36m0\u001b[0m\u001b[0;34m,\u001b[0m \u001b[0mnumpy\u001b[0m\u001b[0;34m.\u001b[0m\u001b[0mmatmul\u001b[0m\u001b[0;34m(\u001b[0m\u001b[0mmatrixA\u001b[0m\u001b[0;34m,\u001b[0m \u001b[0mmatrixB\u001b[0m\u001b[0;34m)\u001b[0m\u001b[0;34m)\u001b[0m\u001b[0;34m\u001b[0m\u001b[0;34m\u001b[0m\u001b[0m\n\u001b[0m\u001b[1;32m     11\u001b[0m     \u001b[0;32mexcept\u001b[0m\u001b[0;34m:\u001b[0m\u001b[0;34m\u001b[0m\u001b[0;34m\u001b[0m\u001b[0m\n",
            "\u001b[0;31mValueError\u001b[0m: matmul: Input operand 1 has a mismatch in its core dimension 0, with gufunc signature (n?,k),(k,m?)->(n?,m?) (size 1 is different from 4)",
            "\nDuring handling of the above exception, another exception occurred:\n",
            "\u001b[0;31mMatrixMultError\u001b[0m                           Traceback (most recent call last)",
            "\u001b[0;32m<ipython-input-49-19a5c3e554c8>\u001b[0m in \u001b[0;36m<module>\u001b[0;34m()\u001b[0m\n\u001b[1;32m     19\u001b[0m \u001b[0;34m\u001b[0m\u001b[0m\n\u001b[1;32m     20\u001b[0m \u001b[0mprint\u001b[0m\u001b[0;34m(\u001b[0m\u001b[0;34m\"Incompatible matrices:\"\u001b[0m\u001b[0;34m)\u001b[0m\u001b[0;34m\u001b[0m\u001b[0;34m\u001b[0m\u001b[0m\n\u001b[0;32m---> 21\u001b[0;31m \u001b[0mprint\u001b[0m\u001b[0;34m(\u001b[0m\u001b[0mincompatibleMatricesDemo\u001b[0m\u001b[0;34m(\u001b[0m\u001b[0;34m)\u001b[0m\u001b[0;34m)\u001b[0m\u001b[0;34m\u001b[0m\u001b[0;34m\u001b[0m\u001b[0m\n\u001b[0m",
            "\u001b[0;32m<ipython-input-49-19a5c3e554c8>\u001b[0m in \u001b[0;36mincompatibleMatricesDemo\u001b[0;34m()\u001b[0m\n\u001b[1;32m     16\u001b[0m \u001b[0;34m\u001b[0m\u001b[0m\n\u001b[1;32m     17\u001b[0m   \u001b[0mmatrixList\u001b[0m \u001b[0;34m=\u001b[0m \u001b[0;34m[\u001b[0m\u001b[0mmatrix1\u001b[0m\u001b[0;34m,\u001b[0m \u001b[0mmatrix2\u001b[0m\u001b[0;34m,\u001b[0m \u001b[0mmatrix3\u001b[0m\u001b[0;34m]\u001b[0m\u001b[0;34m\u001b[0m\u001b[0;34m\u001b[0m\u001b[0m\n\u001b[0;32m---> 18\u001b[0;31m   \u001b[0;32mreturn\u001b[0m \u001b[0mmultiplyMatrixList\u001b[0m\u001b[0;34m(\u001b[0m\u001b[0mmatrixList\u001b[0m\u001b[0;34m)\u001b[0m\u001b[0;34m\u001b[0m\u001b[0;34m\u001b[0m\u001b[0m\n\u001b[0m\u001b[1;32m     19\u001b[0m \u001b[0;34m\u001b[0m\u001b[0m\n\u001b[1;32m     20\u001b[0m \u001b[0mprint\u001b[0m\u001b[0;34m(\u001b[0m\u001b[0;34m\"Incompatible matrices:\"\u001b[0m\u001b[0;34m)\u001b[0m\u001b[0;34m\u001b[0m\u001b[0;34m\u001b[0m\u001b[0m\n",
            "\u001b[0;32m<ipython-input-42-86f4f0035872>\u001b[0m in \u001b[0;36mmultiplyMatrixList\u001b[0;34m(list)\u001b[0m\n\u001b[1;32m     10\u001b[0m       \u001b[0mlist\u001b[0m\u001b[0;34m.\u001b[0m\u001b[0minsert\u001b[0m\u001b[0;34m(\u001b[0m\u001b[0;36m0\u001b[0m\u001b[0;34m,\u001b[0m \u001b[0mnumpy\u001b[0m\u001b[0;34m.\u001b[0m\u001b[0mmatmul\u001b[0m\u001b[0;34m(\u001b[0m\u001b[0mmatrixA\u001b[0m\u001b[0;34m,\u001b[0m \u001b[0mmatrixB\u001b[0m\u001b[0;34m)\u001b[0m\u001b[0;34m)\u001b[0m\u001b[0;34m\u001b[0m\u001b[0;34m\u001b[0m\u001b[0m\n\u001b[1;32m     11\u001b[0m     \u001b[0;32mexcept\u001b[0m\u001b[0;34m:\u001b[0m\u001b[0;34m\u001b[0m\u001b[0;34m\u001b[0m\u001b[0m\n\u001b[0;32m---> 12\u001b[0;31m       \u001b[0;32mraise\u001b[0m \u001b[0mMatrixMultError\u001b[0m\u001b[0;34m(\u001b[0m\u001b[0;34m\"Error: Matrix with dimensions \"\u001b[0m \u001b[0;34m+\u001b[0m \u001b[0mstr\u001b[0m\u001b[0;34m(\u001b[0m\u001b[0mlen\u001b[0m\u001b[0;34m(\u001b[0m\u001b[0mmatrixA\u001b[0m\u001b[0;34m)\u001b[0m\u001b[0;34m)\u001b[0m \u001b[0;34m+\u001b[0m \u001b[0;34m\"x\"\u001b[0m \u001b[0;34m+\u001b[0m \u001b[0mstr\u001b[0m\u001b[0;34m(\u001b[0m\u001b[0mlen\u001b[0m\u001b[0;34m(\u001b[0m\u001b[0mmatrixA\u001b[0m\u001b[0;34m[\u001b[0m\u001b[0;36m0\u001b[0m\u001b[0;34m]\u001b[0m\u001b[0;34m)\u001b[0m\u001b[0;34m)\u001b[0m \u001b[0;34m+\u001b[0m \u001b[0;34m\" cannot be multiplied with matrix with dimenions \"\u001b[0m \u001b[0;34m+\u001b[0m \u001b[0mstr\u001b[0m\u001b[0;34m(\u001b[0m\u001b[0mlen\u001b[0m\u001b[0;34m(\u001b[0m\u001b[0mmatrixB\u001b[0m\u001b[0;34m)\u001b[0m\u001b[0;34m)\u001b[0m \u001b[0;34m+\u001b[0m \u001b[0;34m\"x\"\u001b[0m \u001b[0;34m+\u001b[0m \u001b[0mstr\u001b[0m\u001b[0;34m(\u001b[0m\u001b[0mlen\u001b[0m\u001b[0;34m(\u001b[0m\u001b[0mmatrixB\u001b[0m\u001b[0;34m[\u001b[0m\u001b[0;36m0\u001b[0m\u001b[0;34m]\u001b[0m\u001b[0;34m)\u001b[0m\u001b[0;34m)\u001b[0m\u001b[0;34m)\u001b[0m\u001b[0;34m\u001b[0m\u001b[0;34m\u001b[0m\u001b[0m\n\u001b[0m\u001b[1;32m     13\u001b[0m \u001b[0;34m\u001b[0m\u001b[0m\n\u001b[1;32m     14\u001b[0m   \u001b[0;32mreturn\u001b[0m \u001b[0mlist\u001b[0m\u001b[0;34m[\u001b[0m\u001b[0;36m0\u001b[0m\u001b[0;34m]\u001b[0m\u001b[0;34m\u001b[0m\u001b[0;34m\u001b[0m\u001b[0m\n",
            "\u001b[0;31mMatrixMultError\u001b[0m: Error: Matrix with dimensions 2x4 cannot be multiplied with matrix with dimenions 1x1"
          ]
        }
      ]
    }
  ]
}