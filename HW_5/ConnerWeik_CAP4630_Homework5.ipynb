{
  "nbformat": 4,
  "nbformat_minor": 0,
  "metadata": {
    "colab": {
      "name": "ConnerWeik_CAP4630_Homework5.ipynb",
      "provenance": [],
      "collapsed_sections": [],
      "authorship_tag": "ABX9TyPA554in7pggj+1naN3wk0m",
      "include_colab_link": true
    },
    "kernelspec": {
      "name": "python3",
      "display_name": "Python 3"
    },
    "accelerator": "GPU"
  },
  "cells": [
    {
      "cell_type": "markdown",
      "metadata": {
        "id": "view-in-github",
        "colab_type": "text"
      },
      "source": [
        "<a href=\"https://colab.research.google.com/github/cweikucf/cap4630/blob/master/HW_5/ConnerWeik_CAP4630_Homework5.ipynb\" target=\"_parent\"><img src=\"https://colab.research.google.com/assets/colab-badge.svg\" alt=\"Open In Colab\"/></a>"
      ]
    },
    {
      "cell_type": "markdown",
      "metadata": {
        "id": "FouE8ofmDXFs",
        "colab_type": "text"
      },
      "source": [
        "# Conner Weik\n",
        "# CAP 4630, Spring 2020\n",
        "# Homework 5\n",
        "If something doesn't work, please try doing run all or let me know. Thanks!"
      ]
    },
    {
      "cell_type": "markdown",
      "metadata": {
        "id": "r84P5bNjqEGp",
        "colab_type": "text"
      },
      "source": [
        "# Imports and stuff"
      ]
    },
    {
      "cell_type": "code",
      "metadata": {
        "id": "Sxebc3exqFev",
        "colab_type": "code",
        "colab": {
          "base_uri": "https://localhost:8080/",
          "height": 34
        },
        "outputId": "0400ef3b-c872-438a-b768-066425518040"
      },
      "source": [
        "%tensorflow_version 2.x\n",
        "import numpy as np\n",
        "import tensorflow.keras as keras\n",
        "from keras import models, layers\n",
        "import matplotlib.pyplot as plt\n",
        "\n",
        "np.random.seed(10)"
      ],
      "execution_count": 1,
      "outputs": [
        {
          "output_type": "stream",
          "text": [
            "Using TensorFlow backend.\n"
          ],
          "name": "stderr"
        }
      ]
    },
    {
      "cell_type": "markdown",
      "metadata": {
        "id": "38hICbgrD8wD",
        "colab_type": "text"
      },
      "source": [
        "# 1. General concepts"
      ]
    },
    {
      "cell_type": "markdown",
      "metadata": {
        "id": "ot8x5tzsEJA5",
        "colab_type": "text"
      },
      "source": [
        "## Artificial intelligence, machine learning, and deep learning\n",
        "Artificial intelligence is the concept of and field of computers doing things that are \"smart\". This is really broad, and it might be used to mean computers doing \"intelligent\" things that a computer would normally not be expected to do.\n",
        "\\\n",
        "\\\n",
        "Two subsets of artificial intelligence are \"symbolic AI\" or \"good old fashioned AI\" (\"GOFAI\"), and machine learning.\n",
        "\n",
        "Symbolic AI involves a computer using input and a set of rules to get an output. The symbolic AI program may be presented with a problem of some sort and uses the rules to come up with a solution. This has been the traditional form of AI. The programmer must specify all rules that the AI follows.\n",
        "\n",
        "Machine learning, on the other hand, takes inputs and outputs, and tries to come up with rules. This allows it to perform well on unforseen data.\n",
        "\n",
        "Within machine learning, there are multiple types of machine learning. These include supervised learning unsupervised learning, and reinforcement learning.\n",
        "\n",
        "In supervised learning, labels are provided for given input. This allows a machine learning model's performance to be evaluated. Much of what we learned in this course is supervised learning.\n",
        "\n",
        "In unsupervised learning, labels are not provided. Unsupervised learning might try to find patterns in data that might not be noticed by humans.\n",
        "\n",
        "In reinforcement learning, a model can receive positive or negative \"reinforcement\". This can encourage it to perform some action more often or less often or predict one or another way based on the reinforcement it receives.\n",
        "\n",
        "Deep learning is a subset of machine learning that involves using multiple layers to progressively abstract features from input."
      ]
    },
    {
      "cell_type": "markdown",
      "metadata": {
        "id": "gbSRXdp-Pppo",
        "colab_type": "text"
      },
      "source": [
        "# 2. Basic concepts\n",
        "\n",
        "\n",
        "\n"
      ]
    },
    {
      "cell_type": "markdown",
      "metadata": {
        "id": "ORnacyl_SGJH",
        "colab_type": "text"
      },
      "source": [
        "## Loss"
      ]
    },
    {
      "cell_type": "markdown",
      "metadata": {
        "id": "hgVU-FS-SKxr",
        "colab_type": "text"
      },
      "source": [
        "In machine learning, we often want to minimize error. In supervised learning, we can define a loss function that we want to be minimized when our error is low and maximized when our error is high."
      ]
    },
    {
      "cell_type": "markdown",
      "metadata": {
        "id": "icPaUdIhSO3E",
        "colab_type": "text"
      },
      "source": [
        "## The gradient\n"
      ]
    },
    {
      "cell_type": "markdown",
      "metadata": {
        "id": "XU9nTvSiM4E5",
        "colab_type": "text"
      },
      "source": [
        "For a scalar function $f$, we define the gradient of $f$, $\\nabla{f}$, as the vector function where its component in each dimension is the partial derivative of $f$ with respect to that dimension.\n",
        "\n",
        "$\\nabla{f}$ = $\\left< f_x, f_y, f_z, ... \\right>$"
      ]
    },
    {
      "cell_type": "markdown",
      "metadata": {
        "id": "5zG7WWQQOrSi",
        "colab_type": "text"
      },
      "source": [
        "## How gradient ties in with multivariate loss function"
      ]
    },
    {
      "cell_type": "markdown",
      "metadata": {
        "id": "QtEwNBX3OojQ",
        "colab_type": "text"
      },
      "source": [
        "We want to minimize loss. The gradient of a multivariate scalar function points in the direction of steepest increase.\n",
        "\n",
        "We can use the gradient to minimize loss by using the negative of the gradient. The negative of the gradient gives us the direction of steepest decrease."
      ]
    },
    {
      "cell_type": "markdown",
      "metadata": {
        "id": "u-PsdWl5Oh1R",
        "colab_type": "text"
      },
      "source": [
        "## Gradient descent and minima"
      ]
    },
    {
      "cell_type": "markdown",
      "metadata": {
        "id": "iEFnodTiRVPW",
        "colab_type": "text"
      },
      "source": [
        "The prediction of our machine learning model can be of the form $\\hat{y} = w_1x_1 + w_2x_2 + ...$\n",
        "\n",
        "where $w_1, w_2, ...$ are the weights.\n",
        "\n",
        "We can repeatedly update our weights based on the gradient and try to find a minimum for our loss function.\n",
        "\n",
        "It can be important for our loss function to not have many local minima. Gradient descent can get \"stuck\" in a local minimum. We want to find the global minimum."
      ]
    },
    {
      "cell_type": "markdown",
      "metadata": {
        "id": "xKmLNoQsQ0dR",
        "colab_type": "text"
      },
      "source": [
        "## Types of gradient descent"
      ]
    },
    {
      "cell_type": "markdown",
      "metadata": {
        "id": "7_cEoClXQ4Pw",
        "colab_type": "text"
      },
      "source": [
        "In this course, we studied stochastic gradient descent, mini-batch gradient descent, and batch gradient descent.\n",
        "\n",
        "Stochastic gradient descent uses a single example for each epoch.\n",
        "\n",
        "Mini-batch gradient descent uses some number of examples greater than one and less than the full training dataset for each epoch.\n",
        "\n",
        "Batch gradient descent uses the whole training dataset for each epoch.\n",
        "\n",
        "Batch gradient descent can be the most stable and the most expensive. Stochastic gradient descent can be the most unstable and the least expensive.\n",
        "Mini-batch gradient descent is a middle between the two.\n",
        "\n",
        "Sometimes mini-batch gradient descent might be preferred over batch gradient descent. If a large data set has data that we're randomly sampling during batch gradient descent, there can be redundancy, and it can be okay to not use as many samples per epoch."
      ]
    },
    {
      "cell_type": "markdown",
      "metadata": {
        "id": "YFuQ7ac9PTLQ",
        "colab_type": "text"
      },
      "source": [
        "## Linear regression\n",
        "\n",
        "A common problem in machine learning is linear regression. This involves finding a \"line of best fit\" for data.\n",
        "\n",
        "We define our prediction function to be $\\hat{y} = w_1x_1 + w_2x_2 + ...$, where $w$ is the weight vector and $x$ is the feature vector.\n",
        "\n",
        "Gradient descent can be used to solve linear regression. \n",
        "\n",
        "I will demonstrate a simple example of using gradient descent to solve linear regression. The weights can be extracted from the model after training is complete. Credit: https://colab.research.google.com/github/schneider128k/machine_learning_course/blob/master/linear_regression_keras.ipynb\n",
        "\n"
      ]
    },
    {
      "cell_type": "code",
      "metadata": {
        "id": "R4R4AUWAkpLw",
        "colab_type": "code",
        "outputId": "9657ccc8-c170-4ef3-8b39-4a0c7e9f352b",
        "colab": {
          "base_uri": "https://localhost:8080/",
          "height": 1000
        }
      },
      "source": [
        "# Generate the random data that will be used. This will correspond to the line y=5x with some noise.\n",
        "num_samples = 100\n",
        "\n",
        "train_x = np.random.default_rng().uniform(-10, 10, num_samples)\n",
        "train_y = 5 * train_x + np.random.default_rng().normal(0, 1, num_samples)\n",
        "\n",
        "test_x = np.random.default_rng().uniform(-10, 10, num_samples)\n",
        "test_y = 5 * test_x + np.random.default_rng().normal(0, 1, num_samples)\n",
        "\n",
        "# Build the model.\n",
        "model = models.Sequential()\n",
        "model.add(layers.Dense(1, input_shape=(1,)))\n",
        "\n",
        "# Compile the model.\n",
        "model.compile(optimizer='sgd', loss='mse', metrics=['mse'])\n",
        "\n",
        "# Train the model.\n",
        "model.fit(train_x, train_y, epochs=20)\n",
        "\n",
        "# Show data and compare the true line with the predicted line.\n",
        "fig = plt.figure(figsize=(24, 8))\n",
        "plt.subplot(121)\n",
        "plt.title('Test data with true line: y = 5x', fontdict={'fontsize':20})\n",
        "plt.scatter(train_x, train_y)\n",
        "plt.plot([-10, 10], [-50, 50], 'k-', lw=2)\n",
        "\n",
        "plt.subplot(122)\n",
        "predicted_weight = model.get_weights()[0][0][0]\n",
        "predicted_bias = model.get_weights()[1][0]\n",
        "plt.title('Test data with predicted line: y = {}x + {}'.format(predicted_weight, predicted_bias), fontdict={'fontsize':20})\n",
        "plt.scatter(train_x, train_y)\n",
        "plt.plot([-10, 10], [-10 * predicted_weight + predicted_bias, 10 * predicted_weight + predicted_bias])\n",
        "\n",
        "\n"
      ],
      "execution_count": 2,
      "outputs": [
        {
          "output_type": "stream",
          "text": [
            "Epoch 1/20\n",
            "100/100 [==============================] - 2s 16ms/step - loss: 250.8045 - mse: 250.8045\n",
            "Epoch 2/20\n",
            "100/100 [==============================] - 0s 86us/step - loss: 0.9333 - mse: 0.9333\n",
            "Epoch 3/20\n",
            "100/100 [==============================] - 0s 87us/step - loss: 0.8801 - mse: 0.8801\n",
            "Epoch 4/20\n",
            "100/100 [==============================] - 0s 93us/step - loss: 0.9133 - mse: 0.9133\n",
            "Epoch 5/20\n",
            "100/100 [==============================] - 0s 129us/step - loss: 0.9675 - mse: 0.9675\n",
            "Epoch 6/20\n",
            "100/100 [==============================] - 0s 135us/step - loss: 0.9076 - mse: 0.9076\n",
            "Epoch 7/20\n",
            "100/100 [==============================] - 0s 107us/step - loss: 0.8872 - mse: 0.8872\n",
            "Epoch 8/20\n",
            "100/100 [==============================] - 0s 85us/step - loss: 0.9198 - mse: 0.9198\n",
            "Epoch 9/20\n",
            "100/100 [==============================] - 0s 93us/step - loss: 0.9053 - mse: 0.9053\n",
            "Epoch 10/20\n",
            "100/100 [==============================] - 0s 95us/step - loss: 0.9184 - mse: 0.9184\n",
            "Epoch 11/20\n",
            "100/100 [==============================] - 0s 99us/step - loss: 0.9358 - mse: 0.9358\n",
            "Epoch 12/20\n",
            "100/100 [==============================] - 0s 89us/step - loss: 0.8944 - mse: 0.8944\n",
            "Epoch 13/20\n",
            "100/100 [==============================] - 0s 120us/step - loss: 0.9892 - mse: 0.9892\n",
            "Epoch 14/20\n",
            "100/100 [==============================] - 0s 91us/step - loss: 0.9495 - mse: 0.9495\n",
            "Epoch 15/20\n",
            "100/100 [==============================] - 0s 96us/step - loss: 0.8706 - mse: 0.8706\n",
            "Epoch 16/20\n",
            "100/100 [==============================] - 0s 115us/step - loss: 0.8804 - mse: 0.8804\n",
            "Epoch 17/20\n",
            "100/100 [==============================] - 0s 95us/step - loss: 0.8771 - mse: 0.8771\n",
            "Epoch 18/20\n",
            "100/100 [==============================] - 0s 84us/step - loss: 0.8754 - mse: 0.8754\n",
            "Epoch 19/20\n",
            "100/100 [==============================] - 0s 107us/step - loss: 0.9466 - mse: 0.9466\n",
            "Epoch 20/20\n",
            "100/100 [==============================] - 0s 108us/step - loss: 0.8687 - mse: 0.8687\n"
          ],
          "name": "stdout"
        },
        {
          "output_type": "execute_result",
          "data": {
            "text/plain": [
              "[<matplotlib.lines.Line2D at 0x7f3a2013d208>]"
            ]
          },
          "metadata": {
            "tags": []
          },
          "execution_count": 2
        },
        {
          "output_type": "display_data",
          "data": {
            "image/png": "[encoded data removed]",
            "text/plain": [
              "<Figure size 1728x576 with 2 Axes>"
            ]
          },
          "metadata": {
            "tags": [],
            "needs_background": "light"
          }
        }
      ]
    },
    {
      "cell_type": "markdown",
      "metadata": {
        "id": "B2ccwtgV0lu0",
        "colab_type": "text"
      },
      "source": [
        "## Logistic regression"
      ]
    },
    {
      "cell_type": "markdown",
      "metadata": {
        "id": "Htn4qpS20ukU",
        "colab_type": "text"
      },
      "source": [
        "The sigmoid function $\\sigma: \\mathbb{R}\\mapsto\\mathbb(0, 1)$ is defined as follows:\n",
        "\n",
        "$\\sigma(z) = \\frac{1}{1 + e^{-z}}$\n",
        "\n",
        "It is equal to $\\frac{1}{2}$ when z = 0. It is close to 0 when z is very negative and close to 1 when z is very positive.\n",
        "\n",
        "\n",
        "\n",
        "Logistic regression is another machine learning problem. It is somewhat similar to linear regression. It can be used in binary classifcation by mapping the result of the sigmoid function to one of the two classes 0 and 1.\n",
        "\n",
        "The weights can also be extracted from a model in logistic regression. Results can be of the form $\\hat{y} = predict(\\sigma(w \\cdot x)$ where predict(z) equals 0 if z < 0.5 and 1 otherwise.\n",
        "\n",
        "I will demonstrate logistic regression.\n",
        "For this problem, there will be 2 classes of points in 3-dimensional space. One class will correspond with the plane $x_3=x_1+x_2$ and one will correspond with the plane $x_3=x_1+x_2+2$."
      ]
    },
    {
      "cell_type": "code",
      "metadata": {
        "id": "_LBrA-kmGhDn",
        "colab_type": "code",
        "outputId": "03e3bb40-2e4d-4283-98d3-42ad4d08f211",
        "colab": {
          "base_uri": "https://localhost:8080/",
          "height": 466
        }
      },
      "source": [
        "train_m = 100\n",
        "test_m = 20\n",
        "\n",
        "# Generate training and test data.\n",
        "train_x1 = np.random.default_rng().uniform(-1, 1, train_m)\n",
        "train_x2 = np.random.default_rng().uniform(-1, 1, train_m)\n",
        "train_x3 = np.zeros(train_m)\n",
        "train_labels = np.zeros(train_m)\n",
        "for i in range(train_m):\n",
        "  if np.random.randint(0, 2) == 0:\n",
        "    train_x3[i] = train_x1[i] + train_x2[i] + np.random.default_rng().normal(0, 0.1, 1)\n",
        "    train_labels[i] = 0\n",
        "  else:\n",
        "    train_x3[i] = train_x1[i] + train_x2[i] + np.random.default_rng().normal(0, 0.1, 1) + 2\n",
        "    train_labels[i] = 1\n",
        "\n",
        "test_x1 = np.random.default_rng().uniform(-1, 1, test_m)\n",
        "test_x2 = np.random.default_rng().uniform(-1, 1, test_m)\n",
        "test_x3 = np.zeros(test_m)\n",
        "test_labels = np.zeros(test_m)\n",
        "for i in range(test_m):\n",
        "  if np.random.randint(0, 2) == 0:\n",
        "    test_x3[i] = test_x1[i] + test_x2[i] + np.random.default_rng().normal(0, 0.1, 1)\n",
        "    test_labels[i] = 0\n",
        "  else:\n",
        "    test_x3[i] = test_x1[i] + test_x2[i] + np.random.default_rng().normal(0, 0.1, 1) + 2\n",
        "    test_labels[i] = 1\n",
        "\n",
        "# Plot the training data.\n",
        "fig = plt.figure(figsize=(12, 8))\n",
        "\n",
        "ax = plt.axes(projection='3d')\n",
        "ax.scatter3D(train_x1[train_labels == 0], train_x2[train_labels == 0], train_x3[train_labels == 0], c=\"red\", label=\"Class 0\")\n",
        "ax.scatter3D(train_x1[train_labels == 1], train_x2[train_labels == 1], train_x3[train_labels == 1], c=\"blue\", label=\"Class 1\")\n",
        "\n",
        "ax.view_init(10, 0)\n",
        "plt.title('Training Data', fontdict={'fontsize':20})\n",
        "plt.legend()\n",
        "pass"
      ],
      "execution_count": 3,
      "outputs": [
        {
          "output_type": "display_data",
          "data": {
            "image/png": "[encoded data removed]",
            "text/plain": [
              "<Figure size 864x576 with 1 Axes>"
            ]
          },
          "metadata": {
            "tags": [],
            "needs_background": "light"
          }
        }
      ]
    },
    {
      "cell_type": "code",
      "metadata": {
        "id": "t5wtuM09duXU",
        "colab_type": "code",
        "colab": {
          "base_uri": "https://localhost:8080/",
          "height": 466
        },
        "outputId": "8184fa9f-d6ba-4a29-d16d-85a3a308bed6"
      },
      "source": [
        "# Plot the test data.\n",
        "fig = plt.figure(figsize=(12, 8))\n",
        "\n",
        "ax = plt.axes(projection='3d')\n",
        "ax.scatter3D(test_x1[test_labels == 0], test_x2[test_labels == 0], test_x3[test_labels == 0], c=\"red\", label=\"Class 0\")\n",
        "ax.scatter3D(test_x1[test_labels == 1], test_x2[test_labels == 1], test_x3[test_labels == 1], c=\"blue\", label=\"Class 1\")\n",
        "\n",
        "ax.view_init(10, 0)\n",
        "plt.title('Test Data', fontdict={'fontsize':20})\n",
        "plt.legend()\n",
        "pass"
      ],
      "execution_count": 4,
      "outputs": [
        {
          "output_type": "display_data",
          "data": {
            "image/png": "[encoded data removed]",
            "text/plain": [
              "<Figure size 864x576 with 1 Axes>"
            ]
          },
          "metadata": {
            "tags": [],
            "needs_background": "light"
          }
        }
      ]
    },
    {
      "cell_type": "markdown",
      "metadata": {
        "id": "3nrVMpp3X7Gg",
        "colab_type": "text"
      },
      "source": [
        "Perform logistic regression"
      ]
    },
    {
      "cell_type": "code",
      "metadata": {
        "id": "X3M2NEu1YhZO",
        "colab_type": "code",
        "outputId": "dcd78e66-427f-4423-e092-c447dea70083",
        "colab": {
          "base_uri": "https://localhost:8080/",
          "height": 1000
        }
      },
      "source": [
        "# Build and compile the model\n",
        "model = models.Sequential()\n",
        "opt = keras.optimizers.RMSprop(lr=0.01)\n",
        "model.add(layers.Dense(1, activation='sigmoid', name='DenseOutput', input_dim=3))\n",
        "model.compile(optimizer=opt, loss='binary_crossentropy', metrics=['accuracy'])\n",
        "\n",
        "# Train the model\n",
        "history = model.fit(np.array([train_x1, train_x2, train_x3]).T, train_labels, validation_data=(np.array([test_x1, test_x2, test_x3]).T, test_labels), epochs=100)"
      ],
      "execution_count": 5,
      "outputs": [
        {
          "output_type": "stream",
          "text": [
            "Train on 100 samples, validate on 20 samples\n",
            "Epoch 1/100\n",
            "100/100 [==============================] - 0s 980us/step - loss: 1.2998 - accuracy: 0.2400 - val_loss: 1.2924 - val_accuracy: 0.3500\n",
            "Epoch 2/100\n",
            "100/100 [==============================] - 0s 136us/step - loss: 1.2284 - accuracy: 0.2300 - val_loss: 1.2391 - val_accuracy: 0.2500\n",
            "Epoch 3/100\n",
            "100/100 [==============================] - 0s 120us/step - loss: 1.1749 - accuracy: 0.2000 - val_loss: 1.1894 - val_accuracy: 0.2500\n",
            "Epoch 4/100\n",
            "100/100 [==============================] - 0s 121us/step - loss: 1.1292 - accuracy: 0.2000 - val_loss: 1.1546 - val_accuracy: 0.2500\n",
            "Epoch 5/100\n",
            "100/100 [==============================] - 0s 116us/step - loss: 1.0920 - accuracy: 0.1700 - val_loss: 1.1315 - val_accuracy: 0.2500\n",
            "Epoch 6/100\n",
            "100/100 [==============================] - 0s 123us/step - loss: 1.0669 - accuracy: 0.1700 - val_loss: 1.1056 - val_accuracy: 0.2500\n",
            "Epoch 7/100\n",
            "100/100 [==============================] - 0s 116us/step - loss: 1.0380 - accuracy: 0.1700 - val_loss: 1.0778 - val_accuracy: 0.2500\n",
            "Epoch 8/100\n",
            "100/100 [==============================] - 0s 123us/step - loss: 1.0109 - accuracy: 0.1700 - val_loss: 1.0548 - val_accuracy: 0.2500\n",
            "Epoch 9/100\n",
            "100/100 [==============================] - 0s 156us/step - loss: 0.9845 - accuracy: 0.1600 - val_loss: 1.0249 - val_accuracy: 0.1500\n",
            "Epoch 10/100\n",
            "100/100 [==============================] - 0s 152us/step - loss: 0.9563 - accuracy: 0.1500 - val_loss: 1.0004 - val_accuracy: 0.1500\n",
            "Epoch 11/100\n",
            "100/100 [==============================] - 0s 118us/step - loss: 0.9322 - accuracy: 0.1600 - val_loss: 0.9744 - val_accuracy: 0.1500\n",
            "Epoch 12/100\n",
            "100/100 [==============================] - 0s 123us/step - loss: 0.9066 - accuracy: 0.1300 - val_loss: 0.9558 - val_accuracy: 0.1500\n",
            "Epoch 13/100\n",
            "100/100 [==============================] - 0s 129us/step - loss: 0.8904 - accuracy: 0.1600 - val_loss: 0.9370 - val_accuracy: 0.1000\n",
            "Epoch 14/100\n",
            "100/100 [==============================] - 0s 125us/step - loss: 0.8688 - accuracy: 0.2200 - val_loss: 0.9221 - val_accuracy: 0.1000\n",
            "Epoch 15/100\n",
            "100/100 [==============================] - 0s 123us/step - loss: 0.8515 - accuracy: 0.2600 - val_loss: 0.9044 - val_accuracy: 0.1500\n",
            "Epoch 16/100\n",
            "100/100 [==============================] - 0s 124us/step - loss: 0.8350 - accuracy: 0.2600 - val_loss: 0.8828 - val_accuracy: 0.2000\n",
            "Epoch 17/100\n",
            "100/100 [==============================] - 0s 125us/step - loss: 0.8137 - accuracy: 0.3200 - val_loss: 0.8665 - val_accuracy: 0.2000\n",
            "Epoch 18/100\n",
            "100/100 [==============================] - 0s 117us/step - loss: 0.7979 - accuracy: 0.3500 - val_loss: 0.8457 - val_accuracy: 0.2000\n",
            "Epoch 19/100\n",
            "100/100 [==============================] - 0s 123us/step - loss: 0.7810 - accuracy: 0.3600 - val_loss: 0.8281 - val_accuracy: 0.1500\n",
            "Epoch 20/100\n",
            "100/100 [==============================] - 0s 119us/step - loss: 0.7648 - accuracy: 0.3700 - val_loss: 0.8096 - val_accuracy: 0.2000\n",
            "Epoch 21/100\n",
            "100/100 [==============================] - 0s 118us/step - loss: 0.7485 - accuracy: 0.4100 - val_loss: 0.7953 - val_accuracy: 0.2500\n",
            "Epoch 22/100\n",
            "100/100 [==============================] - 0s 159us/step - loss: 0.7350 - accuracy: 0.4200 - val_loss: 0.7779 - val_accuracy: 0.2500\n",
            "Epoch 23/100\n",
            "100/100 [==============================] - 0s 131us/step - loss: 0.7166 - accuracy: 0.4700 - val_loss: 0.7646 - val_accuracy: 0.3500\n",
            "Epoch 24/100\n",
            "100/100 [==============================] - 0s 144us/step - loss: 0.7024 - accuracy: 0.5200 - val_loss: 0.7523 - val_accuracy: 0.4000\n",
            "Epoch 25/100\n",
            "100/100 [==============================] - 0s 136us/step - loss: 0.6883 - accuracy: 0.5200 - val_loss: 0.7363 - val_accuracy: 0.4000\n",
            "Epoch 26/100\n",
            "100/100 [==============================] - 0s 114us/step - loss: 0.6757 - accuracy: 0.5600 - val_loss: 0.7225 - val_accuracy: 0.4000\n",
            "Epoch 27/100\n",
            "100/100 [==============================] - 0s 125us/step - loss: 0.6622 - accuracy: 0.5800 - val_loss: 0.7126 - val_accuracy: 0.4500\n",
            "Epoch 28/100\n",
            "100/100 [==============================] - 0s 129us/step - loss: 0.6499 - accuracy: 0.6200 - val_loss: 0.7020 - val_accuracy: 0.5500\n",
            "Epoch 29/100\n",
            "100/100 [==============================] - 0s 150us/step - loss: 0.6375 - accuracy: 0.6500 - val_loss: 0.6908 - val_accuracy: 0.5500\n",
            "Epoch 30/100\n",
            "100/100 [==============================] - 0s 204us/step - loss: 0.6256 - accuracy: 0.6600 - val_loss: 0.6811 - val_accuracy: 0.5500\n",
            "Epoch 31/100\n",
            "100/100 [==============================] - 0s 135us/step - loss: 0.6147 - accuracy: 0.6800 - val_loss: 0.6685 - val_accuracy: 0.5500\n",
            "Epoch 32/100\n",
            "100/100 [==============================] - 0s 165us/step - loss: 0.6050 - accuracy: 0.6800 - val_loss: 0.6579 - val_accuracy: 0.5500\n",
            "Epoch 33/100\n",
            "100/100 [==============================] - 0s 131us/step - loss: 0.5947 - accuracy: 0.6900 - val_loss: 0.6445 - val_accuracy: 0.5500\n",
            "Epoch 34/100\n",
            "100/100 [==============================] - 0s 130us/step - loss: 0.5829 - accuracy: 0.7300 - val_loss: 0.6286 - val_accuracy: 0.5500\n",
            "Epoch 35/100\n",
            "100/100 [==============================] - 0s 145us/step - loss: 0.5707 - accuracy: 0.7500 - val_loss: 0.6176 - val_accuracy: 0.5500\n",
            "Epoch 36/100\n",
            "100/100 [==============================] - 0s 131us/step - loss: 0.5587 - accuracy: 0.7700 - val_loss: 0.6064 - val_accuracy: 0.5500\n",
            "Epoch 37/100\n",
            "100/100 [==============================] - 0s 152us/step - loss: 0.5476 - accuracy: 0.7800 - val_loss: 0.5936 - val_accuracy: 0.6000\n",
            "Epoch 38/100\n",
            "100/100 [==============================] - 0s 120us/step - loss: 0.5354 - accuracy: 0.7800 - val_loss: 0.5802 - val_accuracy: 0.6000\n",
            "Epoch 39/100\n",
            "100/100 [==============================] - 0s 137us/step - loss: 0.5257 - accuracy: 0.7800 - val_loss: 0.5682 - val_accuracy: 0.6000\n",
            "Epoch 40/100\n",
            "100/100 [==============================] - 0s 128us/step - loss: 0.5149 - accuracy: 0.7800 - val_loss: 0.5566 - val_accuracy: 0.6500\n",
            "Epoch 41/100\n",
            "100/100 [==============================] - 0s 121us/step - loss: 0.5045 - accuracy: 0.7800 - val_loss: 0.5453 - val_accuracy: 0.7000\n",
            "Epoch 42/100\n",
            "100/100 [==============================] - 0s 116us/step - loss: 0.4939 - accuracy: 0.7800 - val_loss: 0.5360 - val_accuracy: 0.7000\n",
            "Epoch 43/100\n",
            "100/100 [==============================] - 0s 121us/step - loss: 0.4833 - accuracy: 0.7800 - val_loss: 0.5215 - val_accuracy: 0.7000\n",
            "Epoch 44/100\n",
            "100/100 [==============================] - 0s 142us/step - loss: 0.4727 - accuracy: 0.8000 - val_loss: 0.5095 - val_accuracy: 0.7500\n",
            "Epoch 45/100\n",
            "100/100 [==============================] - 0s 117us/step - loss: 0.4621 - accuracy: 0.8100 - val_loss: 0.4969 - val_accuracy: 0.7500\n",
            "Epoch 46/100\n",
            "100/100 [==============================] - 0s 114us/step - loss: 0.4523 - accuracy: 0.8300 - val_loss: 0.4868 - val_accuracy: 0.7500\n",
            "Epoch 47/100\n",
            "100/100 [==============================] - 0s 150us/step - loss: 0.4423 - accuracy: 0.8500 - val_loss: 0.4759 - val_accuracy: 0.8000\n",
            "Epoch 48/100\n",
            "100/100 [==============================] - 0s 124us/step - loss: 0.4329 - accuracy: 0.8600 - val_loss: 0.4660 - val_accuracy: 0.8000\n",
            "Epoch 49/100\n",
            "100/100 [==============================] - 0s 113us/step - loss: 0.4235 - accuracy: 0.8700 - val_loss: 0.4562 - val_accuracy: 0.8000\n",
            "Epoch 50/100\n",
            "100/100 [==============================] - 0s 110us/step - loss: 0.4143 - accuracy: 0.8800 - val_loss: 0.4474 - val_accuracy: 0.8000\n",
            "Epoch 51/100\n",
            "100/100 [==============================] - 0s 134us/step - loss: 0.4048 - accuracy: 0.8800 - val_loss: 0.4362 - val_accuracy: 0.8500\n",
            "Epoch 52/100\n",
            "100/100 [==============================] - 0s 134us/step - loss: 0.3970 - accuracy: 0.8900 - val_loss: 0.4292 - val_accuracy: 0.8500\n",
            "Epoch 53/100\n",
            "100/100 [==============================] - 0s 143us/step - loss: 0.3887 - accuracy: 0.8900 - val_loss: 0.4208 - val_accuracy: 0.9000\n",
            "Epoch 54/100\n",
            "100/100 [==============================] - 0s 178us/step - loss: 0.3804 - accuracy: 0.8900 - val_loss: 0.4144 - val_accuracy: 0.8500\n",
            "Epoch 55/100\n",
            "100/100 [==============================] - 0s 113us/step - loss: 0.3733 - accuracy: 0.8900 - val_loss: 0.4064 - val_accuracy: 0.9000\n",
            "Epoch 56/100\n",
            "100/100 [==============================] - 0s 107us/step - loss: 0.3654 - accuracy: 0.9000 - val_loss: 0.3994 - val_accuracy: 0.9000\n",
            "Epoch 57/100\n",
            "100/100 [==============================] - 0s 156us/step - loss: 0.3581 - accuracy: 0.9000 - val_loss: 0.3879 - val_accuracy: 0.9500\n",
            "Epoch 58/100\n",
            "100/100 [==============================] - 0s 135us/step - loss: 0.3497 - accuracy: 0.9200 - val_loss: 0.3784 - val_accuracy: 0.9500\n",
            "Epoch 59/100\n",
            "100/100 [==============================] - 0s 127us/step - loss: 0.3420 - accuracy: 0.9400 - val_loss: 0.3679 - val_accuracy: 0.9500\n",
            "Epoch 60/100\n",
            "100/100 [==============================] - 0s 115us/step - loss: 0.3348 - accuracy: 0.9500 - val_loss: 0.3631 - val_accuracy: 0.9500\n",
            "Epoch 61/100\n",
            "100/100 [==============================] - 0s 126us/step - loss: 0.3288 - accuracy: 0.9500 - val_loss: 0.3551 - val_accuracy: 0.9500\n",
            "Epoch 62/100\n",
            "100/100 [==============================] - 0s 139us/step - loss: 0.3221 - accuracy: 0.9500 - val_loss: 0.3486 - val_accuracy: 0.9500\n",
            "Epoch 63/100\n",
            "100/100 [==============================] - 0s 117us/step - loss: 0.3158 - accuracy: 0.9500 - val_loss: 0.3410 - val_accuracy: 0.9500\n",
            "Epoch 64/100\n",
            "100/100 [==============================] - 0s 124us/step - loss: 0.3088 - accuracy: 0.9500 - val_loss: 0.3333 - val_accuracy: 0.9500\n",
            "Epoch 65/100\n",
            "100/100 [==============================] - 0s 163us/step - loss: 0.3017 - accuracy: 0.9500 - val_loss: 0.3254 - val_accuracy: 1.0000\n",
            "Epoch 66/100\n",
            "100/100 [==============================] - 0s 131us/step - loss: 0.2946 - accuracy: 0.9500 - val_loss: 0.3172 - val_accuracy: 1.0000\n",
            "Epoch 67/100\n",
            "100/100 [==============================] - 0s 144us/step - loss: 0.2877 - accuracy: 0.9500 - val_loss: 0.3084 - val_accuracy: 1.0000\n",
            "Epoch 68/100\n",
            "100/100 [==============================] - 0s 149us/step - loss: 0.2807 - accuracy: 0.9500 - val_loss: 0.3022 - val_accuracy: 1.0000\n",
            "Epoch 69/100\n",
            "100/100 [==============================] - 0s 138us/step - loss: 0.2744 - accuracy: 0.9500 - val_loss: 0.2954 - val_accuracy: 1.0000\n",
            "Epoch 70/100\n",
            "100/100 [==============================] - 0s 148us/step - loss: 0.2683 - accuracy: 0.9500 - val_loss: 0.2899 - val_accuracy: 1.0000\n",
            "Epoch 71/100\n",
            "100/100 [==============================] - 0s 140us/step - loss: 0.2623 - accuracy: 0.9600 - val_loss: 0.2824 - val_accuracy: 1.0000\n",
            "Epoch 72/100\n",
            "100/100 [==============================] - 0s 181us/step - loss: 0.2561 - accuracy: 0.9600 - val_loss: 0.2764 - val_accuracy: 1.0000\n",
            "Epoch 73/100\n",
            "100/100 [==============================] - 0s 135us/step - loss: 0.2497 - accuracy: 0.9800 - val_loss: 0.2678 - val_accuracy: 1.0000\n",
            "Epoch 74/100\n",
            "100/100 [==============================] - 0s 128us/step - loss: 0.2433 - accuracy: 0.9900 - val_loss: 0.2620 - val_accuracy: 1.0000\n",
            "Epoch 75/100\n",
            "100/100 [==============================] - 0s 147us/step - loss: 0.2379 - accuracy: 0.9900 - val_loss: 0.2552 - val_accuracy: 1.0000\n",
            "Epoch 76/100\n",
            "100/100 [==============================] - 0s 114us/step - loss: 0.2317 - accuracy: 0.9900 - val_loss: 0.2475 - val_accuracy: 1.0000\n",
            "Epoch 77/100\n",
            "100/100 [==============================] - 0s 121us/step - loss: 0.2257 - accuracy: 1.0000 - val_loss: 0.2397 - val_accuracy: 1.0000\n",
            "Epoch 78/100\n",
            "100/100 [==============================] - 0s 149us/step - loss: 0.2199 - accuracy: 1.0000 - val_loss: 0.2357 - val_accuracy: 1.0000\n",
            "Epoch 79/100\n",
            "100/100 [==============================] - 0s 140us/step - loss: 0.2155 - accuracy: 1.0000 - val_loss: 0.2283 - val_accuracy: 1.0000\n",
            "Epoch 80/100\n",
            "100/100 [==============================] - 0s 117us/step - loss: 0.2101 - accuracy: 1.0000 - val_loss: 0.2226 - val_accuracy: 1.0000\n",
            "Epoch 81/100\n",
            "100/100 [==============================] - 0s 119us/step - loss: 0.2056 - accuracy: 1.0000 - val_loss: 0.2196 - val_accuracy: 1.0000\n",
            "Epoch 82/100\n",
            "100/100 [==============================] - 0s 137us/step - loss: 0.2012 - accuracy: 1.0000 - val_loss: 0.2157 - val_accuracy: 1.0000\n",
            "Epoch 83/100\n",
            "100/100 [==============================] - 0s 113us/step - loss: 0.1972 - accuracy: 1.0000 - val_loss: 0.2104 - val_accuracy: 1.0000\n",
            "Epoch 84/100\n",
            "100/100 [==============================] - 0s 130us/step - loss: 0.1925 - accuracy: 1.0000 - val_loss: 0.2055 - val_accuracy: 1.0000\n",
            "Epoch 85/100\n",
            "100/100 [==============================] - 0s 119us/step - loss: 0.1881 - accuracy: 1.0000 - val_loss: 0.1989 - val_accuracy: 1.0000\n",
            "Epoch 86/100\n",
            "100/100 [==============================] - 0s 130us/step - loss: 0.1832 - accuracy: 1.0000 - val_loss: 0.1934 - val_accuracy: 1.0000\n",
            "Epoch 87/100\n",
            "100/100 [==============================] - 0s 155us/step - loss: 0.1786 - accuracy: 1.0000 - val_loss: 0.1886 - val_accuracy: 1.0000\n",
            "Epoch 88/100\n",
            "100/100 [==============================] - 0s 144us/step - loss: 0.1742 - accuracy: 1.0000 - val_loss: 0.1827 - val_accuracy: 1.0000\n",
            "Epoch 89/100\n",
            "100/100 [==============================] - 0s 165us/step - loss: 0.1699 - accuracy: 1.0000 - val_loss: 0.1799 - val_accuracy: 1.0000\n",
            "Epoch 90/100\n",
            "100/100 [==============================] - 0s 130us/step - loss: 0.1664 - accuracy: 1.0000 - val_loss: 0.1745 - val_accuracy: 1.0000\n",
            "Epoch 91/100\n",
            "100/100 [==============================] - 0s 143us/step - loss: 0.1625 - accuracy: 1.0000 - val_loss: 0.1704 - val_accuracy: 1.0000\n",
            "Epoch 92/100\n",
            "100/100 [==============================] - 0s 130us/step - loss: 0.1587 - accuracy: 1.0000 - val_loss: 0.1665 - val_accuracy: 1.0000\n",
            "Epoch 93/100\n",
            "100/100 [==============================] - 0s 169us/step - loss: 0.1553 - accuracy: 1.0000 - val_loss: 0.1636 - val_accuracy: 1.0000\n",
            "Epoch 94/100\n",
            "100/100 [==============================] - 0s 129us/step - loss: 0.1515 - accuracy: 1.0000 - val_loss: 0.1598 - val_accuracy: 1.0000\n",
            "Epoch 95/100\n",
            "100/100 [==============================] - 0s 140us/step - loss: 0.1479 - accuracy: 1.0000 - val_loss: 0.1569 - val_accuracy: 1.0000\n",
            "Epoch 96/100\n",
            "100/100 [==============================] - 0s 122us/step - loss: 0.1444 - accuracy: 1.0000 - val_loss: 0.1535 - val_accuracy: 1.0000\n",
            "Epoch 97/100\n",
            "100/100 [==============================] - 0s 114us/step - loss: 0.1412 - accuracy: 1.0000 - val_loss: 0.1479 - val_accuracy: 1.0000\n",
            "Epoch 98/100\n",
            "100/100 [==============================] - 0s 125us/step - loss: 0.1374 - accuracy: 1.0000 - val_loss: 0.1447 - val_accuracy: 1.0000\n",
            "Epoch 99/100\n",
            "100/100 [==============================] - 0s 124us/step - loss: 0.1343 - accuracy: 1.0000 - val_loss: 0.1409 - val_accuracy: 1.0000\n",
            "Epoch 100/100\n",
            "100/100 [==============================] - 0s 140us/step - loss: 0.1312 - accuracy: 1.0000 - val_loss: 0.1382 - val_accuracy: 1.0000\n"
          ],
          "name": "stdout"
        }
      ]
    },
    {
      "cell_type": "code",
      "metadata": {
        "id": "bKXe-odMghic",
        "colab_type": "code",
        "colab": {
          "base_uri": "https://localhost:8080/",
          "height": 281
        },
        "outputId": "f2d43bf3-9b3e-41c7-949f-bb6488eb69aa"
      },
      "source": [
        "plt.subplot(211)\n",
        "plt.title('Loss')\n",
        "plt.plot(history.history['loss'], label='train')\n",
        "plt.plot(history.history['val_loss'], label='test')\n",
        "plt.legend()\n",
        "\n",
        "plt.subplot(212)\n",
        "plt.title('Accuracy')\n",
        "plt.plot(history.history['accuracy'], label='train')\n",
        "plt.plot(history.history['val_accuracy'], label='test')\n",
        "plt.legend()\n",
        "\n",
        "plt.show()"
      ],
      "execution_count": 6,
      "outputs": [
        {
          "output_type": "display_data",
          "data": {
            "image/png": "[encoded data removed]",
            "text/plain": [
              "<Figure size 432x288 with 2 Axes>"
            ]
          },
          "metadata": {
            "tags": [],
            "needs_background": "light"
          }
        }
      ]
    },
    {
      "cell_type": "markdown",
      "metadata": {
        "id": "DYWTq-38fXNe",
        "colab_type": "text"
      },
      "source": [
        "### Obtaining the separating plane"
      ]
    },
    {
      "cell_type": "markdown",
      "metadata": {
        "id": "myXCPGjeh9iJ",
        "colab_type": "text"
      },
      "source": [
        "We can obtain the separating plane similarly as we obtained the separating line in Homework 3, Problem 2.\n",
        "\n",
        "We will solve $w_1x_1 + w_2x_2 + w_3x_3 + b = 0$ in terms of $x_3$.\n",
        "\n",
        "$w_1x_1 + w_2x_2 + w_3x_3 + b = 0$\n",
        "\n",
        "$w_3x_3 = -w_1x_1 - w_2x_290 - b$\n",
        "\n",
        "$x_2 = -\\frac{w_1}{w_3}x_1 - \\frac{w_2}{w_3}x_2 - \\frac{b}{w_3}$\n",
        "\n",
        "We get $x_2 = -\\frac{w_1}{w_3}x_1 - \\frac{w_2}{w_3}x_2 - \\frac{b}{w_3}$.\n",
        "\n",
        "The true planes used to generate the data are $x_3 = x_1 + x_2$ and $x_3 = x_1 + x_2 + 2$."
      ]
    },
    {
      "cell_type": "code",
      "metadata": {
        "id": "DAnTYy2Elefg",
        "colab_type": "code",
        "colab": {
          "base_uri": "https://localhost:8080/",
          "height": 34
        },
        "outputId": "5f87392e-999d-4872-b1a0-f91909a2fe6d"
      },
      "source": [
        "dense_layer = model.get_layer(name='DenseOutput')\n",
        "weights = dense_layer.get_weights()[0][:,0]\n",
        "bias = dense_layer.get_weights()[1][0]\n",
        "coefficient1 = - (weights[0] / weights[2])\n",
        "coefficient2 = - (weights[1] / weights[2])\n",
        "coefficient3 = - (bias / weights[2])\n",
        "print(\"The plane that the model predicts is x_3 = {0}x_1 + {1}x_2 + {2}\".format(coefficient1, coefficient2, coefficient3))"
      ],
      "execution_count": 7,
      "outputs": [
        {
          "output_type": "stream",
          "text": [
            "The plane that the model predicts is x_3 = 0.7889741063117981x_1 + 0.7109518647193909x_2 + 0.8367621898651123\n"
          ],
          "name": "stdout"
        }
      ]
    },
    {
      "cell_type": "markdown",
      "metadata": {
        "id": "ztl7jCPbmaXq",
        "colab_type": "text"
      },
      "source": [
        "### Results\n"
      ]
    },
    {
      "cell_type": "markdown",
      "metadata": {
        "id": "Kj8C3hfeqO-O",
        "colab_type": "text"
      },
      "source": [
        "Here, the red plane represents the plane for class 0, the red dots represent the data for class 0, the blue plane represents the plane for class 1, the blue dots represent the data for class 1, and the purple plane represents the model's separating plane."
      ]
    },
    {
      "cell_type": "code",
      "metadata": {
        "id": "fTLECmSbnUiA",
        "colab_type": "code",
        "colab": {
          "base_uri": "https://localhost:8080/",
          "height": 483
        },
        "outputId": "86283927-9b13-45d0-b68b-7439919f1722"
      },
      "source": [
        "# Training set\n",
        "fig = plt.figure(figsize=(12, 8))\n",
        "\n",
        "x_1_plane = np.linspace(-1, 1, 50)\n",
        "x_2_plane = np.linspace(-1, 1, 50)\n",
        "x_3_plane = x_1_plane + x_2_plane\n",
        "\n",
        "X_1, X_2 = np.meshgrid(x_1_plane, x_2_plane)\n",
        "X_3 = X_1 + X_2\n",
        "\n",
        "fig = plt.figure(figsize=(12, 8))\n",
        "ax = plt.axes(projection='3d')\n",
        "ax.plot_surface(X_1, X_2, X_3, rstride=1, cstride=1,\n",
        "                color='red', alpha=0.5)\n",
        "\n",
        "x_1_plane = np.linspace(-1, 1, 50)\n",
        "x_2_plane = np.linspace(-1, 1, 50)\n",
        "x_3_plane = x_1_plane + x_2_plane + 2\n",
        "X_1, X_2 = np.meshgrid(x_1_plane, x_2_plane)\n",
        "X_3 = X_1 + X_2 + 2\n",
        "ax.plot_surface(X_1, X_2, X_3, rstride=1, cstride=1,\n",
        "                color='blue', alpha=0.5)\n",
        "\n",
        "x_1_plane = np.linspace(-1, 1, 50)\n",
        "x_2_plane = np.linspace(-1, 1, 50)\n",
        "x_3_plane = x_1_plane + x_2_plane + 2\n",
        "X_1, X_2 = np.meshgrid(x_1_plane, x_2_plane)\n",
        "X_3 = coefficient1 * X_1 + coefficient2 * X_2 + coefficient3\n",
        "ax.plot_surface(X_1, X_2, X_3, rstride=1, cstride=1,\n",
        "                color='purple', alpha=0.5)\n",
        "\n",
        "ax.scatter3D(test_x1[test_labels == 0], test_x2[test_labels == 0], test_x3[test_labels == 0], c=\"red\", label=\"Class 0\")\n",
        "ax.scatter3D(test_x1[test_labels == 1], test_x2[test_labels == 1], test_x3[test_labels == 1], c=\"blue\", label=\"Class 1\")\n",
        "\n",
        "ax.view_init(10, 0)\n",
        "plt.title('Test data and planes', fontdict={'fontsize':20})\n",
        "plt.legend()\n",
        "pass"
      ],
      "execution_count": 8,
      "outputs": [
        {
          "output_type": "display_data",
          "data": {
            "text/plain": [
              "<Figure size 864x576 with 0 Axes>"
            ]
          },
          "metadata": {
            "tags": []
          }
        },
        {
          "output_type": "display_data",
          "data": {
            "image/png": "[encoded data removed]",
            "text/plain": [
              "<Figure size 864x576 with 1 Axes>"
            ]
          },
          "metadata": {
            "tags": [],
            "needs_background": "light"
          }
        }
      ]
    },
    {
      "cell_type": "markdown",
      "metadata": {
        "id": "ma8jz0rPzaUU",
        "colab_type": "text"
      },
      "source": [
        "# 3. Building a model"
      ]
    },
    {
      "cell_type": "markdown",
      "metadata": {
        "id": "NEtuk9cSsDiI",
        "colab_type": "text"
      },
      "source": [
        "## Types of models"
      ]
    },
    {
      "cell_type": "markdown",
      "metadata": {
        "id": "B7fJ8mNdsa9f",
        "colab_type": "text"
      },
      "source": [
        "When building models with Keras, we have mainly covered non-convolutional models that consist entirely of non-convolutional layers, and convolutional models that consist of a conv base and a classifier."
      ]
    },
    {
      "cell_type": "markdown",
      "metadata": {
        "id": "mk1uaJ5GscNF",
        "colab_type": "text"
      },
      "source": [
        "## Structure of a convnet\n",
        "A convnet consists of a convolutional base and a classifier.\n",
        "\n",
        "The convolutional base is often pretrained. Its layers may be very general and not specific to a certain application that it's being used in.\n",
        "\n",
        "The convolutional classifier is what is added on top of the base. These can be your normal Keras layers.\n",
        "\n",
        "Each conv layer in the conv bases uses a convolutional filter to apply the convolution operation to its input. The filter is a matrix that passes over different possible spots in the input.\n",
        "\n",
        "The maxpooling function is used to reduce the number of dimensions of the feature map while preserving information.\n",
        "\n",
        "Convolution can be used to extract more and more abstract features from input."
      ]
    },
    {
      "cell_type": "markdown",
      "metadata": {
        "id": "v_2KJJAEv8pX",
        "colab_type": "text"
      },
      "source": [
        "# 4. Compiling a model"
      ]
    },
    {
      "cell_type": "markdown",
      "metadata": {
        "id": "5ugonef_w6hT",
        "colab_type": "text"
      },
      "source": [
        "Keras offers multiple different optimizers, which affect how the model is affected by updates. Some may be preferred in some circumstances over others.\n",
        "When compiling a model, metrics can be specified, which don't affect how the model learns during training but are used to evaluate the model.\n"
      ]
    },
    {
      "cell_type": "markdown",
      "metadata": {
        "id": "ihAoMou3w7Yy",
        "colab_type": "text"
      },
      "source": [
        "## Learning rate"
      ]
    },
    {
      "cell_type": "markdown",
      "metadata": {
        "id": "lGIrrsKCw9r4",
        "colab_type": "text"
      },
      "source": [
        "Learning rate can be specified when compiling a model. It determines how fast a model learns - how much it is affected by updates.\n",
        "\n",
        "In gradient descent, the model updates the weight vector at each step by subtracting $\\alpha\\nabla L$. $\\alpha$ is the learning rate."
      ]
    },
    {
      "cell_type": "markdown",
      "metadata": {
        "id": "X44iBvQcyDfY",
        "colab_type": "text"
      },
      "source": [
        "# 5. Training a model"
      ]
    },
    {
      "cell_type": "markdown",
      "metadata": {
        "id": "pXGmzz3qyHM5",
        "colab_type": "text"
      },
      "source": [
        "## Training data, test data, and validation data"
      ]
    },
    {
      "cell_type": "markdown",
      "metadata": {
        "id": "N-UODFC4ykfM",
        "colab_type": "text"
      },
      "source": [
        "Data can be divided into three sets: training, test, and validation.\n",
        "\n",
        "Training data is the data that a machine learning model trains on. It goes through epochs and weights get updated.\n",
        "\n",
        "Test data can be used to measure the performance of a model. For example, the accuracy of a model on the test set can be measured by observing how many test samples it gets correct out of the total number of test samples.\n",
        "\n",
        "Based on a model's performance on test data, hyperparameters such as learning rate might be tweaked.\n",
        "\n",
        "The validation can be another set somewhat like the test set but more final. It can be used to evaluate a model after all training is complete before it is used in production or elsewhere.\n"
      ]
    },
    {
      "cell_type": "markdown",
      "metadata": {
        "id": "_WQMWDN10kjl",
        "colab_type": "text"
      },
      "source": [
        "## Overfitting and underfitting\n",
        "\n",
        "![](https://upload.wikimedia.org/wikipedia/commons/1/19/Overfitting.svg)\n",
        "\n",
        "Image source: https://upload.wikimedia.org/wikipedia/commons/1/19/Overfitting.svg\n",
        "\n",
        "Overfitting is when a model fits too much around training data. This can cause it to perform worse in general. It can be better if the model does slightly worse on training data to do better in general.\n",
        "\n",
        "In the above picture, the green line represents overfitting. It captures all of the training data, but it's a really complicated pattern compared to the black line, which is the properly fit line. The green line will probably perform poorly on unseen data.\n",
        "\n",
        "If a model has a much higher training accuracy than validation accuracy, there might be overfitting.\n",
        "\n",
        "\n",
        "![](https://drive.google.com/uc?id=1g0umFb0w3zyoIT7yENGDXELJzPfpZA3q)\n",
        "\n",
        "Source: https://colab.research.google.com/drive/1F-RWvoxH8MmT7c1UmNy41iuOp-ejiLoF\n",
        "\n",
        "Underfitting is the opposite of overfitting. It's when the model doesn't do well enough on training data compared to validation data."
      ]
    },
    {
      "cell_type": "markdown",
      "metadata": {
        "id": "GKqBPDZZ2Wou",
        "colab_type": "text"
      },
      "source": [
        "## Hyperparameters"
      ]
    },
    {
      "cell_type": "markdown",
      "metadata": {
        "id": "h06sswyi2yLk",
        "colab_type": "text"
      },
      "source": [
        "Hyperparameters are parameters that are set before training begins and are not updated during training. These include learning rate and number of epochs.\n",
        "\n",
        "An epoch is an update iteration. The number of samples trained on per epoch can vary.\n",
        "\n",
        "Learning rate, as explained above, affects how fast a model's weights are updated. It can be important to choose a good learning rate for a problem. If learning rate is too high, the negative of the gradient might get taken way too far and the local minimum might be \"escaped\". If learning rate is too low, the model just might take too long to learn well enough and be intractable."
      ]
    },
    {
      "cell_type": "markdown",
      "metadata": {
        "id": "OEHImM9A3aOT",
        "colab_type": "text"
      },
      "source": [
        "# 6. Finetuning a pretrained model"
      ]
    },
    {
      "cell_type": "markdown",
      "metadata": {
        "id": "9M8ZltKZ37_1",
        "colab_type": "text"
      },
      "source": [
        "The pretrained models that we worked with in this class were pretrained conv bases.\n",
        "\n",
        "These conv bases consist of their own layers.\n",
        "\n",
        "Before fine-tuning, we keep those layers frozen and add a classifier. We train the model with the frozen layers and unfrozen classifier.\n",
        "\n",
        "We then unfreeze some of the top layers of the conv base, and retrain the model, this time with those unfrozen layers and the classifier still unfrozen.\n",
        "\n",
        "A lot of fine-tuning can be trial and error.\n",
        "\n",
        "One could try to start with unfreezing about 20% of the pretrained model's layers.\n",
        "\n",
        "The structure of the classifier can also be important. Try to choose a number of parameters that well reflects the complexity of the problem. A small and simple dataset with clear differences between labels might take few parameters, while a huge and nuanced dataset may take many parameters.\n",
        "\n",
        "Adjust based on the results."
      ]
    },
    {
      "cell_type": "markdown",
      "metadata": {
        "id": "Vb0nKlw05VLd",
        "colab_type": "text"
      },
      "source": [
        "## Example"
      ]
    },
    {
      "cell_type": "markdown",
      "metadata": {
        "id": "xp5M5ekB6V2w",
        "colab_type": "text"
      },
      "source": [
        "I am going to fine-tune a pretrained convnet on the cats and dogs dataset. I will unfreeze the top 30 layers."
      ]
    },
    {
      "cell_type": "markdown",
      "metadata": {
        "id": "e1wW59cH7yPG",
        "colab_type": "text"
      },
      "source": [
        "### Setup"
      ]
    },
    {
      "cell_type": "code",
      "metadata": {
        "id": "mZQtxKDs6q3M",
        "colab_type": "code",
        "colab": {
          "base_uri": "https://localhost:8080/",
          "height": 204
        },
        "outputId": "b323dff9-fd8c-426a-b488-50f8a8f38ed9"
      },
      "source": [
        "import os\n",
        "import zipfile\n",
        "from keras.applications import DenseNet121\n",
        "from keras import layers\n",
        "from keras import models\n",
        "from keras import optimizers\n",
        "!wget --no-check-certificate \\\n",
        "    https://storage.googleapis.com/mledu-datasets/cats_and_dogs_filtered.zip \\\n",
        "    -O /tmp/cats_and_dogs_filtered.zip\n",
        "local_zip = '/tmp/cats_and_dogs_filtered.zip'\n",
        "zip_ref = zipfile.ZipFile(local_zip, 'r')\n",
        "zip_ref.extractall('/tmp')\n",
        "zip_ref.close()\n",
        "base_dir = '/tmp/cats_and_dogs_filtered'\n",
        "train_dir = os.path.join(base_dir, 'train')\n",
        "validation_dir = os.path.join(base_dir, 'validation')\n",
        "\n",
        "# Directory with our training cat pictures\n",
        "train_cats_dir = os.path.join(train_dir, 'cats')\n",
        "\n",
        "# Directory with our training dog pictures\n",
        "train_dogs_dir = os.path.join(train_dir, 'dogs')\n",
        "\n",
        "# Directory with our validation cat pictures\n",
        "validation_cats_dir = os.path.join(validation_dir, 'cats')\n",
        "\n",
        "# Directory with our validation dog pictures\n",
        "validation_dogs_dir = os.path.join(validation_dir, 'dogs')"
      ],
      "execution_count": 9,
      "outputs": [
        {
          "output_type": "stream",
          "text": [
            "--2020-04-25 02:24:43--  https://storage.googleapis.com/mledu-datasets/cats_and_dogs_filtered.zip\n",
            "Resolving storage.googleapis.com (storage.googleapis.com)... 172.217.11.176, 2607:f8b0:4007:80e::2010\n",
            "Connecting to storage.googleapis.com (storage.googleapis.com)|172.217.11.176|:443... connected.\n",
            "HTTP request sent, awaiting response... 200 OK\n",
            "Length: 68606236 (65M) [application/zip]\n",
            "Saving to: ‘/tmp/cats_and_dogs_filtered.zip’\n",
            "\n",
            "\r          /tmp/cats   0%[                    ]       0  --.-KB/s               \r         /tmp/cats_  80%[===============>    ]  52.90M   264MB/s               \r/tmp/cats_and_dogs_ 100%[===================>]  65.43M   282MB/s    in 0.2s    \n",
            "\n",
            "2020-04-25 02:24:43 (282 MB/s) - ‘/tmp/cats_and_dogs_filtered.zip’ saved [68606236/68606236]\n",
            "\n"
          ],
          "name": "stdout"
        }
      ]
    },
    {
      "cell_type": "code",
      "metadata": {
        "id": "0u9dAjkC698O",
        "colab_type": "code",
        "colab": {
          "base_uri": "https://localhost:8080/",
          "height": 51
        },
        "outputId": "a84c601a-fe7b-4521-ee4f-171a82e15909"
      },
      "source": [
        "# Load the conv base and freeze it\n",
        "conv_base = DenseNet121(\n",
        "    weights='imagenet', \n",
        "    include_top=False, \n",
        "    input_shape=((150, 150, 3))\n",
        ")\n",
        "conv_base.trainable = False\n",
        "\n",
        "# Concatenate the convolutional base and densely connected layers\n",
        "model = models.Sequential()\n",
        "model.add(conv_base)\n",
        "model.add(layers.Flatten())\n",
        "model.add(layers.Dense(256, activation='relu'))\n",
        "model.add(layers.Dense(4, activation='relu'))\n",
        "model.add(layers.Dense(1, activation='sigmoid'))"
      ],
      "execution_count": 10,
      "outputs": [
        {
          "output_type": "stream",
          "text": [
            "Downloading data from https://github.com/keras-team/keras-applications/releases/download/densenet/densenet121_weights_tf_dim_ordering_tf_kernels_notop.h5\n",
            "29089792/29084464 [==============================] - 1s 0us/step\n"
          ],
          "name": "stdout"
        }
      ]
    },
    {
      "cell_type": "markdown",
      "metadata": {
        "id": "ukF2KB8o8nc8",
        "colab_type": "text"
      },
      "source": [
        "### Train the model end to end with frozen convolutional base"
      ]
    },
    {
      "cell_type": "code",
      "metadata": {
        "id": "RSf4_fRO8mp-",
        "colab_type": "code",
        "colab": {
          "base_uri": "https://localhost:8080/",
          "height": 391
        },
        "outputId": "767d917f-5e64-402a-cd5d-8c30f2af0513"
      },
      "source": [
        "from keras.preprocessing.image import ImageDataGenerator\n",
        "from keras import optimizers\n",
        "\n",
        "# data augmentation\n",
        "\n",
        "train_datagen = ImageDataGenerator(\n",
        "    rescale=1./255, \n",
        "    rotation_range=40,\n",
        "    width_shift_range=0.2,\n",
        "    height_shift_range=0.2,\n",
        "    shear_range=0.2,\n",
        "    zoom_range=0.2,\n",
        "    horizontal_flip=True,\n",
        "    fill_mode='nearest'\n",
        ")\n",
        "\n",
        "train_generator = train_datagen.flow_from_directory(\n",
        "    train_dir,\n",
        "    target_size=(150, 150),\n",
        "    batch_size=20,\n",
        "    class_mode='binary')\n",
        "\n",
        "validation_datagen = ImageDataGenerator(rescale=1./255)\n",
        "\n",
        "validation_generator = validation_datagen.flow_from_directory(\n",
        "    validation_dir,\n",
        "    target_size=(150, 150),\n",
        "    batch_size=20,\n",
        "    class_mode='binary')\n",
        "\n",
        "# compile model\n",
        "\n",
        "model.compile(\n",
        "    loss='binary_crossentropy', \n",
        "    optimizer=optimizers.RMSprop(lr=2e-5), \n",
        "    metrics=['acc'])\n",
        "\n",
        "# train\n",
        "\n",
        "history = model.fit_generator(\n",
        "    train_generator,\n",
        "    steps_per_epoch=100,\n",
        "    epochs=10,\n",
        "    validation_data=validation_generator,\n",
        "    validation_steps=50\n",
        ")"
      ],
      "execution_count": 11,
      "outputs": [
        {
          "output_type": "stream",
          "text": [
            "Found 2000 images belonging to 2 classes.\n",
            "Found 1000 images belonging to 2 classes.\n",
            "Epoch 1/10\n",
            "100/100 [==============================] - 35s 354ms/step - loss: 0.4230 - acc: 0.7915 - val_loss: 0.1561 - val_acc: 0.9590\n",
            "Epoch 2/10\n",
            "100/100 [==============================] - 22s 223ms/step - loss: 0.2666 - acc: 0.8875 - val_loss: 0.2062 - val_acc: 0.9450\n",
            "Epoch 3/10\n",
            "100/100 [==============================] - 22s 221ms/step - loss: 0.2283 - acc: 0.8965 - val_loss: 0.0245 - val_acc: 0.9620\n",
            "Epoch 4/10\n",
            "100/100 [==============================] - 22s 220ms/step - loss: 0.2161 - acc: 0.9160 - val_loss: 7.9320e-04 - val_acc: 0.9410\n",
            "Epoch 5/10\n",
            "100/100 [==============================] - 22s 222ms/step - loss: 0.2319 - acc: 0.8980 - val_loss: 0.2274 - val_acc: 0.9520\n",
            "Epoch 6/10\n",
            "100/100 [==============================] - 22s 224ms/step - loss: 0.2016 - acc: 0.9150 - val_loss: 0.0703 - val_acc: 0.9280\n",
            "Epoch 7/10\n",
            "100/100 [==============================] - 22s 221ms/step - loss: 0.1853 - acc: 0.9265 - val_loss: 0.1718 - val_acc: 0.9650\n",
            "Epoch 8/10\n",
            "100/100 [==============================] - 22s 220ms/step - loss: 0.2170 - acc: 0.9080 - val_loss: 0.0037 - val_acc: 0.9590\n",
            "Epoch 9/10\n",
            "100/100 [==============================] - 22s 222ms/step - loss: 0.1851 - acc: 0.9225 - val_loss: 0.7567 - val_acc: 0.9420\n",
            "Epoch 10/10\n",
            "100/100 [==============================] - 22s 222ms/step - loss: 0.1991 - acc: 0.9100 - val_loss: 0.2591 - val_acc: 0.9320\n"
          ],
          "name": "stdout"
        }
      ]
    },
    {
      "cell_type": "markdown",
      "metadata": {
        "id": "ser44r-1Dz9M",
        "colab_type": "text"
      },
      "source": [
        "### Display curves of loss and accuracy during training"
      ]
    },
    {
      "cell_type": "code",
      "metadata": {
        "id": "5mLsOkxiEYWV",
        "colab_type": "code",
        "colab": {
          "base_uri": "https://localhost:8080/",
          "height": 545
        },
        "outputId": "cdd8e2be-baf8-4d8d-e443-68d3623f7fae"
      },
      "source": [
        "%matplotlib inline\n",
        "\n",
        "import matplotlib.pyplot as plt\n",
        "\n",
        "acc = history.history['acc']\n",
        "val_acc = history.history['val_acc']\n",
        "\n",
        "loss = history.history['loss']\n",
        "val_loss = history.history['val_loss']\n",
        "\n",
        "epochs = range(1, len(acc) + 1)\n",
        "\n",
        "# training and validation accuracy\n",
        "\n",
        "plt.plot(epochs, acc, 'bo', label='training acc')\n",
        "plt.plot(epochs, val_acc, 'b', label='validation acc')\n",
        "plt.title('training and validation accuracy')\n",
        "plt.legend()\n",
        "\n",
        "plt.figure()\n",
        "\n",
        "# training and validation loss\n",
        "\n",
        "plt.plot(epochs, loss, 'bo', label='training loss')\n",
        "plt.plot(epochs, val_loss, 'b', label='validation loss')\n",
        "plt.title('training and validation loss')\n",
        "plt.legend()\n",
        "\n",
        "plt.show()"
      ],
      "execution_count": 12,
      "outputs": [
        {
          "output_type": "display_data",
          "data": {
            "image/png": "[encoded data removed]",
            "text/plain": [
              "<Figure size 432x288 with 1 Axes>"
            ]
          },
          "metadata": {
            "tags": [],
            "needs_background": "light"
          }
        },
        {
          "output_type": "display_data",
          "data": {
            "image/png": "[encoded data removed]",
            "text/plain": [
              "<Figure size 432x288 with 1 Axes>"
            ]
          },
          "metadata": {
            "tags": [],
            "needs_background": "light"
          }
        }
      ]
    },
    {
      "cell_type": "markdown",
      "metadata": {
        "id": "4OUr2ZOwEzuV",
        "colab_type": "text"
      },
      "source": [
        "### Fine-tuning"
      ]
    },
    {
      "cell_type": "markdown",
      "metadata": {
        "id": "-iBDDhulE1U8",
        "colab_type": "text"
      },
      "source": [
        "Show the model's layers"
      ]
    },
    {
      "cell_type": "code",
      "metadata": {
        "id": "9z7d4FmUE6WO",
        "colab_type": "code",
        "colab": {
          "base_uri": "https://localhost:8080/",
          "height": 1000
        },
        "outputId": "88ddd861-f41e-40b1-be3a-238923d7f61c"
      },
      "source": [
        "for layer in conv_base.layers:\n",
        "  print(layer.name)"
      ],
      "execution_count": 13,
      "outputs": [
        {
          "output_type": "stream",
          "text": [
            "input_1\n",
            "zero_padding2d_1\n",
            "conv1/conv\n",
            "conv1/bn\n",
            "conv1/relu\n",
            "zero_padding2d_2\n",
            "pool1\n",
            "conv2_block1_0_bn\n",
            "conv2_block1_0_relu\n",
            "conv2_block1_1_conv\n",
            "conv2_block1_1_bn\n",
            "conv2_block1_1_relu\n",
            "conv2_block1_2_conv\n",
            "conv2_block1_concat\n",
            "conv2_block2_0_bn\n",
            "conv2_block2_0_relu\n",
            "conv2_block2_1_conv\n",
            "conv2_block2_1_bn\n",
            "conv2_block2_1_relu\n",
            "conv2_block2_2_conv\n",
            "conv2_block2_concat\n",
            "conv2_block3_0_bn\n",
            "conv2_block3_0_relu\n",
            "conv2_block3_1_conv\n",
            "conv2_block3_1_bn\n",
            "conv2_block3_1_relu\n",
            "conv2_block3_2_conv\n",
            "conv2_block3_concat\n",
            "conv2_block4_0_bn\n",
            "conv2_block4_0_relu\n",
            "conv2_block4_1_conv\n",
            "conv2_block4_1_bn\n",
            "conv2_block4_1_relu\n",
            "conv2_block4_2_conv\n",
            "conv2_block4_concat\n",
            "conv2_block5_0_bn\n",
            "conv2_block5_0_relu\n",
            "conv2_block5_1_conv\n",
            "conv2_block5_1_bn\n",
            "conv2_block5_1_relu\n",
            "conv2_block5_2_conv\n",
            "conv2_block5_concat\n",
            "conv2_block6_0_bn\n",
            "conv2_block6_0_relu\n",
            "conv2_block6_1_conv\n",
            "conv2_block6_1_bn\n",
            "conv2_block6_1_relu\n",
            "conv2_block6_2_conv\n",
            "conv2_block6_concat\n",
            "pool2_bn\n",
            "pool2_relu\n",
            "pool2_conv\n",
            "pool2_pool\n",
            "conv3_block1_0_bn\n",
            "conv3_block1_0_relu\n",
            "conv3_block1_1_conv\n",
            "conv3_block1_1_bn\n",
            "conv3_block1_1_relu\n",
            "conv3_block1_2_conv\n",
            "conv3_block1_concat\n",
            "conv3_block2_0_bn\n",
            "conv3_block2_0_relu\n",
            "conv3_block2_1_conv\n",
            "conv3_block2_1_bn\n",
            "conv3_block2_1_relu\n",
            "conv3_block2_2_conv\n",
            "conv3_block2_concat\n",
            "conv3_block3_0_bn\n",
            "conv3_block3_0_relu\n",
            "conv3_block3_1_conv\n",
            "conv3_block3_1_bn\n",
            "conv3_block3_1_relu\n",
            "conv3_block3_2_conv\n",
            "conv3_block3_concat\n",
            "conv3_block4_0_bn\n",
            "conv3_block4_0_relu\n",
            "conv3_block4_1_conv\n",
            "conv3_block4_1_bn\n",
            "conv3_block4_1_relu\n",
            "conv3_block4_2_conv\n",
            "conv3_block4_concat\n",
            "conv3_block5_0_bn\n",
            "conv3_block5_0_relu\n",
            "conv3_block5_1_conv\n",
            "conv3_block5_1_bn\n",
            "conv3_block5_1_relu\n",
            "conv3_block5_2_conv\n",
            "conv3_block5_concat\n",
            "conv3_block6_0_bn\n",
            "conv3_block6_0_relu\n",
            "conv3_block6_1_conv\n",
            "conv3_block6_1_bn\n",
            "conv3_block6_1_relu\n",
            "conv3_block6_2_conv\n",
            "conv3_block6_concat\n",
            "conv3_block7_0_bn\n",
            "conv3_block7_0_relu\n",
            "conv3_block7_1_conv\n",
            "conv3_block7_1_bn\n",
            "conv3_block7_1_relu\n",
            "conv3_block7_2_conv\n",
            "conv3_block7_concat\n",
            "conv3_block8_0_bn\n",
            "conv3_block8_0_relu\n",
            "conv3_block8_1_conv\n",
            "conv3_block8_1_bn\n",
            "conv3_block8_1_relu\n",
            "conv3_block8_2_conv\n",
            "conv3_block8_concat\n",
            "conv3_block9_0_bn\n",
            "conv3_block9_0_relu\n",
            "conv3_block9_1_conv\n",
            "conv3_block9_1_bn\n",
            "conv3_block9_1_relu\n",
            "conv3_block9_2_conv\n",
            "conv3_block9_concat\n",
            "conv3_block10_0_bn\n",
            "conv3_block10_0_relu\n",
            "conv3_block10_1_conv\n",
            "conv3_block10_1_bn\n",
            "conv3_block10_1_relu\n",
            "conv3_block10_2_conv\n",
            "conv3_block10_concat\n",
            "conv3_block11_0_bn\n",
            "conv3_block11_0_relu\n",
            "conv3_block11_1_conv\n",
            "conv3_block11_1_bn\n",
            "conv3_block11_1_relu\n",
            "conv3_block11_2_conv\n",
            "conv3_block11_concat\n",
            "conv3_block12_0_bn\n",
            "conv3_block12_0_relu\n",
            "conv3_block12_1_conv\n",
            "conv3_block12_1_bn\n",
            "conv3_block12_1_relu\n",
            "conv3_block12_2_conv\n",
            "conv3_block12_concat\n",
            "pool3_bn\n",
            "pool3_relu\n",
            "pool3_conv\n",
            "pool3_pool\n",
            "conv4_block1_0_bn\n",
            "conv4_block1_0_relu\n",
            "conv4_block1_1_conv\n",
            "conv4_block1_1_bn\n",
            "conv4_block1_1_relu\n",
            "conv4_block1_2_conv\n",
            "conv4_block1_concat\n",
            "conv4_block2_0_bn\n",
            "conv4_block2_0_relu\n",
            "conv4_block2_1_conv\n",
            "conv4_block2_1_bn\n",
            "conv4_block2_1_relu\n",
            "conv4_block2_2_conv\n",
            "conv4_block2_concat\n",
            "conv4_block3_0_bn\n",
            "conv4_block3_0_relu\n",
            "conv4_block3_1_conv\n",
            "conv4_block3_1_bn\n",
            "conv4_block3_1_relu\n",
            "conv4_block3_2_conv\n",
            "conv4_block3_concat\n",
            "conv4_block4_0_bn\n",
            "conv4_block4_0_relu\n",
            "conv4_block4_1_conv\n",
            "conv4_block4_1_bn\n",
            "conv4_block4_1_relu\n",
            "conv4_block4_2_conv\n",
            "conv4_block4_concat\n",
            "conv4_block5_0_bn\n",
            "conv4_block5_0_relu\n",
            "conv4_block5_1_conv\n",
            "conv4_block5_1_bn\n",
            "conv4_block5_1_relu\n",
            "conv4_block5_2_conv\n",
            "conv4_block5_concat\n",
            "conv4_block6_0_bn\n",
            "conv4_block6_0_relu\n",
            "conv4_block6_1_conv\n",
            "conv4_block6_1_bn\n",
            "conv4_block6_1_relu\n",
            "conv4_block6_2_conv\n",
            "conv4_block6_concat\n",
            "conv4_block7_0_bn\n",
            "conv4_block7_0_relu\n",
            "conv4_block7_1_conv\n",
            "conv4_block7_1_bn\n",
            "conv4_block7_1_relu\n",
            "conv4_block7_2_conv\n",
            "conv4_block7_concat\n",
            "conv4_block8_0_bn\n",
            "conv4_block8_0_relu\n",
            "conv4_block8_1_conv\n",
            "conv4_block8_1_bn\n",
            "conv4_block8_1_relu\n",
            "conv4_block8_2_conv\n",
            "conv4_block8_concat\n",
            "conv4_block9_0_bn\n",
            "conv4_block9_0_relu\n",
            "conv4_block9_1_conv\n",
            "conv4_block9_1_bn\n",
            "conv4_block9_1_relu\n",
            "conv4_block9_2_conv\n",
            "conv4_block9_concat\n",
            "conv4_block10_0_bn\n",
            "conv4_block10_0_relu\n",
            "conv4_block10_1_conv\n",
            "conv4_block10_1_bn\n",
            "conv4_block10_1_relu\n",
            "conv4_block10_2_conv\n",
            "conv4_block10_concat\n",
            "conv4_block11_0_bn\n",
            "conv4_block11_0_relu\n",
            "conv4_block11_1_conv\n",
            "conv4_block11_1_bn\n",
            "conv4_block11_1_relu\n",
            "conv4_block11_2_conv\n",
            "conv4_block11_concat\n",
            "conv4_block12_0_bn\n",
            "conv4_block12_0_relu\n",
            "conv4_block12_1_conv\n",
            "conv4_block12_1_bn\n",
            "conv4_block12_1_relu\n",
            "conv4_block12_2_conv\n",
            "conv4_block12_concat\n",
            "conv4_block13_0_bn\n",
            "conv4_block13_0_relu\n",
            "conv4_block13_1_conv\n",
            "conv4_block13_1_bn\n",
            "conv4_block13_1_relu\n",
            "conv4_block13_2_conv\n",
            "conv4_block13_concat\n",
            "conv4_block14_0_bn\n",
            "conv4_block14_0_relu\n",
            "conv4_block14_1_conv\n",
            "conv4_block14_1_bn\n",
            "conv4_block14_1_relu\n",
            "conv4_block14_2_conv\n",
            "conv4_block14_concat\n",
            "conv4_block15_0_bn\n",
            "conv4_block15_0_relu\n",
            "conv4_block15_1_conv\n",
            "conv4_block15_1_bn\n",
            "conv4_block15_1_relu\n",
            "conv4_block15_2_conv\n",
            "conv4_block15_concat\n",
            "conv4_block16_0_bn\n",
            "conv4_block16_0_relu\n",
            "conv4_block16_1_conv\n",
            "conv4_block16_1_bn\n",
            "conv4_block16_1_relu\n",
            "conv4_block16_2_conv\n",
            "conv4_block16_concat\n",
            "conv4_block17_0_bn\n",
            "conv4_block17_0_relu\n",
            "conv4_block17_1_conv\n",
            "conv4_block17_1_bn\n",
            "conv4_block17_1_relu\n",
            "conv4_block17_2_conv\n",
            "conv4_block17_concat\n",
            "conv4_block18_0_bn\n",
            "conv4_block18_0_relu\n",
            "conv4_block18_1_conv\n",
            "conv4_block18_1_bn\n",
            "conv4_block18_1_relu\n",
            "conv4_block18_2_conv\n",
            "conv4_block18_concat\n",
            "conv4_block19_0_bn\n",
            "conv4_block19_0_relu\n",
            "conv4_block19_1_conv\n",
            "conv4_block19_1_bn\n",
            "conv4_block19_1_relu\n",
            "conv4_block19_2_conv\n",
            "conv4_block19_concat\n",
            "conv4_block20_0_bn\n",
            "conv4_block20_0_relu\n",
            "conv4_block20_1_conv\n",
            "conv4_block20_1_bn\n",
            "conv4_block20_1_relu\n",
            "conv4_block20_2_conv\n",
            "conv4_block20_concat\n",
            "conv4_block21_0_bn\n",
            "conv4_block21_0_relu\n",
            "conv4_block21_1_conv\n",
            "conv4_block21_1_bn\n",
            "conv4_block21_1_relu\n",
            "conv4_block21_2_conv\n",
            "conv4_block21_concat\n",
            "conv4_block22_0_bn\n",
            "conv4_block22_0_relu\n",
            "conv4_block22_1_conv\n",
            "conv4_block22_1_bn\n",
            "conv4_block22_1_relu\n",
            "conv4_block22_2_conv\n",
            "conv4_block22_concat\n",
            "conv4_block23_0_bn\n",
            "conv4_block23_0_relu\n",
            "conv4_block23_1_conv\n",
            "conv4_block23_1_bn\n",
            "conv4_block23_1_relu\n",
            "conv4_block23_2_conv\n",
            "conv4_block23_concat\n",
            "conv4_block24_0_bn\n",
            "conv4_block24_0_relu\n",
            "conv4_block24_1_conv\n",
            "conv4_block24_1_bn\n",
            "conv4_block24_1_relu\n",
            "conv4_block24_2_conv\n",
            "conv4_block24_concat\n",
            "pool4_bn\n",
            "pool4_relu\n",
            "pool4_conv\n",
            "pool4_pool\n",
            "conv5_block1_0_bn\n",
            "conv5_block1_0_relu\n",
            "conv5_block1_1_conv\n",
            "conv5_block1_1_bn\n",
            "conv5_block1_1_relu\n",
            "conv5_block1_2_conv\n",
            "conv5_block1_concat\n",
            "conv5_block2_0_bn\n",
            "conv5_block2_0_relu\n",
            "conv5_block2_1_conv\n",
            "conv5_block2_1_bn\n",
            "conv5_block2_1_relu\n",
            "conv5_block2_2_conv\n",
            "conv5_block2_concat\n",
            "conv5_block3_0_bn\n",
            "conv5_block3_0_relu\n",
            "conv5_block3_1_conv\n",
            "conv5_block3_1_bn\n",
            "conv5_block3_1_relu\n",
            "conv5_block3_2_conv\n",
            "conv5_block3_concat\n",
            "conv5_block4_0_bn\n",
            "conv5_block4_0_relu\n",
            "conv5_block4_1_conv\n",
            "conv5_block4_1_bn\n",
            "conv5_block4_1_relu\n",
            "conv5_block4_2_conv\n",
            "conv5_block4_concat\n",
            "conv5_block5_0_bn\n",
            "conv5_block5_0_relu\n",
            "conv5_block5_1_conv\n",
            "conv5_block5_1_bn\n",
            "conv5_block5_1_relu\n",
            "conv5_block5_2_conv\n",
            "conv5_block5_concat\n",
            "conv5_block6_0_bn\n",
            "conv5_block6_0_relu\n",
            "conv5_block6_1_conv\n",
            "conv5_block6_1_bn\n",
            "conv5_block6_1_relu\n",
            "conv5_block6_2_conv\n",
            "conv5_block6_concat\n",
            "conv5_block7_0_bn\n",
            "conv5_block7_0_relu\n",
            "conv5_block7_1_conv\n",
            "conv5_block7_1_bn\n",
            "conv5_block7_1_relu\n",
            "conv5_block7_2_conv\n",
            "conv5_block7_concat\n",
            "conv5_block8_0_bn\n",
            "conv5_block8_0_relu\n",
            "conv5_block8_1_conv\n",
            "conv5_block8_1_bn\n",
            "conv5_block8_1_relu\n",
            "conv5_block8_2_conv\n",
            "conv5_block8_concat\n",
            "conv5_block9_0_bn\n",
            "conv5_block9_0_relu\n",
            "conv5_block9_1_conv\n",
            "conv5_block9_1_bn\n",
            "conv5_block9_1_relu\n",
            "conv5_block9_2_conv\n",
            "conv5_block9_concat\n",
            "conv5_block10_0_bn\n",
            "conv5_block10_0_relu\n",
            "conv5_block10_1_conv\n",
            "conv5_block10_1_bn\n",
            "conv5_block10_1_relu\n",
            "conv5_block10_2_conv\n",
            "conv5_block10_concat\n",
            "conv5_block11_0_bn\n",
            "conv5_block11_0_relu\n",
            "conv5_block11_1_conv\n",
            "conv5_block11_1_bn\n",
            "conv5_block11_1_relu\n",
            "conv5_block11_2_conv\n",
            "conv5_block11_concat\n",
            "conv5_block12_0_bn\n",
            "conv5_block12_0_relu\n",
            "conv5_block12_1_conv\n",
            "conv5_block12_1_bn\n",
            "conv5_block12_1_relu\n",
            "conv5_block12_2_conv\n",
            "conv5_block12_concat\n",
            "conv5_block13_0_bn\n",
            "conv5_block13_0_relu\n",
            "conv5_block13_1_conv\n",
            "conv5_block13_1_bn\n",
            "conv5_block13_1_relu\n",
            "conv5_block13_2_conv\n",
            "conv5_block13_concat\n",
            "conv5_block14_0_bn\n",
            "conv5_block14_0_relu\n",
            "conv5_block14_1_conv\n",
            "conv5_block14_1_bn\n",
            "conv5_block14_1_relu\n",
            "conv5_block14_2_conv\n",
            "conv5_block14_concat\n",
            "conv5_block15_0_bn\n",
            "conv5_block15_0_relu\n",
            "conv5_block15_1_conv\n",
            "conv5_block15_1_bn\n",
            "conv5_block15_1_relu\n",
            "conv5_block15_2_conv\n",
            "conv5_block15_concat\n",
            "conv5_block16_0_bn\n",
            "conv5_block16_0_relu\n",
            "conv5_block16_1_conv\n",
            "conv5_block16_1_bn\n",
            "conv5_block16_1_relu\n",
            "conv5_block16_2_conv\n",
            "conv5_block16_concat\n",
            "bn\n",
            "relu\n"
          ],
          "name": "stdout"
        }
      ]
    },
    {
      "cell_type": "markdown",
      "metadata": {
        "id": "sbgDgcQQGO5F",
        "colab_type": "text"
      },
      "source": [
        "I will be unfreezing the top 30 layers of the conv base, that is, the layer named conv5_block13_0_bn and all layers above it."
      ]
    },
    {
      "cell_type": "code",
      "metadata": {
        "id": "tg900h1eGf3E",
        "colab_type": "code",
        "colab": {}
      },
      "source": [
        "conv_base.trainable = True\n",
        "\n",
        "set_trainable = False\n",
        "for layer in conv_base.layers:\n",
        "  if layer.name == 'conv5_block13_0_bn':\n",
        "    set_trainable = True\n",
        "  if set_trainable:\n",
        "    layer.trainable = True\n",
        "  else:\n",
        "    layer.trainable = False"
      ],
      "execution_count": 0,
      "outputs": []
    },
    {
      "cell_type": "code",
      "metadata": {
        "id": "CWeAGlH4Gvwp",
        "colab_type": "code",
        "colab": {
          "base_uri": "https://localhost:8080/",
          "height": 357
        },
        "outputId": "9afe467b-cfb5-4ecd-ceab-896cbfa7bef1"
      },
      "source": [
        "# compile model\n",
        "\n",
        "model.compile(\n",
        "    loss='binary_crossentropy',\n",
        "    optimizer=optimizers.RMSprop(lr=1e-5), \n",
        "    metrics=['acc'])\n",
        "\n",
        "# train\n",
        "\n",
        "history = model.fit_generator(\n",
        "    train_generator,\n",
        "    steps_per_epoch=100,\n",
        "    epochs=10,\n",
        "    validation_data=validation_generator,\n",
        "    validation_steps=50)"
      ],
      "execution_count": 15,
      "outputs": [
        {
          "output_type": "stream",
          "text": [
            "Epoch 1/10\n",
            "100/100 [==============================] - 35s 347ms/step - loss: 0.1741 - acc: 0.9290 - val_loss: 0.0024 - val_acc: 0.9610\n",
            "Epoch 2/10\n",
            "100/100 [==============================] - 23s 234ms/step - loss: 0.1724 - acc: 0.9320 - val_loss: 0.1024 - val_acc: 0.9500\n",
            "Epoch 3/10\n",
            "100/100 [==============================] - 24s 235ms/step - loss: 0.1940 - acc: 0.9135 - val_loss: 0.2835 - val_acc: 0.9590\n",
            "Epoch 4/10\n",
            "100/100 [==============================] - 23s 233ms/step - loss: 0.1747 - acc: 0.9285 - val_loss: 0.1558 - val_acc: 0.9620\n",
            "Epoch 5/10\n",
            "100/100 [==============================] - 23s 235ms/step - loss: 0.1742 - acc: 0.9305 - val_loss: 0.0493 - val_acc: 0.9620\n",
            "Epoch 6/10\n",
            "100/100 [==============================] - 23s 233ms/step - loss: 0.1545 - acc: 0.9400 - val_loss: 0.0671 - val_acc: 0.9610\n",
            "Epoch 7/10\n",
            "100/100 [==============================] - 23s 234ms/step - loss: 0.1650 - acc: 0.9340 - val_loss: 0.0963 - val_acc: 0.9610\n",
            "Epoch 8/10\n",
            "100/100 [==============================] - 23s 234ms/step - loss: 0.1866 - acc: 0.9295 - val_loss: 0.0050 - val_acc: 0.9590\n",
            "Epoch 9/10\n",
            "100/100 [==============================] - 23s 233ms/step - loss: 0.1682 - acc: 0.9295 - val_loss: 0.0911 - val_acc: 0.9580\n",
            "Epoch 10/10\n",
            "100/100 [==============================] - 23s 232ms/step - loss: 0.1611 - acc: 0.9325 - val_loss: 0.1340 - val_acc: 0.9620\n"
          ],
          "name": "stdout"
        }
      ]
    },
    {
      "cell_type": "markdown",
      "metadata": {
        "id": "y2pN9ZfxGymE",
        "colab_type": "text"
      },
      "source": [
        "### Display learning curves during fine-tuning"
      ]
    },
    {
      "cell_type": "code",
      "metadata": {
        "id": "wy_KAzxuHF_F",
        "colab_type": "code",
        "colab": {
          "base_uri": "https://localhost:8080/",
          "height": 545
        },
        "outputId": "df770ffd-8a72-4456-e72e-227c551c050d"
      },
      "source": [
        "%matplotlib inline\n",
        "\n",
        "import matplotlib.pyplot as plt\n",
        "\n",
        "acc = history.history['acc']\n",
        "val_acc = history.history['val_acc']\n",
        "\n",
        "loss = history.history['loss']\n",
        "val_loss = history.history['val_loss']\n",
        "\n",
        "epochs = range(1, len(acc) + 1)\n",
        "\n",
        "# training and validation accuracy\n",
        "\n",
        "plt.plot(epochs, acc, 'bo', label='training acc')\n",
        "plt.plot(epochs, val_acc, 'b', label='validation acc')\n",
        "plt.title('training and validation accuracy')\n",
        "plt.legend()\n",
        "\n",
        "plt.figure()\n",
        "\n",
        "# training and validation loss\n",
        "\n",
        "plt.plot(epochs, loss, 'bo', label='training loss')\n",
        "plt.plot(epochs, val_loss, 'b', label='validation loss')\n",
        "plt.title('training and validation loss')\n",
        "plt.legend()\n",
        "\n",
        "plt.show()"
      ],
      "execution_count": 16,
      "outputs": [
        {
          "output_type": "display_data",
          "data": {
            "image/png": "[encoded data removed]",
            "text/plain": [
              "<Figure size 432x288 with 1 Axes>"
            ]
          },
          "metadata": {
            "tags": [],
            "needs_background": "light"
          }
        },
        {
          "output_type": "display_data",
          "data": {
            "image/png": "[encoded data removed]",
            "text/plain": [
              "<Figure size 432x288 with 1 Axes>"
            ]
          },
          "metadata": {
            "tags": [],
            "needs_background": "light"
          }
        }
      ]
    },
    {
      "cell_type": "markdown",
      "metadata": {
        "id": "5-h5J8q2HJev",
        "colab_type": "text"
      },
      "source": [
        "### Print out validation loss and accuracy"
      ]
    },
    {
      "cell_type": "code",
      "metadata": {
        "id": "w2DuI_42HUnb",
        "colab_type": "code",
        "colab": {}
      },
      "source": [
        "val_loss, val_acc = model.evaluate_generator(validation_generator, steps=50)"
      ],
      "execution_count": 0,
      "outputs": []
    },
    {
      "cell_type": "code",
      "metadata": {
        "id": "bzhPJGTMHWPd",
        "colab_type": "code",
        "colab": {
          "base_uri": "https://localhost:8080/",
          "height": 51
        },
        "outputId": "33029e5c-d3a7-4524-b0f3-5e168fb35bd2"
      },
      "source": [
        "print(\"Validation loss:\", val_loss)\n",
        "print(\"Validation accuracy:\", val_acc)"
      ],
      "execution_count": 18,
      "outputs": [
        {
          "output_type": "stream",
          "text": [
            "Validation loss: 0.1605813205242157\n",
            "Validation accuracy: 0.9620000123977661\n"
          ],
          "name": "stdout"
        }
      ]
    },
    {
      "cell_type": "markdown",
      "metadata": {
        "id": "5913KYZqApXZ",
        "colab_type": "text"
      },
      "source": [
        "# 7. Other"
      ]
    },
    {
      "cell_type": "markdown",
      "metadata": {
        "id": "yVVah_FuAsF5",
        "colab_type": "text"
      },
      "source": [
        "Other things that I learned in this course"
      ]
    },
    {
      "cell_type": "markdown",
      "metadata": {
        "id": "8fEDbweWAu8c",
        "colab_type": "text"
      },
      "source": [
        "## Numpy"
      ]
    },
    {
      "cell_type": "markdown",
      "metadata": {
        "id": "dF6p31BDAwoA",
        "colab_type": "text"
      },
      "source": [
        "Numpy was really useful. It has lots of functions that can be used to vectorize code. Also, operations can be vectorized and arrays can kind of be treated like single values."
      ]
    },
    {
      "cell_type": "code",
      "metadata": {
        "id": "2Yz6lkRtA9tO",
        "colab_type": "code",
        "colab": {
          "base_uri": "https://localhost:8080/",
          "height": 51
        },
        "outputId": "d4ba8c95-ce85-4114-9c0e-a8d5bb3d97e0"
      },
      "source": [
        "array1 = np.random.normal(100, 10, 10)\n",
        "array2 = np.random.uniform(50, 10, 10)\n",
        "print(array1 + array2)"
      ],
      "execution_count": 19,
      "outputs": [
        {
          "output_type": "stream",
          "text": [
            "[130.00163545 124.1193325  119.73565575 106.61700843 153.62601191\n",
            " 142.64875407 125.45295791 165.06353492  98.81273069 120.40136668]\n"
          ],
          "name": "stdout"
        }
      ]
    },
    {
      "cell_type": "code",
      "metadata": {
        "id": "xw_E6wh9B1kA",
        "colab_type": "code",
        "colab": {
          "base_uri": "https://localhost:8080/",
          "height": 51
        },
        "outputId": "0e348da6-e367-4557-de0d-7d9b0e92aa4f"
      },
      "source": [
        "from time import time\n",
        "\n",
        "x = np.zeros((1000000,))\n",
        "\n",
        "start = time()\n",
        "for i in range(1000000):\n",
        "  x[i] = 1\n",
        "print(time() - start)\n",
        "\n",
        "x = np.zeros((1000000,))\n",
        "start = time()\n",
        "x.fill(1)\n",
        "print(time() - start)\n",
        "\n"
      ],
      "execution_count": 20,
      "outputs": [
        {
          "output_type": "stream",
          "text": [
            "0.13022470474243164\n",
            "0.0005779266357421875\n"
          ],
          "name": "stdout"
        }
      ]
    },
    {
      "cell_type": "markdown",
      "metadata": {
        "id": "Ub3zozDgBnMe",
        "colab_type": "text"
      },
      "source": [
        "## Matplotlib\n",
        "\n",
        "Matplotlib, specifically pyplot, was really helpful with a lot of the assignments. I learned about plotting both in 2d and 3d."
      ]
    },
    {
      "cell_type": "markdown",
      "metadata": {
        "id": "uUF3be28FMjc",
        "colab_type": "text"
      },
      "source": [
        "## LaTeX"
      ]
    },
    {
      "cell_type": "markdown",
      "metadata": {
        "id": "6ml8XEtWFOcS",
        "colab_type": "text"
      },
      "source": [
        "I also learned about and used LaTeX in assignments."
      ]
    },
    {
      "cell_type": "markdown",
      "metadata": {
        "id": "2EHo8NgxD4ud",
        "colab_type": "text"
      },
      "source": [
        "# Sources / Links\n",
        "\n",
        "https://github.com/schneider128k/machine_learning_course/blob/master/slides/1_a_slides.pdf\n",
        "\n",
        "https://towardsdatascience.com/supervised-vs-unsupervised-learning-14f68e32ea8d?gi=7cd0d12b1ace\n",
        "\n",
        "https://machinelearningmastery.com/loss-and-loss-functions-for-training-deep-learning-neural-networks/\n",
        "\n",
        "https://colab.research.google.com/github/schneider128k/machine_learning_course/blob/master/linear_regression_keras.ipynb\n",
        "\n",
        "https://github.com/schneider128k/machine_learning_course/blob/master/slides/2_f_slides.pdf\n",
        "\n",
        "https://stackoverflow.com/questions/12864294/adding-an-arbitrary-line-to-a-matplotlib-plot-in-ipython-notebook\n",
        "\n",
        "https://en.wikipedia.org/wiki/Deep_learning\n",
        "\n",
        "https://github.com/schneider128k/machine_learning_course/blob/master/slides/logistic_regression.pdf\n",
        "\n",
        "https://pythonspot.com/3d-scatterplot/\n",
        "\n",
        "https://github.com/schneider128k/machine_learning_course/blob/master/slides/CNN_slides.pdf\n",
        "\n",
        "https://github.com/schneider128k/machine_learning_course/blob/master/keras_basics.md\n",
        "\n",
        "https://github.com/schneider128k/machine_learning_course/blob/master/slides/2_e_slides.pdf\n",
        "\n",
        "https://towardsdatascience.com/train-validation-and-test-sets-72cb40cba9e7\n",
        "\n",
        "https://colab.research.google.com/drive/1F-RWvoxH8MmT7c1UmNy41iuOp-ejiLoF\n",
        "\n",
        "https://en.wikipedia.org/wiki/Hyperparameter_(machine_learning)\n",
        "\n",
        "https://colab.research.google.com/github/schneider128k/machine_learning_course/blob/master/cifar10_dataset.ipynb\n",
        "\n",
        "https://stackoverflow.com/questions/2662140/how-to-measure-running-time-of-algorithms-in-python\n",
        "\n",
        "https://colab.research.google.com/drive/1F-RWvoxH8MmT7c1UmNy41iuOp-ejiLoF\n",
        "\n",
        "The overfitting picture:\n",
        "https://upload.wikimedia.org/wikipedia/commons/1/19/Overfitting.svg\n",
        "\n",
        "By Chabacano - Own work, CC BY-SA 4.0, https://commons.wikimedia.org/w/index.php?curid=3610704"
      ]
    }
  ]
}